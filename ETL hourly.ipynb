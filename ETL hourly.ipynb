{
 "cells": [
  {
   "cell_type": "code",
   "execution_count": 1,
   "metadata": {},
   "outputs": [
    {
     "name": "stderr",
     "output_type": "stream",
     "text": [
      "/Users/juancamilopico/opt/anaconda3/lib/python3.8/site-packages/pandas/core/arrays/datetimes.py:1101: UserWarning: Converting to PeriodArray/Index representation will drop timezone information.\n",
      "  warnings.warn(\n"
     ]
    }
   ],
   "source": [
    "import numpy as np\n",
    "import pandas as pd\n",
    "import datetime as dt\n",
    "import matplotlib as plt\n",
    "\n",
    "import numpy as np\n",
    "import pandas as pd\n",
    "import matplotlib.pyplot as plt\n",
    "#import rpy2.robjects as robjects\n",
    "import statsmodels.api as sm\n",
    "from statsmodels.formula.api import ols\n",
    "from astsadata import *\n",
    "import warnings"
   ]
  },
  {
   "cell_type": "markdown",
   "metadata": {},
   "source": [
    "## 1. Cargar datos"
   ]
  },
  {
   "cell_type": "code",
   "execution_count": 23,
   "metadata": {
    "scrolled": true
   },
   "outputs": [
    {
     "data": {
      "text/html": [
       "<div>\n",
       "<style scoped>\n",
       "    .dataframe tbody tr th:only-of-type {\n",
       "        vertical-align: middle;\n",
       "    }\n",
       "\n",
       "    .dataframe tbody tr th {\n",
       "        vertical-align: top;\n",
       "    }\n",
       "\n",
       "    .dataframe thead th {\n",
       "        text-align: right;\n",
       "    }\n",
       "</style>\n",
       "<table border=\"1\" class=\"dataframe\">\n",
       "  <thead>\n",
       "    <tr style=\"text-align: right;\">\n",
       "      <th></th>\n",
       "      <th>utc_timestamp</th>\n",
       "      <th>AT_load_actual_entsoe_transparency</th>\n",
       "    </tr>\n",
       "  </thead>\n",
       "  <tbody>\n",
       "    <tr>\n",
       "      <th>40000</th>\n",
       "      <td>2019-07-25T15:00:00Z</td>\n",
       "      <td>8172.0</td>\n",
       "    </tr>\n",
       "    <tr>\n",
       "      <th>40001</th>\n",
       "      <td>2019-07-25T16:00:00Z</td>\n",
       "      <td>8107.0</td>\n",
       "    </tr>\n",
       "    <tr>\n",
       "      <th>40002</th>\n",
       "      <td>2019-07-25T17:00:00Z</td>\n",
       "      <td>7781.0</td>\n",
       "    </tr>\n",
       "    <tr>\n",
       "      <th>40003</th>\n",
       "      <td>2019-07-25T18:00:00Z</td>\n",
       "      <td>7436.0</td>\n",
       "    </tr>\n",
       "    <tr>\n",
       "      <th>40004</th>\n",
       "      <td>2019-07-25T19:00:00Z</td>\n",
       "      <td>7219.0</td>\n",
       "    </tr>\n",
       "  </tbody>\n",
       "</table>\n",
       "</div>"
      ],
      "text/plain": [
       "              utc_timestamp  AT_load_actual_entsoe_transparency\n",
       "40000  2019-07-25T15:00:00Z                              8172.0\n",
       "40001  2019-07-25T16:00:00Z                              8107.0\n",
       "40002  2019-07-25T17:00:00Z                              7781.0\n",
       "40003  2019-07-25T18:00:00Z                              7436.0\n",
       "40004  2019-07-25T19:00:00Z                              7219.0"
      ]
     },
     "execution_count": 23,
     "metadata": {},
     "output_type": "execute_result"
    }
   ],
   "source": [
    "data_full = pd.read_csv(\"time_series_60min_singleindex.csv\")\n",
    "data = data_full[['utc_timestamp','AT_load_actual_entsoe_transparency']][40000:].copy()\n",
    "data.head()"
   ]
  },
  {
   "cell_type": "code",
   "execution_count": 24,
   "metadata": {},
   "outputs": [
    {
     "data": {
      "text/plain": [
       "(10401, 2)"
      ]
     },
     "execution_count": 24,
     "metadata": {},
     "output_type": "execute_result"
    }
   ],
   "source": [
    "data.shape"
   ]
  },
  {
   "cell_type": "markdown",
   "metadata": {},
   "source": [
    "1.1. Formato correcto"
   ]
  },
  {
   "cell_type": "code",
   "execution_count": 25,
   "metadata": {
    "scrolled": true
   },
   "outputs": [
    {
     "data": {
      "text/html": [
       "<div>\n",
       "<style scoped>\n",
       "    .dataframe tbody tr th:only-of-type {\n",
       "        vertical-align: middle;\n",
       "    }\n",
       "\n",
       "    .dataframe tbody tr th {\n",
       "        vertical-align: top;\n",
       "    }\n",
       "\n",
       "    .dataframe thead th {\n",
       "        text-align: right;\n",
       "    }\n",
       "</style>\n",
       "<table border=\"1\" class=\"dataframe\">\n",
       "  <thead>\n",
       "    <tr style=\"text-align: right;\">\n",
       "      <th></th>\n",
       "      <th>utc_timestamp</th>\n",
       "      <th>AT_load_actual_entsoe_transparency</th>\n",
       "      <th>local_timestamp</th>\n",
       "    </tr>\n",
       "  </thead>\n",
       "  <tbody>\n",
       "    <tr>\n",
       "      <th>40000</th>\n",
       "      <td>2019-07-25 15:00:00+00:00</td>\n",
       "      <td>8172.0</td>\n",
       "      <td>2019-07-25 17:00:00+02:00</td>\n",
       "    </tr>\n",
       "    <tr>\n",
       "      <th>40001</th>\n",
       "      <td>2019-07-25 16:00:00+00:00</td>\n",
       "      <td>8107.0</td>\n",
       "      <td>2019-07-25 18:00:00+02:00</td>\n",
       "    </tr>\n",
       "    <tr>\n",
       "      <th>40002</th>\n",
       "      <td>2019-07-25 17:00:00+00:00</td>\n",
       "      <td>7781.0</td>\n",
       "      <td>2019-07-25 19:00:00+02:00</td>\n",
       "    </tr>\n",
       "    <tr>\n",
       "      <th>40003</th>\n",
       "      <td>2019-07-25 18:00:00+00:00</td>\n",
       "      <td>7436.0</td>\n",
       "      <td>2019-07-25 20:00:00+02:00</td>\n",
       "    </tr>\n",
       "    <tr>\n",
       "      <th>40004</th>\n",
       "      <td>2019-07-25 19:00:00+00:00</td>\n",
       "      <td>7219.0</td>\n",
       "      <td>2019-07-25 21:00:00+02:00</td>\n",
       "    </tr>\n",
       "  </tbody>\n",
       "</table>\n",
       "</div>"
      ],
      "text/plain": [
       "                  utc_timestamp  AT_load_actual_entsoe_transparency  \\\n",
       "40000 2019-07-25 15:00:00+00:00                              8172.0   \n",
       "40001 2019-07-25 16:00:00+00:00                              8107.0   \n",
       "40002 2019-07-25 17:00:00+00:00                              7781.0   \n",
       "40003 2019-07-25 18:00:00+00:00                              7436.0   \n",
       "40004 2019-07-25 19:00:00+00:00                              7219.0   \n",
       "\n",
       "                local_timestamp  \n",
       "40000 2019-07-25 17:00:00+02:00  \n",
       "40001 2019-07-25 18:00:00+02:00  \n",
       "40002 2019-07-25 19:00:00+02:00  \n",
       "40003 2019-07-25 20:00:00+02:00  \n",
       "40004 2019-07-25 21:00:00+02:00  "
      ]
     },
     "execution_count": 25,
     "metadata": {},
     "output_type": "execute_result"
    }
   ],
   "source": [
    "data[['utc_timestamp']] = data[['utc_timestamp']].apply(pd.to_datetime)\n",
    "data['local_timestamp'] = data['utc_timestamp'].dt.tz_convert('Europe/Vienna')\n",
    "data.head()"
   ]
  },
  {
   "cell_type": "markdown",
   "metadata": {},
   "source": [
    "1.2. Quitar datos nulos"
   ]
  },
  {
   "cell_type": "code",
   "execution_count": 26,
   "metadata": {},
   "outputs": [
    {
     "data": {
      "text/plain": [
       "(10401, 3)"
      ]
     },
     "execution_count": 26,
     "metadata": {},
     "output_type": "execute_result"
    }
   ],
   "source": [
    "data = data.dropna()\n",
    "data.shape"
   ]
  },
  {
   "cell_type": "markdown",
   "metadata": {},
   "source": [
    "1.3. Convertir la fecha en el index de la serie"
   ]
  },
  {
   "cell_type": "code",
   "execution_count": 27,
   "metadata": {},
   "outputs": [
    {
     "data": {
      "text/html": [
       "<div>\n",
       "<style scoped>\n",
       "    .dataframe tbody tr th:only-of-type {\n",
       "        vertical-align: middle;\n",
       "    }\n",
       "\n",
       "    .dataframe tbody tr th {\n",
       "        vertical-align: top;\n",
       "    }\n",
       "\n",
       "    .dataframe thead th {\n",
       "        text-align: right;\n",
       "    }\n",
       "</style>\n",
       "<table border=\"1\" class=\"dataframe\">\n",
       "  <thead>\n",
       "    <tr style=\"text-align: right;\">\n",
       "      <th></th>\n",
       "      <th>AT_load_actual_entsoe_transparency</th>\n",
       "    </tr>\n",
       "    <tr>\n",
       "      <th>local_timestamp</th>\n",
       "      <th></th>\n",
       "    </tr>\n",
       "  </thead>\n",
       "  <tbody>\n",
       "    <tr>\n",
       "      <th>2019-07-25 17:00:00+02:00</th>\n",
       "      <td>8172.0</td>\n",
       "    </tr>\n",
       "    <tr>\n",
       "      <th>2019-07-25 18:00:00+02:00</th>\n",
       "      <td>8107.0</td>\n",
       "    </tr>\n",
       "    <tr>\n",
       "      <th>2019-07-25 19:00:00+02:00</th>\n",
       "      <td>7781.0</td>\n",
       "    </tr>\n",
       "    <tr>\n",
       "      <th>2019-07-25 20:00:00+02:00</th>\n",
       "      <td>7436.0</td>\n",
       "    </tr>\n",
       "    <tr>\n",
       "      <th>2019-07-25 21:00:00+02:00</th>\n",
       "      <td>7219.0</td>\n",
       "    </tr>\n",
       "  </tbody>\n",
       "</table>\n",
       "</div>"
      ],
      "text/plain": [
       "                           AT_load_actual_entsoe_transparency\n",
       "local_timestamp                                              \n",
       "2019-07-25 17:00:00+02:00                              8172.0\n",
       "2019-07-25 18:00:00+02:00                              8107.0\n",
       "2019-07-25 19:00:00+02:00                              7781.0\n",
       "2019-07-25 20:00:00+02:00                              7436.0\n",
       "2019-07-25 21:00:00+02:00                              7219.0"
      ]
     },
     "execution_count": 27,
     "metadata": {},
     "output_type": "execute_result"
    }
   ],
   "source": [
    "data.index = data[\"local_timestamp\"]\n",
    "data.drop(columns=['utc_timestamp', 'local_timestamp'], inplace=True)\n",
    "data.head()"
   ]
  },
  {
   "cell_type": "markdown",
   "metadata": {},
   "source": [
    "## 2. Análisis de datos"
   ]
  },
  {
   "cell_type": "markdown",
   "metadata": {},
   "source": [
    "### Funciones de soporte para graficar funciones de autocorrelación"
   ]
  },
  {
   "cell_type": "code",
   "execution_count": 7,
   "metadata": {},
   "outputs": [],
   "source": [
    "def acf1(x, nlags=None, acf_type=\"correlation\", pacf=False, ax=None, **kwargs):\n",
    "    lags = np.arange(1, nlags + 1)\n",
    "\n",
    "    if pacf:\n",
    "        if acf_type == \"correlation\":\n",
    "            values = sm.tsa.pacf(x, nlags=nlags)[1:]\n",
    "            ylabel = \"PACF\"\n",
    "    else:\n",
    "        if acf_type == \"correlation\":\n",
    "            values = sm.tsa.acf(x, nlags=nlags, fft=False)[1:]\n",
    "            ylabel = \"ACF\"\n",
    "        elif acf_type == \"covariance\":\n",
    "            values = sm.tsa.acovf(x, nlag=nlags)[1:]\n",
    "            ylabel = \"ACoV\"\n",
    "\n",
    "    if ax is None:\n",
    "        ax = plt.gca()\n",
    " \n",
    "    ax.bar(lags, values, **kwargs)\n",
    "    ax.axhline(0, color=\"black\", linewidth=1)\n",
    "    if acf_type == \"correlation\":\n",
    "        conf_level = 1.96 / np.sqrt(x.shape[0])\n",
    "        ax.axhline(conf_level, color=\"red\", linestyle=\"--\", linewidth=1)\n",
    "        ax.axhline(-conf_level, color=\"red\", linestyle=\"--\", linewidth=1)\n",
    "    ax.set_xlabel(\"LAG\")\n",
    "    ax.set_ylabel(ylabel)\n",
    "\n",
    "    return ax"
   ]
  },
  {
   "cell_type": "code",
   "execution_count": 8,
   "metadata": {
    "scrolled": false
   },
   "outputs": [
    {
     "data": {
      "text/plain": [
       "<AxesSubplot:xlabel='local_timestamp'>"
      ]
     },
     "execution_count": 8,
     "metadata": {},
     "output_type": "execute_result"
    },
    {
     "data": {
      "image/png": "[encoded data removed]",
      "text/plain": [
       "<Figure size 1080x288 with 1 Axes>"
      ]
     },
     "metadata": {
      "needs_background": "light"
     },
     "output_type": "display_data"
    }
   ],
   "source": [
    "# Graficar serie\n",
    "data.plot(figsize=(15, 4), linewidth=0.1)"
   ]
  },
  {
   "cell_type": "code",
   "execution_count": 9,
   "metadata": {},
   "outputs": [
    {
     "data": {
      "image/png": "[encoded data removed]",
      "text/plain": [
       "<Figure size 1080x504 with 2 Axes>"
      ]
     },
     "metadata": {
      "needs_background": "light"
     },
     "output_type": "display_data"
    }
   ],
   "source": [
    "# ACF y PACF de la serie AT_load_actual_entsoe_transparency\n",
    "fig, axes = plt.subplots(nrows=2, figsize=(15, 7))\n",
    "\n",
    "acf1(data, nlags=100, ax=axes[0], width=.5)\n",
    "axes[0].set_title(\"ACF: serie AT_load_actual_entsoe_transparency\")\n",
    "\n",
    "acf1(data, nlags=20, pacf=True, ax=axes[1], width=.3)\n",
    "axes[1].set_title(\"PACF: serie AT_load_actual_entsoe_transparency\")\n",
    "\n",
    "fig.tight_layout()\n",
    "plt.show()"
   ]
  },
  {
   "cell_type": "markdown",
   "metadata": {},
   "source": [
    "## 3. Modelo "
   ]
  },
  {
   "cell_type": "code",
   "execution_count": 28,
   "metadata": {
    "scrolled": false
   },
   "outputs": [
    {
     "name": "stderr",
     "output_type": "stream",
     "text": [
      "/Users/juancamilopico/opt/anaconda3/lib/python3.8/site-packages/statsmodels/tsa/base/tsa_model.py:581: ValueWarning:\n",
      "\n",
      "A date index has been provided, but it has no associated frequency information and so will be ignored when e.g. forecasting.\n",
      "\n",
      "/Users/juancamilopico/opt/anaconda3/lib/python3.8/site-packages/statsmodels/tsa/base/tsa_model.py:581: ValueWarning:\n",
      "\n",
      "A date index has been provided, but it has no associated frequency information and so will be ignored when e.g. forecasting.\n",
      "\n",
      "/Users/juancamilopico/opt/anaconda3/lib/python3.8/site-packages/statsmodels/base/model.py:566: ConvergenceWarning:\n",
      "\n",
      "Maximum Likelihood optimization failed to converge. Check mle_retvals\n",
      "\n"
     ]
    },
    {
     "data": {
      "text/html": [
       "<table class=\"simpletable\">\n",
       "<caption>SARIMAX Results</caption>\n",
       "<tr>\n",
       "  <th>Dep. Variable:</th>   <td>AT_load_actual_entsoe_transparency</td> <th>  No. Observations:  </th>    <td>10401</td>  \n",
       "</tr>\n",
       "<tr>\n",
       "  <th>Model:</th>             <td>SARIMAX(2, 1, 2)x(2, 1, 2, 24)</td>   <th>  Log Likelihood     </th> <td>-60973.443</td>\n",
       "</tr>\n",
       "<tr>\n",
       "  <th>Date:</th>                     <td>Wed, 07 Dec 2022</td>          <th>  AIC                </th> <td>121964.887</td>\n",
       "</tr>\n",
       "<tr>\n",
       "  <th>Time:</th>                         <td>17:54:36</td>              <th>  BIC                </th> <td>122030.112</td>\n",
       "</tr>\n",
       "<tr>\n",
       "  <th>Sample:</th>                           <td>0</td>                 <th>  HQIC               </th> <td>121986.925</td>\n",
       "</tr>\n",
       "<tr>\n",
       "  <th></th>                              <td> - 10401</td>              <th>                     </th>      <td> </td>    \n",
       "</tr>\n",
       "<tr>\n",
       "  <th>Covariance Type:</th>                 <td>opg</td>                <th>                     </th>      <td> </td>    \n",
       "</tr>\n",
       "</table>\n",
       "<table class=\"simpletable\">\n",
       "<tr>\n",
       "      <td></td>        <th>coef</th>     <th>std err</th>      <th>z</th>      <th>P>|z|</th>  <th>[0.025</th>    <th>0.975]</th>  \n",
       "</tr>\n",
       "<tr>\n",
       "  <th>ar.L1</th>    <td>    0.2481</td> <td>    0.047</td> <td>    5.274</td> <td> 0.000</td> <td>    0.156</td> <td>    0.340</td>\n",
       "</tr>\n",
       "<tr>\n",
       "  <th>ar.L2</th>    <td>   -0.0317</td> <td>    0.029</td> <td>   -1.075</td> <td> 0.282</td> <td>   -0.090</td> <td>    0.026</td>\n",
       "</tr>\n",
       "<tr>\n",
       "  <th>ma.L1</th>    <td>    0.5446</td> <td>    0.048</td> <td>   11.402</td> <td> 0.000</td> <td>    0.451</td> <td>    0.638</td>\n",
       "</tr>\n",
       "<tr>\n",
       "  <th>ma.L2</th>    <td>    0.3111</td> <td>    0.016</td> <td>   19.583</td> <td> 0.000</td> <td>    0.280</td> <td>    0.342</td>\n",
       "</tr>\n",
       "<tr>\n",
       "  <th>ar.S.L24</th> <td>    0.9719</td> <td>    0.011</td> <td>   91.037</td> <td> 0.000</td> <td>    0.951</td> <td>    0.993</td>\n",
       "</tr>\n",
       "<tr>\n",
       "  <th>ar.S.L48</th> <td>   -0.5102</td> <td>    0.007</td> <td>  -69.682</td> <td> 0.000</td> <td>   -0.525</td> <td>   -0.496</td>\n",
       "</tr>\n",
       "<tr>\n",
       "  <th>ma.S.L24</th> <td>   -1.5344</td> <td>    0.012</td> <td> -124.072</td> <td> 0.000</td> <td>   -1.559</td> <td>   -1.510</td>\n",
       "</tr>\n",
       "<tr>\n",
       "  <th>ma.S.L48</th> <td>    0.6931</td> <td>    0.011</td> <td>   63.215</td> <td> 0.000</td> <td>    0.672</td> <td>    0.715</td>\n",
       "</tr>\n",
       "<tr>\n",
       "  <th>sigma2</th>   <td> 7415.0737</td> <td>   66.593</td> <td>  111.350</td> <td> 0.000</td> <td> 7284.554</td> <td> 7545.593</td>\n",
       "</tr>\n",
       "</table>\n",
       "<table class=\"simpletable\">\n",
       "<tr>\n",
       "  <th>Ljung-Box (L1) (Q):</th>     <td>0.00</td> <th>  Jarque-Bera (JB):  </th> <td>5268.85</td>\n",
       "</tr>\n",
       "<tr>\n",
       "  <th>Prob(Q):</th>                <td>0.98</td> <th>  Prob(JB):          </th>  <td>0.00</td>  \n",
       "</tr>\n",
       "<tr>\n",
       "  <th>Heteroskedasticity (H):</th> <td>0.68</td> <th>  Skew:              </th>  <td>-0.06</td> \n",
       "</tr>\n",
       "<tr>\n",
       "  <th>Prob(H) (two-sided):</th>    <td>0.00</td> <th>  Kurtosis:          </th>  <td>6.49</td>  \n",
       "</tr>\n",
       "</table><br/><br/>Warnings:<br/>[1] Covariance matrix calculated using the outer product of gradients (complex-step)."
      ],
      "text/plain": [
       "<class 'statsmodels.iolib.summary.Summary'>\n",
       "\"\"\"\n",
       "                                       SARIMAX Results                                        \n",
       "==============================================================================================\n",
       "Dep. Variable:     AT_load_actual_entsoe_transparency   No. Observations:                10401\n",
       "Model:                 SARIMAX(2, 1, 2)x(2, 1, 2, 24)   Log Likelihood              -60973.443\n",
       "Date:                                Wed, 07 Dec 2022   AIC                         121964.887\n",
       "Time:                                        17:54:36   BIC                         122030.112\n",
       "Sample:                                             0   HQIC                        121986.925\n",
       "                                              - 10401                                         \n",
       "Covariance Type:                                  opg                                         \n",
       "==============================================================================\n",
       "                 coef    std err          z      P>|z|      [0.025      0.975]\n",
       "------------------------------------------------------------------------------\n",
       "ar.L1          0.2481      0.047      5.274      0.000       0.156       0.340\n",
       "ar.L2         -0.0317      0.029     -1.075      0.282      -0.090       0.026\n",
       "ma.L1          0.5446      0.048     11.402      0.000       0.451       0.638\n",
       "ma.L2          0.3111      0.016     19.583      0.000       0.280       0.342\n",
       "ar.S.L24       0.9719      0.011     91.037      0.000       0.951       0.993\n",
       "ar.S.L48      -0.5102      0.007    -69.682      0.000      -0.525      -0.496\n",
       "ma.S.L24      -1.5344      0.012   -124.072      0.000      -1.559      -1.510\n",
       "ma.S.L48       0.6931      0.011     63.215      0.000       0.672       0.715\n",
       "sigma2      7415.0737     66.593    111.350      0.000    7284.554    7545.593\n",
       "===================================================================================\n",
       "Ljung-Box (L1) (Q):                   0.00   Jarque-Bera (JB):              5268.85\n",
       "Prob(Q):                              0.98   Prob(JB):                         0.00\n",
       "Heteroskedasticity (H):               0.68   Skew:                            -0.06\n",
       "Prob(H) (two-sided):                  0.00   Kurtosis:                         6.49\n",
       "===================================================================================\n",
       "\n",
       "Warnings:\n",
       "[1] Covariance matrix calculated using the outer product of gradients (complex-step).\n",
       "\"\"\""
      ]
     },
     "execution_count": 28,
     "metadata": {},
     "output_type": "execute_result"
    }
   ],
   "source": [
    "# , trend=\"c\"\n",
    "model = sm.tsa.SARIMAX(data, order = (2,1,2),seasonal_order=(2, 1, 2, 24)).fit() # SARIMA(1,0,0)\n",
    "model.summary()"
   ]
  },
  {
   "cell_type": "code",
   "execution_count": 29,
   "metadata": {},
   "outputs": [
    {
     "data": {
      "image/png": "[encoded data removed]",
      "text/plain": [
       "<Figure size 720x504 with 4 Axes>"
      ]
     },
     "metadata": {
      "needs_background": "light"
     },
     "output_type": "display_data"
    }
   ],
   "source": [
    "fig = model.plot_diagnostics(figsize=(10, 7))\n",
    "fig.tight_layout()\n",
    "plt.show()"
   ]
  },
  {
   "cell_type": "code",
   "execution_count": 30,
   "metadata": {},
   "outputs": [],
   "source": [
    "model.save(\"SARIMA21221224.pkl\")"
   ]
  },
  {
   "cell_type": "code",
   "execution_count": null,
   "metadata": {},
   "outputs": [],
   "source": [
    "fig = plt.subplots(figsize=(15, 4))\n",
    "serie_pr = model.get_prediction(start=40000+len(serie), end=40000+len(serie) + 24)\n",
    "U = serie_pr.predicted_mean + serie_pr.se_mean\n",
    "L = serie_pr.predicted_mean - serie_pr.se_mean\n",
    "\n",
    "serie[-48:].plot(xlabel=\"Time\", legend=False)\n",
    "serie_pr.predicted_mean.plot(marker=\"o\")\n",
    "plt.plot(U, color=\"red\", linestyle=\"--\")\n",
    "plt.plot(L, color=\"red\", linestyle=\"--\")\n",
    "plt.show()"
   ]
  },
  {
   "cell_type": "code",
   "execution_count": 31,
   "metadata": {},
   "outputs": [],
   "source": [
    "from pandas.tseries.offsets import DateOffset\n",
    "pred_date=[data.index[-1] + DateOffset(hours=x)for x in range(0,25)]"
   ]
  },
  {
   "cell_type": "code",
   "execution_count": 32,
   "metadata": {},
   "outputs": [],
   "source": [
    "data_pred = data.copy()\n",
    "data_pred[\"forecast\"] = np.nan\n",
    "pred_date=pd.DataFrame(index=pred_date[1:],columns=data.columns)"
   ]
  },
  {
   "cell_type": "code",
   "execution_count": 33,
   "metadata": {},
   "outputs": [],
   "source": [
    "data_pred=pd.concat([data_pred,pred_date])"
   ]
  },
  {
   "cell_type": "code",
   "execution_count": 34,
   "metadata": {
    "scrolled": true
   },
   "outputs": [
    {
     "name": "stderr",
     "output_type": "stream",
     "text": [
      "/Users/juancamilopico/opt/anaconda3/lib/python3.8/site-packages/statsmodels/tsa/base/tsa_model.py:376: ValueWarning:\n",
      "\n",
      "No supported index is available. Prediction results will be given with an integer index beginning at `start`.\n",
      "\n"
     ]
    }
   ],
   "source": [
    "forecast = model.predict(start = len(data), end = len(data)+23)\n",
    "forecast.index = pred_date.index"
   ]
  },
  {
   "cell_type": "code",
   "execution_count": 35,
   "metadata": {
    "scrolled": true
   },
   "outputs": [],
   "source": [
    "data_pred['forecast'] = forecast"
   ]
  },
  {
   "cell_type": "code",
   "execution_count": 36,
   "metadata": {
    "scrolled": false
   },
   "outputs": [
    {
     "data": {
      "application/vnd.plotly.v1+json": {
       "config": {
        "plotlyServerURL": "https://plot.ly"
       },
       "data": [
        {
         "hovertemplate": "variable=AT_load_actual_entsoe_transparency<br>index=%{x}<br>value=%{y}<extra></extra>",
         "legendgroup": "AT_load_actual_entsoe_transparency",
         "line": {
          "color": "#636efa",
          "dash": "solid"
         },
         "marker": {
          "symbol": "circle"
         },
         "mode": "markers+lines",
         "name": "AT_load_actual_entsoe_transparency",
         "orientation": "v",
         "showlegend": true,
         "type": "scatter",
         "x": [
          "2020-09-28T00:00:00+02:00",
          "2020-09-28T01:00:00+02:00",
          "2020-09-28T02:00:00+02:00",
          "2020-09-28T03:00:00+02:00",
          "2020-09-28T04:00:00+02:00",
          "2020-09-28T05:00:00+02:00",
          "2020-09-28T06:00:00+02:00",
          "2020-09-28T07:00:00+02:00",
          "2020-09-28T08:00:00+02:00",
          "2020-09-28T09:00:00+02:00",
          "2020-09-28T10:00:00+02:00",
          "2020-09-28T11:00:00+02:00",
          "2020-09-28T12:00:00+02:00",
          "2020-09-28T13:00:00+02:00",
          "2020-09-28T14:00:00+02:00",
          "2020-09-28T15:00:00+02:00",
          "2020-09-28T16:00:00+02:00",
          "2020-09-28T17:00:00+02:00",
          "2020-09-28T18:00:00+02:00",
          "2020-09-28T19:00:00+02:00",
          "2020-09-28T20:00:00+02:00",
          "2020-09-28T21:00:00+02:00",
          "2020-09-28T22:00:00+02:00",
          "2020-09-28T23:00:00+02:00",
          "2020-09-29T00:00:00+02:00",
          "2020-09-29T01:00:00+02:00",
          "2020-09-29T02:00:00+02:00",
          "2020-09-29T03:00:00+02:00",
          "2020-09-29T04:00:00+02:00",
          "2020-09-29T05:00:00+02:00",
          "2020-09-29T06:00:00+02:00",
          "2020-09-29T07:00:00+02:00",
          "2020-09-29T08:00:00+02:00",
          "2020-09-29T09:00:00+02:00",
          "2020-09-29T10:00:00+02:00",
          "2020-09-29T11:00:00+02:00",
          "2020-09-29T12:00:00+02:00",
          "2020-09-29T13:00:00+02:00",
          "2020-09-29T14:00:00+02:00",
          "2020-09-29T15:00:00+02:00",
          "2020-09-29T16:00:00+02:00",
          "2020-09-29T17:00:00+02:00",
          "2020-09-29T18:00:00+02:00",
          "2020-09-29T19:00:00+02:00",
          "2020-09-29T20:00:00+02:00",
          "2020-09-29T21:00:00+02:00",
          "2020-09-29T22:00:00+02:00",
          "2020-09-29T23:00:00+02:00",
          "2020-09-30T00:00:00+02:00",
          "2020-09-30T01:00:00+02:00",
          "2020-09-30T02:00:00+02:00",
          "2020-09-30T03:00:00+02:00",
          "2020-09-30T04:00:00+02:00",
          "2020-09-30T05:00:00+02:00",
          "2020-09-30T06:00:00+02:00",
          "2020-09-30T07:00:00+02:00",
          "2020-09-30T08:00:00+02:00",
          "2020-09-30T09:00:00+02:00",
          "2020-09-30T10:00:00+02:00",
          "2020-09-30T11:00:00+02:00",
          "2020-09-30T12:00:00+02:00",
          "2020-09-30T13:00:00+02:00",
          "2020-09-30T14:00:00+02:00",
          "2020-09-30T15:00:00+02:00",
          "2020-09-30T16:00:00+02:00",
          "2020-09-30T17:00:00+02:00",
          "2020-09-30T18:00:00+02:00",
          "2020-09-30T19:00:00+02:00",
          "2020-09-30T20:00:00+02:00",
          "2020-09-30T21:00:00+02:00",
          "2020-09-30T22:00:00+02:00",
          "2020-09-30T23:00:00+02:00",
          "2020-10-01T00:00:00+02:00",
          "2020-10-01T01:00:00+02:00",
          "2020-10-01T02:00:00+02:00",
          "2020-10-01T03:00:00+02:00",
          "2020-10-01T04:00:00+02:00",
          "2020-10-01T05:00:00+02:00",
          "2020-10-01T06:00:00+02:00",
          "2020-10-01T07:00:00+02:00",
          "2020-10-01T08:00:00+02:00",
          "2020-10-01T09:00:00+02:00",
          "2020-10-01T10:00:00+02:00",
          "2020-10-01T11:00:00+02:00",
          "2020-10-01T12:00:00+02:00",
          "2020-10-01T13:00:00+02:00",
          "2020-10-01T14:00:00+02:00",
          "2020-10-01T15:00:00+02:00",
          "2020-10-01T16:00:00+02:00",
          "2020-10-01T17:00:00+02:00",
          "2020-10-01T18:00:00+02:00",
          "2020-10-01T19:00:00+02:00",
          "2020-10-01T20:00:00+02:00",
          "2020-10-01T21:00:00+02:00",
          "2020-10-01T22:00:00+02:00",
          "2020-10-01T23:00:00+02:00",
          "2020-10-02T00:00:00+02:00",
          "2020-10-02T01:00:00+02:00"
         ],
         "xaxis": "x",
         "y": [
          5131,
          4884,
          4845,
          4788,
          4967,
          5621,
          6853,
          7726,
          8056,
          8119,
          8214,
          8298,
          8080,
          8004,
          7899,
          7821,
          7767,
          7809,
          7902,
          7825,
          7359,
          6759,
          6400,
          5869,
          5600,
          5363,
          5273,
          5192,
          5303,
          5836,
          6864,
          7645,
          7938,
          7961,
          8031,
          8093,
          7892,
          7831,
          7714,
          7662,
          7617,
          7654,
          7734,
          7746,
          7259,
          6643,
          6320,
          5856,
          5595,
          5324,
          5228,
          5141,
          5270,
          5839,
          6848,
          7614,
          7902,
          7931,
          7987,
          8051,
          7873,
          7808,
          7700,
          7635,
          7586,
          7622,
          7714,
          7711,
          7245,
          6661,
          6336,
          5932,
          5628,
          5395,
          null,
          null,
          null,
          null,
          null,
          null,
          null,
          null,
          null,
          null,
          null,
          null,
          null,
          null,
          null,
          null,
          null,
          null,
          null,
          null,
          null,
          null,
          null,
          null
         ],
         "yaxis": "y"
        },
        {
         "hovertemplate": "variable=forecast<br>index=%{x}<br>value=%{y}<extra></extra>",
         "legendgroup": "forecast",
         "line": {
          "color": "#EF553B",
          "dash": "solid"
         },
         "marker": {
          "symbol": "circle"
         },
         "mode": "markers+lines",
         "name": "forecast",
         "orientation": "v",
         "showlegend": true,
         "type": "scatter",
         "x": [
          "2020-09-28T00:00:00+02:00",
          "2020-09-28T01:00:00+02:00",
          "2020-09-28T02:00:00+02:00",
          "2020-09-28T03:00:00+02:00",
          "2020-09-28T04:00:00+02:00",
          "2020-09-28T05:00:00+02:00",
          "2020-09-28T06:00:00+02:00",
          "2020-09-28T07:00:00+02:00",
          "2020-09-28T08:00:00+02:00",
          "2020-09-28T09:00:00+02:00",
          "2020-09-28T10:00:00+02:00",
          "2020-09-28T11:00:00+02:00",
          "2020-09-28T12:00:00+02:00",
          "2020-09-28T13:00:00+02:00",
          "2020-09-28T14:00:00+02:00",
          "2020-09-28T15:00:00+02:00",
          "2020-09-28T16:00:00+02:00",
          "2020-09-28T17:00:00+02:00",
          "2020-09-28T18:00:00+02:00",
          "2020-09-28T19:00:00+02:00",
          "2020-09-28T20:00:00+02:00",
          "2020-09-28T21:00:00+02:00",
          "2020-09-28T22:00:00+02:00",
          "2020-09-28T23:00:00+02:00",
          "2020-09-29T00:00:00+02:00",
          "2020-09-29T01:00:00+02:00",
          "2020-09-29T02:00:00+02:00",
          "2020-09-29T03:00:00+02:00",
          "2020-09-29T04:00:00+02:00",
          "2020-09-29T05:00:00+02:00",
          "2020-09-29T06:00:00+02:00",
          "2020-09-29T07:00:00+02:00",
          "2020-09-29T08:00:00+02:00",
          "2020-09-29T09:00:00+02:00",
          "2020-09-29T10:00:00+02:00",
          "2020-09-29T11:00:00+02:00",
          "2020-09-29T12:00:00+02:00",
          "2020-09-29T13:00:00+02:00",
          "2020-09-29T14:00:00+02:00",
          "2020-09-29T15:00:00+02:00",
          "2020-09-29T16:00:00+02:00",
          "2020-09-29T17:00:00+02:00",
          "2020-09-29T18:00:00+02:00",
          "2020-09-29T19:00:00+02:00",
          "2020-09-29T20:00:00+02:00",
          "2020-09-29T21:00:00+02:00",
          "2020-09-29T22:00:00+02:00",
          "2020-09-29T23:00:00+02:00",
          "2020-09-30T00:00:00+02:00",
          "2020-09-30T01:00:00+02:00",
          "2020-09-30T02:00:00+02:00",
          "2020-09-30T03:00:00+02:00",
          "2020-09-30T04:00:00+02:00",
          "2020-09-30T05:00:00+02:00",
          "2020-09-30T06:00:00+02:00",
          "2020-09-30T07:00:00+02:00",
          "2020-09-30T08:00:00+02:00",
          "2020-09-30T09:00:00+02:00",
          "2020-09-30T10:00:00+02:00",
          "2020-09-30T11:00:00+02:00",
          "2020-09-30T12:00:00+02:00",
          "2020-09-30T13:00:00+02:00",
          "2020-09-30T14:00:00+02:00",
          "2020-09-30T15:00:00+02:00",
          "2020-09-30T16:00:00+02:00",
          "2020-09-30T17:00:00+02:00",
          "2020-09-30T18:00:00+02:00",
          "2020-09-30T19:00:00+02:00",
          "2020-09-30T20:00:00+02:00",
          "2020-09-30T21:00:00+02:00",
          "2020-09-30T22:00:00+02:00",
          "2020-09-30T23:00:00+02:00",
          "2020-10-01T00:00:00+02:00",
          "2020-10-01T01:00:00+02:00",
          "2020-10-01T02:00:00+02:00",
          "2020-10-01T03:00:00+02:00",
          "2020-10-01T04:00:00+02:00",
          "2020-10-01T05:00:00+02:00",
          "2020-10-01T06:00:00+02:00",
          "2020-10-01T07:00:00+02:00",
          "2020-10-01T08:00:00+02:00",
          "2020-10-01T09:00:00+02:00",
          "2020-10-01T10:00:00+02:00",
          "2020-10-01T11:00:00+02:00",
          "2020-10-01T12:00:00+02:00",
          "2020-10-01T13:00:00+02:00",
          "2020-10-01T14:00:00+02:00",
          "2020-10-01T15:00:00+02:00",
          "2020-10-01T16:00:00+02:00",
          "2020-10-01T17:00:00+02:00",
          "2020-10-01T18:00:00+02:00",
          "2020-10-01T19:00:00+02:00",
          "2020-10-01T20:00:00+02:00",
          "2020-10-01T21:00:00+02:00",
          "2020-10-01T22:00:00+02:00",
          "2020-10-01T23:00:00+02:00",
          "2020-10-02T00:00:00+02:00",
          "2020-10-02T01:00:00+02:00"
         ],
         "xaxis": "x",
         "y": [
          null,
          null,
          null,
          null,
          null,
          null,
          null,
          null,
          null,
          null,
          null,
          null,
          null,
          null,
          null,
          null,
          null,
          null,
          null,
          null,
          null,
          null,
          null,
          null,
          null,
          null,
          null,
          null,
          null,
          null,
          null,
          null,
          null,
          null,
          null,
          null,
          null,
          null,
          null,
          null,
          null,
          null,
          null,
          null,
          null,
          null,
          null,
          null,
          null,
          null,
          null,
          null,
          null,
          null,
          null,
          null,
          null,
          null,
          null,
          null,
          null,
          null,
          null,
          null,
          null,
          null,
          null,
          null,
          null,
          null,
          null,
          null,
          null,
          null,
          5347.442144480412,
          5287.0462461009365,
          5404.598135788031,
          5884.345266990753,
          6728.652040238211,
          7402.519009488885,
          7707.932075679146,
          7792.821260616512,
          7880.340905122376,
          7952.7020385959695,
          7747.756072258387,
          7650.987396966584,
          7529.454887837665,
          7458.574678851304,
          7438.024141696403,
          7504.431148939306,
          7612.29455715048,
          7604.844789319955,
          7227.481311382974,
          6700.063619844742,
          6433.831871789945,
          6034.3754953125335,
          5737.139698927349,
          5468.941659918672
         ],
         "yaxis": "y"
        }
       ],
       "layout": {
        "legend": {
         "title": {
          "text": "variable"
         },
         "tracegroupgap": 0
        },
        "margin": {
         "t": 60
        },
        "template": {
         "data": {
          "bar": [
           {
            "error_x": {
             "color": "#2a3f5f"
            },
            "error_y": {
             "color": "#2a3f5f"
            },
            "marker": {
             "line": {
              "color": "#E5ECF6",
              "width": 0.5
             },
             "pattern": {
              "fillmode": "overlay",
              "size": 10,
              "solidity": 0.2
             }
            },
            "type": "bar"
           }
          ],
          "barpolar": [
           {
            "marker": {
             "line": {
              "color": "#E5ECF6",
              "width": 0.5
             },
             "pattern": {
              "fillmode": "overlay",
              "size": 10,
              "solidity": 0.2
             }
            },
            "type": "barpolar"
           }
          ],
          "carpet": [
           {
            "aaxis": {
             "endlinecolor": "#2a3f5f",
             "gridcolor": "white",
             "linecolor": "white",
             "minorgridcolor": "white",
             "startlinecolor": "#2a3f5f"
            },
            "baxis": {
             "endlinecolor": "#2a3f5f",
             "gridcolor": "white",
             "linecolor": "white",
             "minorgridcolor": "white",
             "startlinecolor": "#2a3f5f"
            },
            "type": "carpet"
           }
          ],
          "choropleth": [
           {
            "colorbar": {
             "outlinewidth": 0,
             "ticks": ""
            },
            "type": "choropleth"
           }
          ],
          "contour": [
           {
            "colorbar": {
             "outlinewidth": 0,
             "ticks": ""
            },
            "colorscale": [
             [
              0,
              "#0d0887"
             ],
             [
              0.1111111111111111,
              "#46039f"
             ],
             [
              0.2222222222222222,
              "#7201a8"
             ],
             [
              0.3333333333333333,
              "#9c179e"
             ],
             [
              0.4444444444444444,
              "#bd3786"
             ],
             [
              0.5555555555555556,
              "#d8576b"
             ],
             [
              0.6666666666666666,
              "#ed7953"
             ],
             [
              0.7777777777777778,
              "#fb9f3a"
             ],
             [
              0.8888888888888888,
              "#fdca26"
             ],
             [
              1,
              "#f0f921"
             ]
            ],
            "type": "contour"
           }
          ],
          "contourcarpet": [
           {
            "colorbar": {
             "outlinewidth": 0,
             "ticks": ""
            },
            "type": "contourcarpet"
           }
          ],
          "heatmap": [
           {
            "colorbar": {
             "outlinewidth": 0,
             "ticks": ""
            },
            "colorscale": [
             [
              0,
              "#0d0887"
             ],
             [
              0.1111111111111111,
              "#46039f"
             ],
             [
              0.2222222222222222,
              "#7201a8"
             ],
             [
              0.3333333333333333,
              "#9c179e"
             ],
             [
              0.4444444444444444,
              "#bd3786"
             ],
             [
              0.5555555555555556,
              "#d8576b"
             ],
             [
              0.6666666666666666,
              "#ed7953"
             ],
             [
              0.7777777777777778,
              "#fb9f3a"
             ],
             [
              0.8888888888888888,
              "#fdca26"
             ],
             [
              1,
              "#f0f921"
             ]
            ],
            "type": "heatmap"
           }
          ],
          "heatmapgl": [
           {
            "colorbar": {
             "outlinewidth": 0,
             "ticks": ""
            },
            "colorscale": [
             [
              0,
              "#0d0887"
             ],
             [
              0.1111111111111111,
              "#46039f"
             ],
             [
              0.2222222222222222,
              "#7201a8"
             ],
             [
              0.3333333333333333,
              "#9c179e"
             ],
             [
              0.4444444444444444,
              "#bd3786"
             ],
             [
              0.5555555555555556,
              "#d8576b"
             ],
             [
              0.6666666666666666,
              "#ed7953"
             ],
             [
              0.7777777777777778,
              "#fb9f3a"
             ],
             [
              0.8888888888888888,
              "#fdca26"
             ],
             [
              1,
              "#f0f921"
             ]
            ],
            "type": "heatmapgl"
           }
          ],
          "histogram": [
           {
            "marker": {
             "pattern": {
              "fillmode": "overlay",
              "size": 10,
              "solidity": 0.2
             }
            },
            "type": "histogram"
           }
          ],
          "histogram2d": [
           {
            "colorbar": {
             "outlinewidth": 0,
             "ticks": ""
            },
            "colorscale": [
             [
              0,
              "#0d0887"
             ],
             [
              0.1111111111111111,
              "#46039f"
             ],
             [
              0.2222222222222222,
              "#7201a8"
             ],
             [
              0.3333333333333333,
              "#9c179e"
             ],
             [
              0.4444444444444444,
              "#bd3786"
             ],
             [
              0.5555555555555556,
              "#d8576b"
             ],
             [
              0.6666666666666666,
              "#ed7953"
             ],
             [
              0.7777777777777778,
              "#fb9f3a"
             ],
             [
              0.8888888888888888,
              "#fdca26"
             ],
             [
              1,
              "#f0f921"
             ]
            ],
            "type": "histogram2d"
           }
          ],
          "histogram2dcontour": [
           {
            "colorbar": {
             "outlinewidth": 0,
             "ticks": ""
            },
            "colorscale": [
             [
              0,
              "#0d0887"
             ],
             [
              0.1111111111111111,
              "#46039f"
             ],
             [
              0.2222222222222222,
              "#7201a8"
             ],
             [
              0.3333333333333333,
              "#9c179e"
             ],
             [
              0.4444444444444444,
              "#bd3786"
             ],
             [
              0.5555555555555556,
              "#d8576b"
             ],
             [
              0.6666666666666666,
              "#ed7953"
             ],
             [
              0.7777777777777778,
              "#fb9f3a"
             ],
             [
              0.8888888888888888,
              "#fdca26"
             ],
             [
              1,
              "#f0f921"
             ]
            ],
            "type": "histogram2dcontour"
           }
          ],
          "mesh3d": [
           {
            "colorbar": {
             "outlinewidth": 0,
             "ticks": ""
            },
            "type": "mesh3d"
           }
          ],
          "parcoords": [
           {
            "line": {
             "colorbar": {
              "outlinewidth": 0,
              "ticks": ""
             }
            },
            "type": "parcoords"
           }
          ],
          "pie": [
           {
            "automargin": true,
            "type": "pie"
           }
          ],
          "scatter": [
           {
            "fillpattern": {
             "fillmode": "overlay",
             "size": 10,
             "solidity": 0.2
            },
            "type": "scatter"
           }
          ],
          "scatter3d": [
           {
            "line": {
             "colorbar": {
              "outlinewidth": 0,
              "ticks": ""
             }
            },
            "marker": {
             "colorbar": {
              "outlinewidth": 0,
              "ticks": ""
             }
            },
            "type": "scatter3d"
           }
          ],
          "scattercarpet": [
           {
            "marker": {
             "colorbar": {
              "outlinewidth": 0,
              "ticks": ""
             }
            },
            "type": "scattercarpet"
           }
          ],
          "scattergeo": [
           {
            "marker": {
             "colorbar": {
              "outlinewidth": 0,
              "ticks": ""
             }
            },
            "type": "scattergeo"
           }
          ],
          "scattergl": [
           {
            "marker": {
             "colorbar": {
              "outlinewidth": 0,
              "ticks": ""
             }
            },
            "type": "scattergl"
           }
          ],
          "scattermapbox": [
           {
            "marker": {
             "colorbar": {
              "outlinewidth": 0,
              "ticks": ""
             }
            },
            "type": "scattermapbox"
           }
          ],
          "scatterpolar": [
           {
            "marker": {
             "colorbar": {
              "outlinewidth": 0,
              "ticks": ""
             }
            },
            "type": "scatterpolar"
           }
          ],
          "scatterpolargl": [
           {
            "marker": {
             "colorbar": {
              "outlinewidth": 0,
              "ticks": ""
             }
            },
            "type": "scatterpolargl"
           }
          ],
          "scatterternary": [
           {
            "marker": {
             "colorbar": {
              "outlinewidth": 0,
              "ticks": ""
             }
            },
            "type": "scatterternary"
           }
          ],
          "surface": [
           {
            "colorbar": {
             "outlinewidth": 0,
             "ticks": ""
            },
            "colorscale": [
             [
              0,
              "#0d0887"
             ],
             [
              0.1111111111111111,
              "#46039f"
             ],
             [
              0.2222222222222222,
              "#7201a8"
             ],
             [
              0.3333333333333333,
              "#9c179e"
             ],
             [
              0.4444444444444444,
              "#bd3786"
             ],
             [
              0.5555555555555556,
              "#d8576b"
             ],
             [
              0.6666666666666666,
              "#ed7953"
             ],
             [
              0.7777777777777778,
              "#fb9f3a"
             ],
             [
              0.8888888888888888,
              "#fdca26"
             ],
             [
              1,
              "#f0f921"
             ]
            ],
            "type": "surface"
           }
          ],
          "table": [
           {
            "cells": {
             "fill": {
              "color": "#EBF0F8"
             },
             "line": {
              "color": "white"
             }
            },
            "header": {
             "fill": {
              "color": "#C8D4E3"
             },
             "line": {
              "color": "white"
             }
            },
            "type": "table"
           }
          ]
         },
         "layout": {
          "annotationdefaults": {
           "arrowcolor": "#2a3f5f",
           "arrowhead": 0,
           "arrowwidth": 1
          },
          "autotypenumbers": "strict",
          "coloraxis": {
           "colorbar": {
            "outlinewidth": 0,
            "ticks": ""
           }
          },
          "colorscale": {
           "diverging": [
            [
             0,
             "#8e0152"
            ],
            [
             0.1,
             "#c51b7d"
            ],
            [
             0.2,
             "#de77ae"
            ],
            [
             0.3,
             "#f1b6da"
            ],
            [
             0.4,
             "#fde0ef"
            ],
            [
             0.5,
             "#f7f7f7"
            ],
            [
             0.6,
             "#e6f5d0"
            ],
            [
             0.7,
             "#b8e186"
            ],
            [
             0.8,
             "#7fbc41"
            ],
            [
             0.9,
             "#4d9221"
            ],
            [
             1,
             "#276419"
            ]
           ],
           "sequential": [
            [
             0,
             "#0d0887"
            ],
            [
             0.1111111111111111,
             "#46039f"
            ],
            [
             0.2222222222222222,
             "#7201a8"
            ],
            [
             0.3333333333333333,
             "#9c179e"
            ],
            [
             0.4444444444444444,
             "#bd3786"
            ],
            [
             0.5555555555555556,
             "#d8576b"
            ],
            [
             0.6666666666666666,
             "#ed7953"
            ],
            [
             0.7777777777777778,
             "#fb9f3a"
            ],
            [
             0.8888888888888888,
             "#fdca26"
            ],
            [
             1,
             "#f0f921"
            ]
           ],
           "sequentialminus": [
            [
             0,
             "#0d0887"
            ],
            [
             0.1111111111111111,
             "#46039f"
            ],
            [
             0.2222222222222222,
             "#7201a8"
            ],
            [
             0.3333333333333333,
             "#9c179e"
            ],
            [
             0.4444444444444444,
             "#bd3786"
            ],
            [
             0.5555555555555556,
             "#d8576b"
            ],
            [
             0.6666666666666666,
             "#ed7953"
            ],
            [
             0.7777777777777778,
             "#fb9f3a"
            ],
            [
             0.8888888888888888,
             "#fdca26"
            ],
            [
             1,
             "#f0f921"
            ]
           ]
          },
          "colorway": [
           "#636efa",
           "#EF553B",
           "#00cc96",
           "#ab63fa",
           "#FFA15A",
           "#19d3f3",
           "#FF6692",
           "#B6E880",
           "#FF97FF",
           "#FECB52"
          ],
          "font": {
           "color": "#2a3f5f"
          },
          "geo": {
           "bgcolor": "white",
           "lakecolor": "white",
           "landcolor": "#E5ECF6",
           "showlakes": true,
           "showland": true,
           "subunitcolor": "white"
          },
          "hoverlabel": {
           "align": "left"
          },
          "hovermode": "closest",
          "mapbox": {
           "style": "light"
          },
          "paper_bgcolor": "white",
          "plot_bgcolor": "#E5ECF6",
          "polar": {
           "angularaxis": {
            "gridcolor": "white",
            "linecolor": "white",
            "ticks": ""
           },
           "bgcolor": "#E5ECF6",
           "radialaxis": {
            "gridcolor": "white",
            "linecolor": "white",
            "ticks": ""
           }
          },
          "scene": {
           "xaxis": {
            "backgroundcolor": "#E5ECF6",
            "gridcolor": "white",
            "gridwidth": 2,
            "linecolor": "white",
            "showbackground": true,
            "ticks": "",
            "zerolinecolor": "white"
           },
           "yaxis": {
            "backgroundcolor": "#E5ECF6",
            "gridcolor": "white",
            "gridwidth": 2,
            "linecolor": "white",
            "showbackground": true,
            "ticks": "",
            "zerolinecolor": "white"
           },
           "zaxis": {
            "backgroundcolor": "#E5ECF6",
            "gridcolor": "white",
            "gridwidth": 2,
            "linecolor": "white",
            "showbackground": true,
            "ticks": "",
            "zerolinecolor": "white"
           }
          },
          "shapedefaults": {
           "line": {
            "color": "#2a3f5f"
           }
          },
          "ternary": {
           "aaxis": {
            "gridcolor": "white",
            "linecolor": "white",
            "ticks": ""
           },
           "baxis": {
            "gridcolor": "white",
            "linecolor": "white",
            "ticks": ""
           },
           "bgcolor": "#E5ECF6",
           "caxis": {
            "gridcolor": "white",
            "linecolor": "white",
            "ticks": ""
           }
          },
          "title": {
           "x": 0.05
          },
          "xaxis": {
           "automargin": true,
           "gridcolor": "white",
           "linecolor": "white",
           "ticks": "",
           "title": {
            "standoff": 15
           },
           "zerolinecolor": "white",
           "zerolinewidth": 2
          },
          "yaxis": {
           "automargin": true,
           "gridcolor": "white",
           "linecolor": "white",
           "ticks": "",
           "title": {
            "standoff": 15
           },
           "zerolinecolor": "white",
           "zerolinewidth": 2
          }
         }
        },
        "xaxis": {
         "anchor": "y",
         "domain": [
          0,
          1
         ],
         "title": {
          "text": "index"
         }
        },
        "yaxis": {
         "anchor": "x",
         "domain": [
          0,
          1
         ],
         "title": {
          "text": "value"
         }
        }
       }
      },
      "text/html": [
       "<div>                            <div id=\"fde544bc-af28-4731-a439-ca5b55da3c61\" class=\"plotly-graph-div\" style=\"height:525px; width:100%;\"></div>            <script type=\"text/javascript\">                require([\"plotly\"], function(Plotly) {                    window.PLOTLYENV=window.PLOTLYENV || {};                                    if (document.getElementById(\"fde544bc-af28-4731-a439-ca5b55da3c61\")) {                    Plotly.newPlot(                        \"fde544bc-af28-4731-a439-ca5b55da3c61\",                        [{\"hovertemplate\":\"variable=AT_load_actual_entsoe_transparency<br>index=%{x}<br>value=%{y}<extra></extra>\",\"legendgroup\":\"AT_load_actual_entsoe_transparency\",\"line\":{\"color\":\"#636efa\",\"dash\":\"solid\"},\"marker\":{\"symbol\":\"circle\"},\"mode\":\"markers+lines\",\"name\":\"AT_load_actual_entsoe_transparency\",\"orientation\":\"v\",\"showlegend\":true,\"x\":[\"2020-09-28T00:00:00+02:00\",\"2020-09-28T01:00:00+02:00\",\"2020-09-28T02:00:00+02:00\",\"2020-09-28T03:00:00+02:00\",\"2020-09-28T04:00:00+02:00\",\"2020-09-28T05:00:00+02:00\",\"2020-09-28T06:00:00+02:00\",\"2020-09-28T07:00:00+02:00\",\"2020-09-28T08:00:00+02:00\",\"2020-09-28T09:00:00+02:00\",\"2020-09-28T10:00:00+02:00\",\"2020-09-28T11:00:00+02:00\",\"2020-09-28T12:00:00+02:00\",\"2020-09-28T13:00:00+02:00\",\"2020-09-28T14:00:00+02:00\",\"2020-09-28T15:00:00+02:00\",\"2020-09-28T16:00:00+02:00\",\"2020-09-28T17:00:00+02:00\",\"2020-09-28T18:00:00+02:00\",\"2020-09-28T19:00:00+02:00\",\"2020-09-28T20:00:00+02:00\",\"2020-09-28T21:00:00+02:00\",\"2020-09-28T22:00:00+02:00\",\"2020-09-28T23:00:00+02:00\",\"2020-09-29T00:00:00+02:00\",\"2020-09-29T01:00:00+02:00\",\"2020-09-29T02:00:00+02:00\",\"2020-09-29T03:00:00+02:00\",\"2020-09-29T04:00:00+02:00\",\"2020-09-29T05:00:00+02:00\",\"2020-09-29T06:00:00+02:00\",\"2020-09-29T07:00:00+02:00\",\"2020-09-29T08:00:00+02:00\",\"2020-09-29T09:00:00+02:00\",\"2020-09-29T10:00:00+02:00\",\"2020-09-29T11:00:00+02:00\",\"2020-09-29T12:00:00+02:00\",\"2020-09-29T13:00:00+02:00\",\"2020-09-29T14:00:00+02:00\",\"2020-09-29T15:00:00+02:00\",\"2020-09-29T16:00:00+02:00\",\"2020-09-29T17:00:00+02:00\",\"2020-09-29T18:00:00+02:00\",\"2020-09-29T19:00:00+02:00\",\"2020-09-29T20:00:00+02:00\",\"2020-09-29T21:00:00+02:00\",\"2020-09-29T22:00:00+02:00\",\"2020-09-29T23:00:00+02:00\",\"2020-09-30T00:00:00+02:00\",\"2020-09-30T01:00:00+02:00\",\"2020-09-30T02:00:00+02:00\",\"2020-09-30T03:00:00+02:00\",\"2020-09-30T04:00:00+02:00\",\"2020-09-30T05:00:00+02:00\",\"2020-09-30T06:00:00+02:00\",\"2020-09-30T07:00:00+02:00\",\"2020-09-30T08:00:00+02:00\",\"2020-09-30T09:00:00+02:00\",\"2020-09-30T10:00:00+02:00\",\"2020-09-30T11:00:00+02:00\",\"2020-09-30T12:00:00+02:00\",\"2020-09-30T13:00:00+02:00\",\"2020-09-30T14:00:00+02:00\",\"2020-09-30T15:00:00+02:00\",\"2020-09-30T16:00:00+02:00\",\"2020-09-30T17:00:00+02:00\",\"2020-09-30T18:00:00+02:00\",\"2020-09-30T19:00:00+02:00\",\"2020-09-30T20:00:00+02:00\",\"2020-09-30T21:00:00+02:00\",\"2020-09-30T22:00:00+02:00\",\"2020-09-30T23:00:00+02:00\",\"2020-10-01T00:00:00+02:00\",\"2020-10-01T01:00:00+02:00\",\"2020-10-01T02:00:00+02:00\",\"2020-10-01T03:00:00+02:00\",\"2020-10-01T04:00:00+02:00\",\"2020-10-01T05:00:00+02:00\",\"2020-10-01T06:00:00+02:00\",\"2020-10-01T07:00:00+02:00\",\"2020-10-01T08:00:00+02:00\",\"2020-10-01T09:00:00+02:00\",\"2020-10-01T10:00:00+02:00\",\"2020-10-01T11:00:00+02:00\",\"2020-10-01T12:00:00+02:00\",\"2020-10-01T13:00:00+02:00\",\"2020-10-01T14:00:00+02:00\",\"2020-10-01T15:00:00+02:00\",\"2020-10-01T16:00:00+02:00\",\"2020-10-01T17:00:00+02:00\",\"2020-10-01T18:00:00+02:00\",\"2020-10-01T19:00:00+02:00\",\"2020-10-01T20:00:00+02:00\",\"2020-10-01T21:00:00+02:00\",\"2020-10-01T22:00:00+02:00\",\"2020-10-01T23:00:00+02:00\",\"2020-10-02T00:00:00+02:00\",\"2020-10-02T01:00:00+02:00\"],\"xaxis\":\"x\",\"y\":[5131.0,4884.0,4845.0,4788.0,4967.0,5621.0,6853.0,7726.0,8056.0,8119.0,8214.0,8298.0,8080.0,8004.0,7899.0,7821.0,7767.0,7809.0,7902.0,7825.0,7359.0,6759.0,6400.0,5869.0,5600.0,5363.0,5273.0,5192.0,5303.0,5836.0,6864.0,7645.0,7938.0,7961.0,8031.0,8093.0,7892.0,7831.0,7714.0,7662.0,7617.0,7654.0,7734.0,7746.0,7259.0,6643.0,6320.0,5856.0,5595.0,5324.0,5228.0,5141.0,5270.0,5839.0,6848.0,7614.0,7902.0,7931.0,7987.0,8051.0,7873.0,7808.0,7700.0,7635.0,7586.0,7622.0,7714.0,7711.0,7245.0,6661.0,6336.0,5932.0,5628.0,5395.0,null,null,null,null,null,null,null,null,null,null,null,null,null,null,null,null,null,null,null,null,null,null,null,null],\"yaxis\":\"y\",\"type\":\"scatter\"},{\"hovertemplate\":\"variable=forecast<br>index=%{x}<br>value=%{y}<extra></extra>\",\"legendgroup\":\"forecast\",\"line\":{\"color\":\"#EF553B\",\"dash\":\"solid\"},\"marker\":{\"symbol\":\"circle\"},\"mode\":\"markers+lines\",\"name\":\"forecast\",\"orientation\":\"v\",\"showlegend\":true,\"x\":[\"2020-09-28T00:00:00+02:00\",\"2020-09-28T01:00:00+02:00\",\"2020-09-28T02:00:00+02:00\",\"2020-09-28T03:00:00+02:00\",\"2020-09-28T04:00:00+02:00\",\"2020-09-28T05:00:00+02:00\",\"2020-09-28T06:00:00+02:00\",\"2020-09-28T07:00:00+02:00\",\"2020-09-28T08:00:00+02:00\",\"2020-09-28T09:00:00+02:00\",\"2020-09-28T10:00:00+02:00\",\"2020-09-28T11:00:00+02:00\",\"2020-09-28T12:00:00+02:00\",\"2020-09-28T13:00:00+02:00\",\"2020-09-28T14:00:00+02:00\",\"2020-09-28T15:00:00+02:00\",\"2020-09-28T16:00:00+02:00\",\"2020-09-28T17:00:00+02:00\",\"2020-09-28T18:00:00+02:00\",\"2020-09-28T19:00:00+02:00\",\"2020-09-28T20:00:00+02:00\",\"2020-09-28T21:00:00+02:00\",\"2020-09-28T22:00:00+02:00\",\"2020-09-28T23:00:00+02:00\",\"2020-09-29T00:00:00+02:00\",\"2020-09-29T01:00:00+02:00\",\"2020-09-29T02:00:00+02:00\",\"2020-09-29T03:00:00+02:00\",\"2020-09-29T04:00:00+02:00\",\"2020-09-29T05:00:00+02:00\",\"2020-09-29T06:00:00+02:00\",\"2020-09-29T07:00:00+02:00\",\"2020-09-29T08:00:00+02:00\",\"2020-09-29T09:00:00+02:00\",\"2020-09-29T10:00:00+02:00\",\"2020-09-29T11:00:00+02:00\",\"2020-09-29T12:00:00+02:00\",\"2020-09-29T13:00:00+02:00\",\"2020-09-29T14:00:00+02:00\",\"2020-09-29T15:00:00+02:00\",\"2020-09-29T16:00:00+02:00\",\"2020-09-29T17:00:00+02:00\",\"2020-09-29T18:00:00+02:00\",\"2020-09-29T19:00:00+02:00\",\"2020-09-29T20:00:00+02:00\",\"2020-09-29T21:00:00+02:00\",\"2020-09-29T22:00:00+02:00\",\"2020-09-29T23:00:00+02:00\",\"2020-09-30T00:00:00+02:00\",\"2020-09-30T01:00:00+02:00\",\"2020-09-30T02:00:00+02:00\",\"2020-09-30T03:00:00+02:00\",\"2020-09-30T04:00:00+02:00\",\"2020-09-30T05:00:00+02:00\",\"2020-09-30T06:00:00+02:00\",\"2020-09-30T07:00:00+02:00\",\"2020-09-30T08:00:00+02:00\",\"2020-09-30T09:00:00+02:00\",\"2020-09-30T10:00:00+02:00\",\"2020-09-30T11:00:00+02:00\",\"2020-09-30T12:00:00+02:00\",\"2020-09-30T13:00:00+02:00\",\"2020-09-30T14:00:00+02:00\",\"2020-09-30T15:00:00+02:00\",\"2020-09-30T16:00:00+02:00\",\"2020-09-30T17:00:00+02:00\",\"2020-09-30T18:00:00+02:00\",\"2020-09-30T19:00:00+02:00\",\"2020-09-30T20:00:00+02:00\",\"2020-09-30T21:00:00+02:00\",\"2020-09-30T22:00:00+02:00\",\"2020-09-30T23:00:00+02:00\",\"2020-10-01T00:00:00+02:00\",\"2020-10-01T01:00:00+02:00\",\"2020-10-01T02:00:00+02:00\",\"2020-10-01T03:00:00+02:00\",\"2020-10-01T04:00:00+02:00\",\"2020-10-01T05:00:00+02:00\",\"2020-10-01T06:00:00+02:00\",\"2020-10-01T07:00:00+02:00\",\"2020-10-01T08:00:00+02:00\",\"2020-10-01T09:00:00+02:00\",\"2020-10-01T10:00:00+02:00\",\"2020-10-01T11:00:00+02:00\",\"2020-10-01T12:00:00+02:00\",\"2020-10-01T13:00:00+02:00\",\"2020-10-01T14:00:00+02:00\",\"2020-10-01T15:00:00+02:00\",\"2020-10-01T16:00:00+02:00\",\"2020-10-01T17:00:00+02:00\",\"2020-10-01T18:00:00+02:00\",\"2020-10-01T19:00:00+02:00\",\"2020-10-01T20:00:00+02:00\",\"2020-10-01T21:00:00+02:00\",\"2020-10-01T22:00:00+02:00\",\"2020-10-01T23:00:00+02:00\",\"2020-10-02T00:00:00+02:00\",\"2020-10-02T01:00:00+02:00\"],\"xaxis\":\"x\",\"y\":[null,null,null,null,null,null,null,null,null,null,null,null,null,null,null,null,null,null,null,null,null,null,null,null,null,null,null,null,null,null,null,null,null,null,null,null,null,null,null,null,null,null,null,null,null,null,null,null,null,null,null,null,null,null,null,null,null,null,null,null,null,null,null,null,null,null,null,null,null,null,null,null,null,null,5347.442144480412,5287.0462461009365,5404.598135788031,5884.345266990753,6728.652040238211,7402.519009488885,7707.932075679146,7792.821260616512,7880.340905122376,7952.7020385959695,7747.756072258387,7650.987396966584,7529.454887837665,7458.574678851304,7438.024141696403,7504.431148939306,7612.29455715048,7604.844789319955,7227.481311382974,6700.063619844742,6433.831871789945,6034.3754953125335,5737.139698927349,5468.941659918672],\"yaxis\":\"y\",\"type\":\"scatter\"}],                        {\"template\":{\"data\":{\"histogram2dcontour\":[{\"type\":\"histogram2dcontour\",\"colorbar\":{\"outlinewidth\":0,\"ticks\":\"\"},\"colorscale\":[[0.0,\"#0d0887\"],[0.1111111111111111,\"#46039f\"],[0.2222222222222222,\"#7201a8\"],[0.3333333333333333,\"#9c179e\"],[0.4444444444444444,\"#bd3786\"],[0.5555555555555556,\"#d8576b\"],[0.6666666666666666,\"#ed7953\"],[0.7777777777777778,\"#fb9f3a\"],[0.8888888888888888,\"#fdca26\"],[1.0,\"#f0f921\"]]}],\"choropleth\":[{\"type\":\"choropleth\",\"colorbar\":{\"outlinewidth\":0,\"ticks\":\"\"}}],\"histogram2d\":[{\"type\":\"histogram2d\",\"colorbar\":{\"outlinewidth\":0,\"ticks\":\"\"},\"colorscale\":[[0.0,\"#0d0887\"],[0.1111111111111111,\"#46039f\"],[0.2222222222222222,\"#7201a8\"],[0.3333333333333333,\"#9c179e\"],[0.4444444444444444,\"#bd3786\"],[0.5555555555555556,\"#d8576b\"],[0.6666666666666666,\"#ed7953\"],[0.7777777777777778,\"#fb9f3a\"],[0.8888888888888888,\"#fdca26\"],[1.0,\"#f0f921\"]]}],\"heatmap\":[{\"type\":\"heatmap\",\"colorbar\":{\"outlinewidth\":0,\"ticks\":\"\"},\"colorscale\":[[0.0,\"#0d0887\"],[0.1111111111111111,\"#46039f\"],[0.2222222222222222,\"#7201a8\"],[0.3333333333333333,\"#9c179e\"],[0.4444444444444444,\"#bd3786\"],[0.5555555555555556,\"#d8576b\"],[0.6666666666666666,\"#ed7953\"],[0.7777777777777778,\"#fb9f3a\"],[0.8888888888888888,\"#fdca26\"],[1.0,\"#f0f921\"]]}],\"heatmapgl\":[{\"type\":\"heatmapgl\",\"colorbar\":{\"outlinewidth\":0,\"ticks\":\"\"},\"colorscale\":[[0.0,\"#0d0887\"],[0.1111111111111111,\"#46039f\"],[0.2222222222222222,\"#7201a8\"],[0.3333333333333333,\"#9c179e\"],[0.4444444444444444,\"#bd3786\"],[0.5555555555555556,\"#d8576b\"],[0.6666666666666666,\"#ed7953\"],[0.7777777777777778,\"#fb9f3a\"],[0.8888888888888888,\"#fdca26\"],[1.0,\"#f0f921\"]]}],\"contourcarpet\":[{\"type\":\"contourcarpet\",\"colorbar\":{\"outlinewidth\":0,\"ticks\":\"\"}}],\"contour\":[{\"type\":\"contour\",\"colorbar\":{\"outlinewidth\":0,\"ticks\":\"\"},\"colorscale\":[[0.0,\"#0d0887\"],[0.1111111111111111,\"#46039f\"],[0.2222222222222222,\"#7201a8\"],[0.3333333333333333,\"#9c179e\"],[0.4444444444444444,\"#bd3786\"],[0.5555555555555556,\"#d8576b\"],[0.6666666666666666,\"#ed7953\"],[0.7777777777777778,\"#fb9f3a\"],[0.8888888888888888,\"#fdca26\"],[1.0,\"#f0f921\"]]}],\"surface\":[{\"type\":\"surface\",\"colorbar\":{\"outlinewidth\":0,\"ticks\":\"\"},\"colorscale\":[[0.0,\"#0d0887\"],[0.1111111111111111,\"#46039f\"],[0.2222222222222222,\"#7201a8\"],[0.3333333333333333,\"#9c179e\"],[0.4444444444444444,\"#bd3786\"],[0.5555555555555556,\"#d8576b\"],[0.6666666666666666,\"#ed7953\"],[0.7777777777777778,\"#fb9f3a\"],[0.8888888888888888,\"#fdca26\"],[1.0,\"#f0f921\"]]}],\"mesh3d\":[{\"type\":\"mesh3d\",\"colorbar\":{\"outlinewidth\":0,\"ticks\":\"\"}}],\"scatter\":[{\"fillpattern\":{\"fillmode\":\"overlay\",\"size\":10,\"solidity\":0.2},\"type\":\"scatter\"}],\"parcoords\":[{\"type\":\"parcoords\",\"line\":{\"colorbar\":{\"outlinewidth\":0,\"ticks\":\"\"}}}],\"scatterpolargl\":[{\"type\":\"scatterpolargl\",\"marker\":{\"colorbar\":{\"outlinewidth\":0,\"ticks\":\"\"}}}],\"bar\":[{\"error_x\":{\"color\":\"#2a3f5f\"},\"error_y\":{\"color\":\"#2a3f5f\"},\"marker\":{\"line\":{\"color\":\"#E5ECF6\",\"width\":0.5},\"pattern\":{\"fillmode\":\"overlay\",\"size\":10,\"solidity\":0.2}},\"type\":\"bar\"}],\"scattergeo\":[{\"type\":\"scattergeo\",\"marker\":{\"colorbar\":{\"outlinewidth\":0,\"ticks\":\"\"}}}],\"scatterpolar\":[{\"type\":\"scatterpolar\",\"marker\":{\"colorbar\":{\"outlinewidth\":0,\"ticks\":\"\"}}}],\"histogram\":[{\"marker\":{\"pattern\":{\"fillmode\":\"overlay\",\"size\":10,\"solidity\":0.2}},\"type\":\"histogram\"}],\"scattergl\":[{\"type\":\"scattergl\",\"marker\":{\"colorbar\":{\"outlinewidth\":0,\"ticks\":\"\"}}}],\"scatter3d\":[{\"type\":\"scatter3d\",\"line\":{\"colorbar\":{\"outlinewidth\":0,\"ticks\":\"\"}},\"marker\":{\"colorbar\":{\"outlinewidth\":0,\"ticks\":\"\"}}}],\"scattermapbox\":[{\"type\":\"scattermapbox\",\"marker\":{\"colorbar\":{\"outlinewidth\":0,\"ticks\":\"\"}}}],\"scatterternary\":[{\"type\":\"scatterternary\",\"marker\":{\"colorbar\":{\"outlinewidth\":0,\"ticks\":\"\"}}}],\"scattercarpet\":[{\"type\":\"scattercarpet\",\"marker\":{\"colorbar\":{\"outlinewidth\":0,\"ticks\":\"\"}}}],\"carpet\":[{\"aaxis\":{\"endlinecolor\":\"#2a3f5f\",\"gridcolor\":\"white\",\"linecolor\":\"white\",\"minorgridcolor\":\"white\",\"startlinecolor\":\"#2a3f5f\"},\"baxis\":{\"endlinecolor\":\"#2a3f5f\",\"gridcolor\":\"white\",\"linecolor\":\"white\",\"minorgridcolor\":\"white\",\"startlinecolor\":\"#2a3f5f\"},\"type\":\"carpet\"}],\"table\":[{\"cells\":{\"fill\":{\"color\":\"#EBF0F8\"},\"line\":{\"color\":\"white\"}},\"header\":{\"fill\":{\"color\":\"#C8D4E3\"},\"line\":{\"color\":\"white\"}},\"type\":\"table\"}],\"barpolar\":[{\"marker\":{\"line\":{\"color\":\"#E5ECF6\",\"width\":0.5},\"pattern\":{\"fillmode\":\"overlay\",\"size\":10,\"solidity\":0.2}},\"type\":\"barpolar\"}],\"pie\":[{\"automargin\":true,\"type\":\"pie\"}]},\"layout\":{\"autotypenumbers\":\"strict\",\"colorway\":[\"#636efa\",\"#EF553B\",\"#00cc96\",\"#ab63fa\",\"#FFA15A\",\"#19d3f3\",\"#FF6692\",\"#B6E880\",\"#FF97FF\",\"#FECB52\"],\"font\":{\"color\":\"#2a3f5f\"},\"hovermode\":\"closest\",\"hoverlabel\":{\"align\":\"left\"},\"paper_bgcolor\":\"white\",\"plot_bgcolor\":\"#E5ECF6\",\"polar\":{\"bgcolor\":\"#E5ECF6\",\"angularaxis\":{\"gridcolor\":\"white\",\"linecolor\":\"white\",\"ticks\":\"\"},\"radialaxis\":{\"gridcolor\":\"white\",\"linecolor\":\"white\",\"ticks\":\"\"}},\"ternary\":{\"bgcolor\":\"#E5ECF6\",\"aaxis\":{\"gridcolor\":\"white\",\"linecolor\":\"white\",\"ticks\":\"\"},\"baxis\":{\"gridcolor\":\"white\",\"linecolor\":\"white\",\"ticks\":\"\"},\"caxis\":{\"gridcolor\":\"white\",\"linecolor\":\"white\",\"ticks\":\"\"}},\"coloraxis\":{\"colorbar\":{\"outlinewidth\":0,\"ticks\":\"\"}},\"colorscale\":{\"sequential\":[[0.0,\"#0d0887\"],[0.1111111111111111,\"#46039f\"],[0.2222222222222222,\"#7201a8\"],[0.3333333333333333,\"#9c179e\"],[0.4444444444444444,\"#bd3786\"],[0.5555555555555556,\"#d8576b\"],[0.6666666666666666,\"#ed7953\"],[0.7777777777777778,\"#fb9f3a\"],[0.8888888888888888,\"#fdca26\"],[1.0,\"#f0f921\"]],\"sequentialminus\":[[0.0,\"#0d0887\"],[0.1111111111111111,\"#46039f\"],[0.2222222222222222,\"#7201a8\"],[0.3333333333333333,\"#9c179e\"],[0.4444444444444444,\"#bd3786\"],[0.5555555555555556,\"#d8576b\"],[0.6666666666666666,\"#ed7953\"],[0.7777777777777778,\"#fb9f3a\"],[0.8888888888888888,\"#fdca26\"],[1.0,\"#f0f921\"]],\"diverging\":[[0,\"#8e0152\"],[0.1,\"#c51b7d\"],[0.2,\"#de77ae\"],[0.3,\"#f1b6da\"],[0.4,\"#fde0ef\"],[0.5,\"#f7f7f7\"],[0.6,\"#e6f5d0\"],[0.7,\"#b8e186\"],[0.8,\"#7fbc41\"],[0.9,\"#4d9221\"],[1,\"#276419\"]]},\"xaxis\":{\"gridcolor\":\"white\",\"linecolor\":\"white\",\"ticks\":\"\",\"title\":{\"standoff\":15},\"zerolinecolor\":\"white\",\"automargin\":true,\"zerolinewidth\":2},\"yaxis\":{\"gridcolor\":\"white\",\"linecolor\":\"white\",\"ticks\":\"\",\"title\":{\"standoff\":15},\"zerolinecolor\":\"white\",\"automargin\":true,\"zerolinewidth\":2},\"scene\":{\"xaxis\":{\"backgroundcolor\":\"#E5ECF6\",\"gridcolor\":\"white\",\"linecolor\":\"white\",\"showbackground\":true,\"ticks\":\"\",\"zerolinecolor\":\"white\",\"gridwidth\":2},\"yaxis\":{\"backgroundcolor\":\"#E5ECF6\",\"gridcolor\":\"white\",\"linecolor\":\"white\",\"showbackground\":true,\"ticks\":\"\",\"zerolinecolor\":\"white\",\"gridwidth\":2},\"zaxis\":{\"backgroundcolor\":\"#E5ECF6\",\"gridcolor\":\"white\",\"linecolor\":\"white\",\"showbackground\":true,\"ticks\":\"\",\"zerolinecolor\":\"white\",\"gridwidth\":2}},\"shapedefaults\":{\"line\":{\"color\":\"#2a3f5f\"}},\"annotationdefaults\":{\"arrowcolor\":\"#2a3f5f\",\"arrowhead\":0,\"arrowwidth\":1},\"geo\":{\"bgcolor\":\"white\",\"landcolor\":\"#E5ECF6\",\"subunitcolor\":\"white\",\"showland\":true,\"showlakes\":true,\"lakecolor\":\"white\"},\"title\":{\"x\":0.05},\"mapbox\":{\"style\":\"light\"}}},\"xaxis\":{\"anchor\":\"y\",\"domain\":[0.0,1.0],\"title\":{\"text\":\"index\"}},\"yaxis\":{\"anchor\":\"x\",\"domain\":[0.0,1.0],\"title\":{\"text\":\"value\"}},\"legend\":{\"title\":{\"text\":\"variable\"},\"tracegroupgap\":0},\"margin\":{\"t\":60}},                        {\"responsive\": true}                    ).then(function(){\n",
       "                            \n",
       "var gd = document.getElementById('fde544bc-af28-4731-a439-ca5b55da3c61');\n",
       "var x = new MutationObserver(function (mutations, observer) {{\n",
       "        var display = window.getComputedStyle(gd).display;\n",
       "        if (!display || display === 'none') {{\n",
       "            console.log([gd, 'removed!']);\n",
       "            Plotly.purge(gd);\n",
       "            observer.disconnect();\n",
       "        }}\n",
       "}});\n",
       "\n",
       "// Listen for the removal of the full notebook cells\n",
       "var notebookContainer = gd.closest('#notebook-container');\n",
       "if (notebookContainer) {{\n",
       "    x.observe(notebookContainer, {childList: true});\n",
       "}}\n",
       "\n",
       "// Listen for the clearing of the current output cell\n",
       "var outputEl = gd.closest('.output');\n",
       "if (outputEl) {{\n",
       "    x.observe(outputEl, {childList: true});\n",
       "}}\n",
       "\n",
       "                        })                };                });            </script>        </div>"
      ]
     },
     "metadata": {},
     "output_type": "display_data"
    }
   ],
   "source": [
    "import plotly.express as px\n",
    "\n",
    "px.line(data_pred.loc['2020-09-28':], markers=True)"
   ]
  },
  {
   "cell_type": "markdown",
   "metadata": {},
   "source": [
    "Para cargar el modelo:"
   ]
  },
  {
   "cell_type": "code",
   "execution_count": null,
   "metadata": {},
   "outputs": [],
   "source": [
    "model2 = sm.tsa.statespace.sarimax.SARIMAXResults.load(\"SARIMA10010024.pkl\")"
   ]
  },
  {
   "cell_type": "code",
   "execution_count": null,
   "metadata": {},
   "outputs": [],
   "source": [
    "import plotly.express as px\n",
    "\n",
    "datos = data[data['local_timestamp']>=r]\n",
    "px.line(datos, x='local_timestamp', y=\"AT_load_actual_entsoe_transparency\", markers=True)"
   ]
  },
  {
   "cell_type": "code",
   "execution_count": null,
   "metadata": {},
   "outputs": [],
   "source": []
  }
 ],
 "metadata": {
  "kernelspec": {
   "display_name": "Python 3 (ipykernel)",
   "language": "python",
   "name": "python3"
  },
  "language_info": {
   "codemirror_mode": {
    "name": "ipython",
    "version": 3
   },
   "file_extension": ".py",
   "mimetype": "text/x-python",
   "name": "python",
   "nbconvert_exporter": "python",
   "pygments_lexer": "ipython3",
   "version": "3.9.15"
  },
  "vscode": {
   "interpreter": {
    "hash": "60c44fe3fe06e59038b8ba257976ab92ee503687eb42d70d890aa9534d61bbf5"
   }
  }
 },
 "nbformat": 4,
 "nbformat_minor": 2
}
