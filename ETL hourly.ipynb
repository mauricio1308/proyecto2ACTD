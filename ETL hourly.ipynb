{
 "cells": [
  {
   "cell_type": "markdown",
   "metadata": {},
   "source": [
    "# Importar librerias"
   ]
  },
  {
   "cell_type": "code",
   "execution_count": 2,
   "metadata": {},
   "outputs": [],
   "source": [
    "import numpy as np\n",
    "import pandas as pd\n",
    "import datetime as dt\n",
    "import matplotlib as plt\n",
    "import matplotlib.pyplot as plt\n",
    "#import rpy2.robjects as robjects\n",
    "import statsmodels.api as sm\n",
    "from statsmodels.formula.api import ols\n",
    "from astsadata import *\n",
    "import warnings\n"
   ]
  },
  {
   "cell_type": "markdown",
   "metadata": {},
   "source": [
    "## 1. Cargar datos"
   ]
  },
  {
   "cell_type": "code",
   "execution_count": null,
   "metadata": {
    "scrolled": true
   },
   "outputs": [],
   "source": [
    "%%time\n",
    "data_full = pd.read_csv(\"time_series_60min_singleindex.csv\")\n",
    "data = data_full[['utc_timestamp','AT_load_actual_entsoe_transparency']][40000:].copy()\n",
    "data.head()"
   ]
  },
  {
   "cell_type": "code",
   "execution_count": null,
   "metadata": {},
   "outputs": [],
   "source": [
    "data.shape"
   ]
  },
  {
   "cell_type": "markdown",
   "metadata": {},
   "source": [
    "1.1. Formato correcto"
   ]
  },
  {
   "cell_type": "code",
   "execution_count": null,
   "metadata": {
    "scrolled": true
   },
   "outputs": [],
   "source": [
    "data[['utc_timestamp']] = data[['utc_timestamp']].apply(pd.to_datetime)\n",
    "data['local_timestamp'] = data['utc_timestamp'].dt.tz_convert('Europe/Vienna')\n",
    "data.head()"
   ]
  },
  {
   "cell_type": "markdown",
   "metadata": {},
   "source": [
    "1.2. Quitar datos nulos"
   ]
  },
  {
   "cell_type": "code",
   "execution_count": null,
   "metadata": {},
   "outputs": [],
   "source": [
    "data = data.dropna()\n",
    "data.shape"
   ]
  },
  {
   "cell_type": "markdown",
   "metadata": {},
   "source": [
    "1.3. Convertir la fecha en el index de la serie"
   ]
  },
  {
   "cell_type": "code",
   "execution_count": null,
   "metadata": {},
   "outputs": [],
   "source": [
    "data.index = data[\"local_timestamp\"]\n",
    "data.drop(columns=['utc_timestamp', 'local_timestamp'], inplace=True)\n",
    "data.head()"
   ]
  },
  {
   "cell_type": "markdown",
   "metadata": {},
   "source": [
    "## 2. Análisis de datos"
   ]
  },
  {
   "cell_type": "markdown",
   "metadata": {},
   "source": [
    "### Funciones de soporte para graficar funciones de autocorrelación"
   ]
  },
  {
   "cell_type": "code",
   "execution_count": null,
   "metadata": {},
   "outputs": [],
   "source": [
    "def acf1(x, nlags=None, acf_type=\"correlation\", pacf=False, ax=None, **kwargs):\n",
    "    lags = np.arange(1, nlags + 1)\n",
    "\n",
    "    if pacf:\n",
    "        if acf_type == \"correlation\":\n",
    "            values = sm.tsa.pacf(x, nlags=nlags)[1:]\n",
    "            ylabel = \"PACF\"\n",
    "    else:\n",
    "        if acf_type == \"correlation\":\n",
    "            values = sm.tsa.acf(x, nlags=nlags, fft=False)[1:]\n",
    "            ylabel = \"ACF\"\n",
    "        elif acf_type == \"covariance\":\n",
    "            values = sm.tsa.acovf(x, nlag=nlags)[1:]\n",
    "            ylabel = \"ACoV\"\n",
    "\n",
    "    if ax is None:\n",
    "        ax = plt.gca()\n",
    " \n",
    "    ax.bar(lags, values, **kwargs)\n",
    "    ax.axhline(0, color=\"black\", linewidth=1)\n",
    "    if acf_type == \"correlation\":\n",
    "        conf_level = 1.96 / np.sqrt(x.shape[0])\n",
    "        ax.axhline(conf_level, color=\"red\", linestyle=\"--\", linewidth=1)\n",
    "        ax.axhline(-conf_level, color=\"red\", linestyle=\"--\", linewidth=1)\n",
    "    ax.set_xlabel(\"LAG\")\n",
    "    ax.set_ylabel(ylabel)\n",
    "\n",
    "    return ax"
   ]
  },
  {
   "cell_type": "code",
   "execution_count": null,
   "metadata": {
    "scrolled": false
   },
   "outputs": [],
   "source": [
    "# Graficar serie\n",
    "data.plot(figsize=(15, 4), linewidth=0.1)"
   ]
  },
  {
   "cell_type": "code",
   "execution_count": null,
   "metadata": {},
   "outputs": [],
   "source": [
    "# ACF y PACF de la serie AT_load_actual_entsoe_transparency\n",
    "fig, axes = plt.subplots(nrows=2, figsize=(15, 7))\n",
    "\n",
    "acf1(data, nlags=100, ax=axes[0], width=.5)\n",
    "axes[0].set_title(\"ACF: serie AT_load_actual_entsoe_transparency\")\n",
    "\n",
    "acf1(data, nlags=20, pacf=True, ax=axes[1], width=.3)\n",
    "axes[1].set_title(\"PACF: serie AT_load_actual_entsoe_transparency\")\n",
    "\n",
    "fig.tight_layout()\n",
    "plt.show()"
   ]
  },
  {
   "cell_type": "markdown",
   "metadata": {},
   "source": [
    "## 3. Modelo "
   ]
  },
  {
   "cell_type": "code",
   "execution_count": null,
   "metadata": {
    "scrolled": false
   },
   "outputs": [],
   "source": [
    "# , trend=\"c\"\n",
    "model = sm.tsa.SARIMAX(data, order = (1,1,2),seasonal_order=(2, 1, 2, 24)).fit() # SARIMA(1,0,0)\n",
    "model.summary()"
   ]
  },
  {
   "cell_type": "code",
   "execution_count": null,
   "metadata": {},
   "outputs": [],
   "source": [
    "fig = model.plot_diagnostics(figsize=(10, 7))\n",
    "fig.tight_layout()\n",
    "plt.show()"
   ]
  },
  {
   "cell_type": "code",
   "execution_count": null,
   "metadata": {},
   "outputs": [],
   "source": [
    "model.save(\"SARIMA11221224.pkl\")"
   ]
  },
  {
   "cell_type": "markdown",
   "metadata": {},
   "source": [
    "## 4. Predicción "
   ]
  },
  {
   "cell_type": "code",
   "execution_count": null,
   "metadata": {},
   "outputs": [],
   "source": [
    "from pandas.tseries.offsets import DateOffset\n",
    "pred_date=[data.index[-1] + DateOffset(hours=x)for x in range(0,25)]"
   ]
  },
  {
   "cell_type": "code",
   "execution_count": null,
   "metadata": {},
   "outputs": [],
   "source": [
    "data_pred = data.copy()\n",
    "data_pred[\"forecast\"] = np.nan\n",
    "pred_date=pd.DataFrame(index=pred_date[1:],columns=data.columns)"
   ]
  },
  {
   "cell_type": "code",
   "execution_count": null,
   "metadata": {},
   "outputs": [],
   "source": [
    "data_pred=pd.concat([data_pred,pred_date])"
   ]
  },
  {
   "cell_type": "code",
   "execution_count": null,
   "metadata": {
    "scrolled": false
   },
   "outputs": [],
   "source": [
    "forecast = model.get_prediction(start = len(data), end = len(data)+23)\n",
    "forecast_mean = forecast.predicted_mean\n",
    "forecast_U = forecast.predicted_mean + forecast.se_mean\n",
    "forecast_L = forecast.predicted_mean - forecast.se_mean\n",
    "forecast_mean.index = pred_date.index\n",
    "forecast_U.index = pred_date.index\n",
    "forecast_L.index = pred_date.index"
   ]
  },
  {
   "cell_type": "code",
   "execution_count": null,
   "metadata": {
    "scrolled": true
   },
   "outputs": [],
   "source": [
    "data_pred['forecast'] = forecast_mean\n",
    "data_pred['Upper bound'] = forecast_U\n",
    "data_pred['Lower bound'] = forecast_L"
   ]
  },
  {
   "cell_type": "code",
   "execution_count": null,
   "metadata": {},
   "outputs": [],
   "source": [
    "import plotly.graph_objs as go\n",
    "\n",
    "data_plot = data_pred.loc['2020-09-28':]\n",
    "fig = go.Figure([\n",
    "    go.Scatter(\n",
    "        name='Demanda energética',\n",
    "        x=data_plot.index,\n",
    "        y=data_plot['AT_load_actual_entsoe_transparency'],\n",
    "        mode='lines',\n",
    "        line=dict(color='rgb(31, 119, 180)'),\n",
    "    ),\n",
    "    go.Scatter(\n",
    "        name='Proyección',\n",
    "        x=data_plot.index,\n",
    "        y=data_plot['forecast'],\n",
    "        mode='lines',\n",
    "        line=dict(color='rgb(31, 119, 180)'),\n",
    "    ),\n",
    "    go.Scatter(\n",
    "        name='Upper Bound',\n",
    "        x=data_plot.index,\n",
    "        y=data_plot['Upper bound'],\n",
    "        mode='lines',\n",
    "        marker=dict(color=\"#444\"),\n",
    "        line=dict(width=0),\n",
    "        showlegend=False\n",
    "    ),\n",
    "    go.Scatter(\n",
    "        name='Lower Bound',\n",
    "        x=data_plot.index,\n",
    "        y=data_plot['Lower bound'],\n",
    "        marker=dict(color=\"#444\"),\n",
    "        line=dict(width=0),\n",
    "        mode='lines',\n",
    "        fillcolor='rgba(68, 68, 68, 0.3)',\n",
    "        fill='tonexty',\n",
    "        showlegend=False\n",
    "    )\n",
    "])\n",
    "fig.update_layout(\n",
    "    yaxis_title='Wind speed (m/s)',\n",
    "    title='Continuous, variable value error bars',\n",
    "    hovermode=\"x\"\n",
    ")\n",
    "fig.show()"
   ]
  },
  {
   "cell_type": "markdown",
   "metadata": {},
   "source": [
    "Para cargar el modelo:"
   ]
  },
  {
   "cell_type": "code",
   "execution_count": null,
   "metadata": {},
   "outputs": [],
   "source": [
    "import statsmodels as sm"
   ]
  },
  {
   "cell_type": "code",
   "execution_count": null,
   "metadata": {},
   "outputs": [],
   "source": [
    "model2 = sm.tsa.statespace.sarimax.SARIMAXResults.load(\"SARIMA11221224.pkl\")"
   ]
  }
 ],
 "metadata": {
  "kernelspec": {
   "display_name": "Python 3 (ipykernel)",
   "language": "python",
   "name": "python3"
  },
  "language_info": {
   "codemirror_mode": {
    "name": "ipython",
    "version": 3
   },
   "file_extension": ".py",
   "mimetype": "text/x-python",
   "name": "python",
   "nbconvert_exporter": "python",
   "pygments_lexer": "ipython3",
   "version": "3.9.15"
  },
  "vscode": {
   "interpreter": {
    "hash": "60c44fe3fe06e59038b8ba257976ab92ee503687eb42d70d890aa9534d61bbf5"
   }
  }
 },
 "nbformat": 4,
 "nbformat_minor": 2
}
