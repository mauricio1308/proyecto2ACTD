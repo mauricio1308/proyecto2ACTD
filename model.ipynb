{
 "cells": [
  {
   "cell_type": "code",
   "execution_count": 1,
   "metadata": {},
   "outputs": [
    {
     "name": "stderr",
     "output_type": "stream",
     "text": [
      "/Users/juancamilopico/opt/anaconda3/lib/python3.8/site-packages/pandas/core/arrays/datetimes.py:1101: UserWarning: Converting to PeriodArray/Index representation will drop timezone information.\n",
      "  warnings.warn(\n"
     ]
    }
   ],
   "source": [
    "import numpy as np\n",
    "import pandas as pd\n",
    "import datetime as dt\n",
    "import matplotlib as plt\n",
    "\n",
    "import numpy as np\n",
    "import pandas as pd\n",
    "import matplotlib.pyplot as plt\n",
    "#import rpy2.robjects as robjects\n",
    "import statsmodels.api as sm\n",
    "from statsmodels.formula.api import ols\n",
    "from astsadata import *\n",
    "import warnings"
   ]
  },
  {
   "cell_type": "markdown",
   "metadata": {},
   "source": [
    "## 1. Cargar datos"
   ]
  },
  {
   "cell_type": "code",
   "execution_count": 2,
   "metadata": {
    "scrolled": true
   },
   "outputs": [
    {
     "data": {
      "text/html": [
       "<div>\n",
       "<style scoped>\n",
       "    .dataframe tbody tr th:only-of-type {\n",
       "        vertical-align: middle;\n",
       "    }\n",
       "\n",
       "    .dataframe tbody tr th {\n",
       "        vertical-align: top;\n",
       "    }\n",
       "\n",
       "    .dataframe thead th {\n",
       "        text-align: right;\n",
       "    }\n",
       "</style>\n",
       "<table border=\"1\" class=\"dataframe\">\n",
       "  <thead>\n",
       "    <tr style=\"text-align: right;\">\n",
       "      <th></th>\n",
       "      <th>utc_timestamp</th>\n",
       "      <th>AT_load_actual_entsoe_transparency</th>\n",
       "    </tr>\n",
       "  </thead>\n",
       "  <tbody>\n",
       "    <tr>\n",
       "      <th>40000</th>\n",
       "      <td>2019-07-25T15:00:00Z</td>\n",
       "      <td>8172.0</td>\n",
       "    </tr>\n",
       "    <tr>\n",
       "      <th>40001</th>\n",
       "      <td>2019-07-25T16:00:00Z</td>\n",
       "      <td>8107.0</td>\n",
       "    </tr>\n",
       "    <tr>\n",
       "      <th>40002</th>\n",
       "      <td>2019-07-25T17:00:00Z</td>\n",
       "      <td>7781.0</td>\n",
       "    </tr>\n",
       "    <tr>\n",
       "      <th>40003</th>\n",
       "      <td>2019-07-25T18:00:00Z</td>\n",
       "      <td>7436.0</td>\n",
       "    </tr>\n",
       "    <tr>\n",
       "      <th>40004</th>\n",
       "      <td>2019-07-25T19:00:00Z</td>\n",
       "      <td>7219.0</td>\n",
       "    </tr>\n",
       "  </tbody>\n",
       "</table>\n",
       "</div>"
      ],
      "text/plain": [
       "              utc_timestamp  AT_load_actual_entsoe_transparency\n",
       "40000  2019-07-25T15:00:00Z                              8172.0\n",
       "40001  2019-07-25T16:00:00Z                              8107.0\n",
       "40002  2019-07-25T17:00:00Z                              7781.0\n",
       "40003  2019-07-25T18:00:00Z                              7436.0\n",
       "40004  2019-07-25T19:00:00Z                              7219.0"
      ]
     },
     "execution_count": 2,
     "metadata": {},
     "output_type": "execute_result"
    }
   ],
   "source": [
    "data_full = pd.read_csv(\"time_series_60min_singleindex.csv\")\n",
    "data = data_full[['utc_timestamp','AT_load_actual_entsoe_transparency']][40000:].copy()\n",
    "data.head()"
   ]
  },
  {
   "cell_type": "code",
   "execution_count": 3,
   "metadata": {},
   "outputs": [
    {
     "data": {
      "text/plain": [
       "(10401, 2)"
      ]
     },
     "execution_count": 3,
     "metadata": {},
     "output_type": "execute_result"
    }
   ],
   "source": [
    "data.shape"
   ]
  },
  {
   "cell_type": "markdown",
   "metadata": {},
   "source": [
    "1.1. Formato correcto"
   ]
  },
  {
   "cell_type": "code",
   "execution_count": 4,
   "metadata": {
    "scrolled": true
   },
   "outputs": [
    {
     "data": {
      "text/html": [
       "<div>\n",
       "<style scoped>\n",
       "    .dataframe tbody tr th:only-of-type {\n",
       "        vertical-align: middle;\n",
       "    }\n",
       "\n",
       "    .dataframe tbody tr th {\n",
       "        vertical-align: top;\n",
       "    }\n",
       "\n",
       "    .dataframe thead th {\n",
       "        text-align: right;\n",
       "    }\n",
       "</style>\n",
       "<table border=\"1\" class=\"dataframe\">\n",
       "  <thead>\n",
       "    <tr style=\"text-align: right;\">\n",
       "      <th></th>\n",
       "      <th>utc_timestamp</th>\n",
       "      <th>AT_load_actual_entsoe_transparency</th>\n",
       "      <th>local_timestamp</th>\n",
       "    </tr>\n",
       "  </thead>\n",
       "  <tbody>\n",
       "    <tr>\n",
       "      <th>40000</th>\n",
       "      <td>2019-07-25 15:00:00+00:00</td>\n",
       "      <td>8172.0</td>\n",
       "      <td>2019-07-25 17:00:00+02:00</td>\n",
       "    </tr>\n",
       "    <tr>\n",
       "      <th>40001</th>\n",
       "      <td>2019-07-25 16:00:00+00:00</td>\n",
       "      <td>8107.0</td>\n",
       "      <td>2019-07-25 18:00:00+02:00</td>\n",
       "    </tr>\n",
       "    <tr>\n",
       "      <th>40002</th>\n",
       "      <td>2019-07-25 17:00:00+00:00</td>\n",
       "      <td>7781.0</td>\n",
       "      <td>2019-07-25 19:00:00+02:00</td>\n",
       "    </tr>\n",
       "    <tr>\n",
       "      <th>40003</th>\n",
       "      <td>2019-07-25 18:00:00+00:00</td>\n",
       "      <td>7436.0</td>\n",
       "      <td>2019-07-25 20:00:00+02:00</td>\n",
       "    </tr>\n",
       "    <tr>\n",
       "      <th>40004</th>\n",
       "      <td>2019-07-25 19:00:00+00:00</td>\n",
       "      <td>7219.0</td>\n",
       "      <td>2019-07-25 21:00:00+02:00</td>\n",
       "    </tr>\n",
       "  </tbody>\n",
       "</table>\n",
       "</div>"
      ],
      "text/plain": [
       "                  utc_timestamp  AT_load_actual_entsoe_transparency  \\\n",
       "40000 2019-07-25 15:00:00+00:00                              8172.0   \n",
       "40001 2019-07-25 16:00:00+00:00                              8107.0   \n",
       "40002 2019-07-25 17:00:00+00:00                              7781.0   \n",
       "40003 2019-07-25 18:00:00+00:00                              7436.0   \n",
       "40004 2019-07-25 19:00:00+00:00                              7219.0   \n",
       "\n",
       "                local_timestamp  \n",
       "40000 2019-07-25 17:00:00+02:00  \n",
       "40001 2019-07-25 18:00:00+02:00  \n",
       "40002 2019-07-25 19:00:00+02:00  \n",
       "40003 2019-07-25 20:00:00+02:00  \n",
       "40004 2019-07-25 21:00:00+02:00  "
      ]
     },
     "execution_count": 4,
     "metadata": {},
     "output_type": "execute_result"
    }
   ],
   "source": [
    "data[['utc_timestamp']] = data[['utc_timestamp']].apply(pd.to_datetime)\n",
    "data['local_timestamp'] = data['utc_timestamp'].dt.tz_convert('Europe/Vienna')\n",
    "data.head()"
   ]
  },
  {
   "cell_type": "markdown",
   "metadata": {},
   "source": [
    "1.2. Quitar datos nulos"
   ]
  },
  {
   "cell_type": "code",
   "execution_count": 5,
   "metadata": {},
   "outputs": [
    {
     "data": {
      "text/plain": [
       "(10401, 3)"
      ]
     },
     "execution_count": 5,
     "metadata": {},
     "output_type": "execute_result"
    }
   ],
   "source": [
    "data = data.dropna()\n",
    "data.shape"
   ]
  },
  {
   "cell_type": "markdown",
   "metadata": {},
   "source": [
    "1.3. Convertir la fecha en el index de la serie"
   ]
  },
  {
   "cell_type": "code",
   "execution_count": 6,
   "metadata": {},
   "outputs": [
    {
     "data": {
      "text/html": [
       "<div>\n",
       "<style scoped>\n",
       "    .dataframe tbody tr th:only-of-type {\n",
       "        vertical-align: middle;\n",
       "    }\n",
       "\n",
       "    .dataframe tbody tr th {\n",
       "        vertical-align: top;\n",
       "    }\n",
       "\n",
       "    .dataframe thead th {\n",
       "        text-align: right;\n",
       "    }\n",
       "</style>\n",
       "<table border=\"1\" class=\"dataframe\">\n",
       "  <thead>\n",
       "    <tr style=\"text-align: right;\">\n",
       "      <th></th>\n",
       "      <th>AT_load_actual_entsoe_transparency</th>\n",
       "    </tr>\n",
       "    <tr>\n",
       "      <th>local_timestamp</th>\n",
       "      <th></th>\n",
       "    </tr>\n",
       "  </thead>\n",
       "  <tbody>\n",
       "    <tr>\n",
       "      <th>2019-07-25 17:00:00+02:00</th>\n",
       "      <td>8172.0</td>\n",
       "    </tr>\n",
       "    <tr>\n",
       "      <th>2019-07-25 18:00:00+02:00</th>\n",
       "      <td>8107.0</td>\n",
       "    </tr>\n",
       "    <tr>\n",
       "      <th>2019-07-25 19:00:00+02:00</th>\n",
       "      <td>7781.0</td>\n",
       "    </tr>\n",
       "    <tr>\n",
       "      <th>2019-07-25 20:00:00+02:00</th>\n",
       "      <td>7436.0</td>\n",
       "    </tr>\n",
       "    <tr>\n",
       "      <th>2019-07-25 21:00:00+02:00</th>\n",
       "      <td>7219.0</td>\n",
       "    </tr>\n",
       "  </tbody>\n",
       "</table>\n",
       "</div>"
      ],
      "text/plain": [
       "                           AT_load_actual_entsoe_transparency\n",
       "local_timestamp                                              \n",
       "2019-07-25 17:00:00+02:00                              8172.0\n",
       "2019-07-25 18:00:00+02:00                              8107.0\n",
       "2019-07-25 19:00:00+02:00                              7781.0\n",
       "2019-07-25 20:00:00+02:00                              7436.0\n",
       "2019-07-25 21:00:00+02:00                              7219.0"
      ]
     },
     "execution_count": 6,
     "metadata": {},
     "output_type": "execute_result"
    }
   ],
   "source": [
    "data.index = data[\"local_timestamp\"]\n",
    "data.drop(columns=['utc_timestamp', 'local_timestamp'], inplace=True)\n",
    "data.head()"
   ]
  },
  {
   "cell_type": "markdown",
   "metadata": {},
   "source": [
    "## 3. Modelo "
   ]
  },
  {
   "cell_type": "code",
   "execution_count": 7,
   "metadata": {
    "scrolled": false
   },
   "outputs": [
    {
     "name": "stderr",
     "output_type": "stream",
     "text": [
      "/Users/juancamilopico/opt/anaconda3/lib/python3.8/site-packages/statsmodels/tsa/base/tsa_model.py:581: ValueWarning: A date index has been provided, but it has no associated frequency information and so will be ignored when e.g. forecasting.\n",
      "  warnings.warn('A date index has been provided, but it has no'\n",
      "/Users/juancamilopico/opt/anaconda3/lib/python3.8/site-packages/statsmodels/tsa/base/tsa_model.py:581: ValueWarning: A date index has been provided, but it has no associated frequency information and so will be ignored when e.g. forecasting.\n",
      "  warnings.warn('A date index has been provided, but it has no'\n"
     ]
    },
    {
     "data": {
      "text/html": [
       "<table class=\"simpletable\">\n",
       "<caption>SARIMAX Results</caption>\n",
       "<tr>\n",
       "  <th>Dep. Variable:</th>   <td>AT_load_actual_entsoe_transparency</td> <th>  No. Observations:  </th>    <td>10401</td>  \n",
       "</tr>\n",
       "<tr>\n",
       "  <th>Model:</th>             <td>SARIMAX(1, 1, 2)x(2, 1, 2, 24)</td>   <th>  Log Likelihood     </th> <td>-60973.859</td>\n",
       "</tr>\n",
       "<tr>\n",
       "  <th>Date:</th>                     <td>Thu, 08 Dec 2022</td>          <th>  AIC                </th> <td>121963.718</td>\n",
       "</tr>\n",
       "<tr>\n",
       "  <th>Time:</th>                         <td>15:33:57</td>              <th>  BIC                </th> <td>122021.696</td>\n",
       "</tr>\n",
       "<tr>\n",
       "  <th>Sample:</th>                           <td>0</td>                 <th>  HQIC               </th> <td>121983.307</td>\n",
       "</tr>\n",
       "<tr>\n",
       "  <th></th>                              <td> - 10401</td>              <th>                     </th>      <td> </td>    \n",
       "</tr>\n",
       "<tr>\n",
       "  <th>Covariance Type:</th>                 <td>opg</td>                <th>                     </th>      <td> </td>    \n",
       "</tr>\n",
       "</table>\n",
       "<table class=\"simpletable\">\n",
       "<tr>\n",
       "      <td></td>        <th>coef</th>     <th>std err</th>      <th>z</th>      <th>P>|z|</th>  <th>[0.025</th>    <th>0.975]</th>  \n",
       "</tr>\n",
       "<tr>\n",
       "  <th>ar.L1</th>    <td>    0.2013</td> <td>    0.019</td> <td>   10.530</td> <td> 0.000</td> <td>    0.164</td> <td>    0.239</td>\n",
       "</tr>\n",
       "<tr>\n",
       "  <th>ma.L1</th>    <td>    0.5906</td> <td>    0.020</td> <td>   29.480</td> <td> 0.000</td> <td>    0.551</td> <td>    0.630</td>\n",
       "</tr>\n",
       "<tr>\n",
       "  <th>ma.L2</th>    <td>    0.3179</td> <td>    0.015</td> <td>   21.571</td> <td> 0.000</td> <td>    0.289</td> <td>    0.347</td>\n",
       "</tr>\n",
       "<tr>\n",
       "  <th>ar.S.L24</th> <td>    0.9718</td> <td>    0.011</td> <td>   91.173</td> <td> 0.000</td> <td>    0.951</td> <td>    0.993</td>\n",
       "</tr>\n",
       "<tr>\n",
       "  <th>ar.S.L48</th> <td>   -0.5102</td> <td>    0.007</td> <td>  -69.746</td> <td> 0.000</td> <td>   -0.525</td> <td>   -0.496</td>\n",
       "</tr>\n",
       "<tr>\n",
       "  <th>ma.S.L24</th> <td>   -1.5348</td> <td>    0.012</td> <td> -124.322</td> <td> 0.000</td> <td>   -1.559</td> <td>   -1.511</td>\n",
       "</tr>\n",
       "<tr>\n",
       "  <th>ma.S.L48</th> <td>    0.6932</td> <td>    0.011</td> <td>   63.316</td> <td> 0.000</td> <td>    0.672</td> <td>    0.715</td>\n",
       "</tr>\n",
       "<tr>\n",
       "  <th>sigma2</th>   <td> 7415.9317</td> <td>   66.371</td> <td>  111.734</td> <td> 0.000</td> <td> 7285.846</td> <td> 7546.017</td>\n",
       "</tr>\n",
       "</table>\n",
       "<table class=\"simpletable\">\n",
       "<tr>\n",
       "  <th>Ljung-Box (L1) (Q):</th>     <td>0.00</td> <th>  Jarque-Bera (JB):  </th> <td>5243.07</td>\n",
       "</tr>\n",
       "<tr>\n",
       "  <th>Prob(Q):</th>                <td>0.96</td> <th>  Prob(JB):          </th>  <td>0.00</td>  \n",
       "</tr>\n",
       "<tr>\n",
       "  <th>Heteroskedasticity (H):</th> <td>0.68</td> <th>  Skew:              </th>  <td>-0.06</td> \n",
       "</tr>\n",
       "<tr>\n",
       "  <th>Prob(H) (two-sided):</th>    <td>0.00</td> <th>  Kurtosis:          </th>  <td>6.48</td>  \n",
       "</tr>\n",
       "</table><br/><br/>Warnings:<br/>[1] Covariance matrix calculated using the outer product of gradients (complex-step)."
      ],
      "text/plain": [
       "<class 'statsmodels.iolib.summary.Summary'>\n",
       "\"\"\"\n",
       "                                       SARIMAX Results                                        \n",
       "==============================================================================================\n",
       "Dep. Variable:     AT_load_actual_entsoe_transparency   No. Observations:                10401\n",
       "Model:                 SARIMAX(1, 1, 2)x(2, 1, 2, 24)   Log Likelihood              -60973.859\n",
       "Date:                                Thu, 08 Dec 2022   AIC                         121963.718\n",
       "Time:                                        15:33:57   BIC                         122021.696\n",
       "Sample:                                             0   HQIC                        121983.307\n",
       "                                              - 10401                                         \n",
       "Covariance Type:                                  opg                                         \n",
       "==============================================================================\n",
       "                 coef    std err          z      P>|z|      [0.025      0.975]\n",
       "------------------------------------------------------------------------------\n",
       "ar.L1          0.2013      0.019     10.530      0.000       0.164       0.239\n",
       "ma.L1          0.5906      0.020     29.480      0.000       0.551       0.630\n",
       "ma.L2          0.3179      0.015     21.571      0.000       0.289       0.347\n",
       "ar.S.L24       0.9718      0.011     91.173      0.000       0.951       0.993\n",
       "ar.S.L48      -0.5102      0.007    -69.746      0.000      -0.525      -0.496\n",
       "ma.S.L24      -1.5348      0.012   -124.322      0.000      -1.559      -1.511\n",
       "ma.S.L48       0.6932      0.011     63.316      0.000       0.672       0.715\n",
       "sigma2      7415.9317     66.371    111.734      0.000    7285.846    7546.017\n",
       "===================================================================================\n",
       "Ljung-Box (L1) (Q):                   0.00   Jarque-Bera (JB):              5243.07\n",
       "Prob(Q):                              0.96   Prob(JB):                         0.00\n",
       "Heteroskedasticity (H):               0.68   Skew:                            -0.06\n",
       "Prob(H) (two-sided):                  0.00   Kurtosis:                         6.48\n",
       "===================================================================================\n",
       "\n",
       "Warnings:\n",
       "[1] Covariance matrix calculated using the outer product of gradients (complex-step).\n",
       "\"\"\""
      ]
     },
     "execution_count": 7,
     "metadata": {},
     "output_type": "execute_result"
    }
   ],
   "source": [
    "model = sm.tsa.SARIMAX(data, order = (1,1,2),seasonal_order=(2, 1, 2, 24)).fit() # SARIMA(1,0,0)\n",
    "model.summary()"
   ]
  },
  {
   "cell_type": "code",
   "execution_count": 8,
   "metadata": {},
   "outputs": [
    {
     "data": {
      "image/png": "[encoded data removed]",
      "text/plain": [
       "<Figure size 720x504 with 4 Axes>"
      ]
     },
     "metadata": {
      "needs_background": "light"
     },
     "output_type": "display_data"
    }
   ],
   "source": [
    "fig = model.plot_diagnostics(figsize=(10, 7))\n",
    "fig.tight_layout()\n",
    "plt.show()"
   ]
  },
  {
   "cell_type": "markdown",
   "metadata": {},
   "source": [
    "## 4. Predicción "
   ]
  },
  {
   "cell_type": "code",
   "execution_count": 9,
   "metadata": {},
   "outputs": [],
   "source": [
    "from pandas.tseries.offsets import DateOffset\n",
    "pred_date=[data.index[-1] + DateOffset(hours=x)for x in range(0,25)]"
   ]
  },
  {
   "cell_type": "code",
   "execution_count": 10,
   "metadata": {},
   "outputs": [],
   "source": [
    "data_pred = data.copy()\n",
    "data_pred[\"forecast\"] = np.nan\n",
    "pred_date=pd.DataFrame(index=pred_date[1:],columns=data.columns)"
   ]
  },
  {
   "cell_type": "code",
   "execution_count": 11,
   "metadata": {},
   "outputs": [],
   "source": [
    "data_pred=pd.concat([data_pred,pred_date])"
   ]
  },
  {
   "cell_type": "code",
   "execution_count": 12,
   "metadata": {
    "scrolled": false
   },
   "outputs": [
    {
     "name": "stderr",
     "output_type": "stream",
     "text": [
      "/Users/juancamilopico/opt/anaconda3/lib/python3.8/site-packages/statsmodels/tsa/base/tsa_model.py:376: ValueWarning: No supported index is available. Prediction results will be given with an integer index beginning at `start`.\n",
      "  warnings.warn('No supported index is available.'\n"
     ]
    }
   ],
   "source": [
    "forecast = model.get_prediction(start = len(data), end = len(data)+23)\n",
    "forecast_mean = forecast.predicted_mean\n",
    "forecast_U = forecast.predicted_mean + forecast.se_mean\n",
    "forecast_L = forecast.predicted_mean - forecast.se_mean\n",
    "forecast_mean.index = pred_date.index\n",
    "forecast_U.index = pred_date.index\n",
    "forecast_L.index = pred_date.index"
   ]
  },
  {
   "cell_type": "code",
   "execution_count": 13,
   "metadata": {
    "scrolled": true
   },
   "outputs": [],
   "source": [
    "data_pred['forecast'] = forecast_mean\n",
    "data_pred['Upper bound'] = forecast_U\n",
    "data_pred['Lower bound'] = forecast_L"
   ]
  },
  {
   "cell_type": "code",
   "execution_count": 16,
   "metadata": {},
   "outputs": [],
   "source": [
    "data_pred.to_csv(\"datos_forecast.csv\")"
   ]
  },
  {
   "cell_type": "code",
   "execution_count": 39,
   "metadata": {},
   "outputs": [
    {
     "data": {
      "text/html": [
       "<div>\n",
       "<style scoped>\n",
       "    .dataframe tbody tr th:only-of-type {\n",
       "        vertical-align: middle;\n",
       "    }\n",
       "\n",
       "    .dataframe tbody tr th {\n",
       "        vertical-align: top;\n",
       "    }\n",
       "\n",
       "    .dataframe thead th {\n",
       "        text-align: right;\n",
       "    }\n",
       "</style>\n",
       "<table border=\"1\" class=\"dataframe\">\n",
       "  <thead>\n",
       "    <tr style=\"text-align: right;\">\n",
       "      <th></th>\n",
       "      <th>Unnamed: 0</th>\n",
       "      <th>AT_load_actual_entsoe_transparency</th>\n",
       "      <th>forecast</th>\n",
       "      <th>Upper bound</th>\n",
       "      <th>Lower bound</th>\n",
       "    </tr>\n",
       "  </thead>\n",
       "  <tbody>\n",
       "    <tr>\n",
       "      <th>0</th>\n",
       "      <td>2019-07-25 17:00:00+02:00</td>\n",
       "      <td>8172.0</td>\n",
       "      <td>NaN</td>\n",
       "      <td>NaN</td>\n",
       "      <td>NaN</td>\n",
       "    </tr>\n",
       "    <tr>\n",
       "      <th>1</th>\n",
       "      <td>2019-07-25 18:00:00+02:00</td>\n",
       "      <td>8107.0</td>\n",
       "      <td>NaN</td>\n",
       "      <td>NaN</td>\n",
       "      <td>NaN</td>\n",
       "    </tr>\n",
       "    <tr>\n",
       "      <th>2</th>\n",
       "      <td>2019-07-25 19:00:00+02:00</td>\n",
       "      <td>7781.0</td>\n",
       "      <td>NaN</td>\n",
       "      <td>NaN</td>\n",
       "      <td>NaN</td>\n",
       "    </tr>\n",
       "    <tr>\n",
       "      <th>3</th>\n",
       "      <td>2019-07-25 20:00:00+02:00</td>\n",
       "      <td>7436.0</td>\n",
       "      <td>NaN</td>\n",
       "      <td>NaN</td>\n",
       "      <td>NaN</td>\n",
       "    </tr>\n",
       "    <tr>\n",
       "      <th>4</th>\n",
       "      <td>2019-07-25 21:00:00+02:00</td>\n",
       "      <td>7219.0</td>\n",
       "      <td>NaN</td>\n",
       "      <td>NaN</td>\n",
       "      <td>NaN</td>\n",
       "    </tr>\n",
       "  </tbody>\n",
       "</table>\n",
       "</div>"
      ],
      "text/plain": [
       "                  Unnamed: 0  AT_load_actual_entsoe_transparency  forecast  \\\n",
       "0  2019-07-25 17:00:00+02:00                              8172.0       NaN   \n",
       "1  2019-07-25 18:00:00+02:00                              8107.0       NaN   \n",
       "2  2019-07-25 19:00:00+02:00                              7781.0       NaN   \n",
       "3  2019-07-25 20:00:00+02:00                              7436.0       NaN   \n",
       "4  2019-07-25 21:00:00+02:00                              7219.0       NaN   \n",
       "\n",
       "   Upper bound  Lower bound  \n",
       "0          NaN          NaN  \n",
       "1          NaN          NaN  \n",
       "2          NaN          NaN  \n",
       "3          NaN          NaN  \n",
       "4          NaN          NaN  "
      ]
     },
     "execution_count": 39,
     "metadata": {},
     "output_type": "execute_result"
    }
   ],
   "source": [
    "prueba = pd.read_csv(\"datos_forecast.csv\")\n",
    "prueba.head()"
   ]
  },
  {
   "cell_type": "code",
   "execution_count": 46,
   "metadata": {
    "scrolled": false
   },
   "outputs": [
    {
     "data": {
      "text/html": [
       "<div>\n",
       "<style scoped>\n",
       "    .dataframe tbody tr th:only-of-type {\n",
       "        vertical-align: middle;\n",
       "    }\n",
       "\n",
       "    .dataframe tbody tr th {\n",
       "        vertical-align: top;\n",
       "    }\n",
       "\n",
       "    .dataframe thead th {\n",
       "        text-align: right;\n",
       "    }\n",
       "</style>\n",
       "<table border=\"1\" class=\"dataframe\">\n",
       "  <thead>\n",
       "    <tr style=\"text-align: right;\">\n",
       "      <th></th>\n",
       "      <th>Unnamed: 0</th>\n",
       "      <th>AT_load_actual_entsoe_transparency</th>\n",
       "      <th>forecast</th>\n",
       "      <th>Upper bound</th>\n",
       "      <th>Lower bound</th>\n",
       "    </tr>\n",
       "  </thead>\n",
       "  <tbody>\n",
       "    <tr>\n",
       "      <th>0</th>\n",
       "      <td>2019-07-25 17:00:00+02:00</td>\n",
       "      <td>8172.0</td>\n",
       "      <td>NaN</td>\n",
       "      <td>NaN</td>\n",
       "      <td>NaN</td>\n",
       "    </tr>\n",
       "    <tr>\n",
       "      <th>1</th>\n",
       "      <td>2019-07-25 18:00:00+02:00</td>\n",
       "      <td>8107.0</td>\n",
       "      <td>NaN</td>\n",
       "      <td>NaN</td>\n",
       "      <td>NaN</td>\n",
       "    </tr>\n",
       "    <tr>\n",
       "      <th>2</th>\n",
       "      <td>2019-07-25 19:00:00+02:00</td>\n",
       "      <td>7781.0</td>\n",
       "      <td>NaN</td>\n",
       "      <td>NaN</td>\n",
       "      <td>NaN</td>\n",
       "    </tr>\n",
       "    <tr>\n",
       "      <th>3</th>\n",
       "      <td>2019-07-25 20:00:00+02:00</td>\n",
       "      <td>7436.0</td>\n",
       "      <td>NaN</td>\n",
       "      <td>NaN</td>\n",
       "      <td>NaN</td>\n",
       "    </tr>\n",
       "    <tr>\n",
       "      <th>4</th>\n",
       "      <td>2019-07-25 21:00:00+02:00</td>\n",
       "      <td>7219.0</td>\n",
       "      <td>NaN</td>\n",
       "      <td>NaN</td>\n",
       "      <td>NaN</td>\n",
       "    </tr>\n",
       "  </tbody>\n",
       "</table>\n",
       "</div>"
      ],
      "text/plain": [
       "                 Unnamed: 0  AT_load_actual_entsoe_transparency  forecast  \\\n",
       "0 2019-07-25 17:00:00+02:00                              8172.0       NaN   \n",
       "1 2019-07-25 18:00:00+02:00                              8107.0       NaN   \n",
       "2 2019-07-25 19:00:00+02:00                              7781.0       NaN   \n",
       "3 2019-07-25 20:00:00+02:00                              7436.0       NaN   \n",
       "4 2019-07-25 21:00:00+02:00                              7219.0       NaN   \n",
       "\n",
       "   Upper bound  Lower bound  \n",
       "0          NaN          NaN  \n",
       "1          NaN          NaN  \n",
       "2          NaN          NaN  \n",
       "3          NaN          NaN  \n",
       "4          NaN          NaN  "
      ]
     },
     "execution_count": 46,
     "metadata": {},
     "output_type": "execute_result"
    }
   ],
   "source": [
    "prueba['Unnamed: 0'] = pd.to_datetime(prueba['Unnamed: 0'], utc=True).dt.tz_convert('Europe/Vienna')\n",
    "prueba.head()"
   ]
  },
  {
   "cell_type": "code",
   "execution_count": 47,
   "metadata": {},
   "outputs": [],
   "source": [
    "prueba.index = prueba['Unnamed: 0']\n",
    "prueba.drop(columns=['Unnamed: 0'], inplace=True)"
   ]
  },
  {
   "cell_type": "code",
   "execution_count": 50,
   "metadata": {},
   "outputs": [
    {
     "data": {
      "text/html": [
       "<div>\n",
       "<style scoped>\n",
       "    .dataframe tbody tr th:only-of-type {\n",
       "        vertical-align: middle;\n",
       "    }\n",
       "\n",
       "    .dataframe tbody tr th {\n",
       "        vertical-align: top;\n",
       "    }\n",
       "\n",
       "    .dataframe thead th {\n",
       "        text-align: right;\n",
       "    }\n",
       "</style>\n",
       "<table border=\"1\" class=\"dataframe\">\n",
       "  <thead>\n",
       "    <tr style=\"text-align: right;\">\n",
       "      <th></th>\n",
       "      <th>AT_load_actual_entsoe_transparency</th>\n",
       "      <th>forecast</th>\n",
       "      <th>Upper bound</th>\n",
       "      <th>Lower bound</th>\n",
       "    </tr>\n",
       "    <tr>\n",
       "      <th>Unnamed: 0</th>\n",
       "      <th></th>\n",
       "      <th></th>\n",
       "      <th></th>\n",
       "      <th></th>\n",
       "    </tr>\n",
       "  </thead>\n",
       "  <tbody>\n",
       "    <tr>\n",
       "      <th>2019-07-25 17:00:00+02:00</th>\n",
       "      <td>8172.0</td>\n",
       "      <td>NaN</td>\n",
       "      <td>NaN</td>\n",
       "      <td>NaN</td>\n",
       "    </tr>\n",
       "    <tr>\n",
       "      <th>2019-07-25 18:00:00+02:00</th>\n",
       "      <td>8107.0</td>\n",
       "      <td>NaN</td>\n",
       "      <td>NaN</td>\n",
       "      <td>NaN</td>\n",
       "    </tr>\n",
       "    <tr>\n",
       "      <th>2019-07-25 19:00:00+02:00</th>\n",
       "      <td>7781.0</td>\n",
       "      <td>NaN</td>\n",
       "      <td>NaN</td>\n",
       "      <td>NaN</td>\n",
       "    </tr>\n",
       "    <tr>\n",
       "      <th>2019-07-25 20:00:00+02:00</th>\n",
       "      <td>7436.0</td>\n",
       "      <td>NaN</td>\n",
       "      <td>NaN</td>\n",
       "      <td>NaN</td>\n",
       "    </tr>\n",
       "    <tr>\n",
       "      <th>2019-07-25 21:00:00+02:00</th>\n",
       "      <td>7219.0</td>\n",
       "      <td>NaN</td>\n",
       "      <td>NaN</td>\n",
       "      <td>NaN</td>\n",
       "    </tr>\n",
       "    <tr>\n",
       "      <th>...</th>\n",
       "      <td>...</td>\n",
       "      <td>...</td>\n",
       "      <td>...</td>\n",
       "      <td>...</td>\n",
       "    </tr>\n",
       "    <tr>\n",
       "      <th>2020-10-01 21:00:00+02:00</th>\n",
       "      <td>NaN</td>\n",
       "      <td>6700.519470</td>\n",
       "      <td>7588.368261</td>\n",
       "      <td>5812.670679</td>\n",
       "    </tr>\n",
       "    <tr>\n",
       "      <th>2020-10-01 22:00:00+02:00</th>\n",
       "      <td>NaN</td>\n",
       "      <td>6434.272970</td>\n",
       "      <td>7345.658755</td>\n",
       "      <td>5522.887185</td>\n",
       "    </tr>\n",
       "    <tr>\n",
       "      <th>2020-10-01 23:00:00+02:00</th>\n",
       "      <td>NaN</td>\n",
       "      <td>6034.757682</td>\n",
       "      <td>6969.087721</td>\n",
       "      <td>5100.427642</td>\n",
       "    </tr>\n",
       "    <tr>\n",
       "      <th>2020-10-02 00:00:00+02:00</th>\n",
       "      <td>NaN</td>\n",
       "      <td>5737.514865</td>\n",
       "      <td>6694.239065</td>\n",
       "      <td>4780.790664</td>\n",
       "    </tr>\n",
       "    <tr>\n",
       "      <th>2020-10-02 01:00:00+02:00</th>\n",
       "      <td>NaN</td>\n",
       "      <td>5469.306105</td>\n",
       "      <td>6447.912139</td>\n",
       "      <td>4490.700072</td>\n",
       "    </tr>\n",
       "  </tbody>\n",
       "</table>\n",
       "<p>10425 rows × 4 columns</p>\n",
       "</div>"
      ],
      "text/plain": [
       "                           AT_load_actual_entsoe_transparency     forecast  \\\n",
       "Unnamed: 0                                                                   \n",
       "2019-07-25 17:00:00+02:00                              8172.0          NaN   \n",
       "2019-07-25 18:00:00+02:00                              8107.0          NaN   \n",
       "2019-07-25 19:00:00+02:00                              7781.0          NaN   \n",
       "2019-07-25 20:00:00+02:00                              7436.0          NaN   \n",
       "2019-07-25 21:00:00+02:00                              7219.0          NaN   \n",
       "...                                                       ...          ...   \n",
       "2020-10-01 21:00:00+02:00                                 NaN  6700.519470   \n",
       "2020-10-01 22:00:00+02:00                                 NaN  6434.272970   \n",
       "2020-10-01 23:00:00+02:00                                 NaN  6034.757682   \n",
       "2020-10-02 00:00:00+02:00                                 NaN  5737.514865   \n",
       "2020-10-02 01:00:00+02:00                                 NaN  5469.306105   \n",
       "\n",
       "                           Upper bound  Lower bound  \n",
       "Unnamed: 0                                           \n",
       "2019-07-25 17:00:00+02:00          NaN          NaN  \n",
       "2019-07-25 18:00:00+02:00          NaN          NaN  \n",
       "2019-07-25 19:00:00+02:00          NaN          NaN  \n",
       "2019-07-25 20:00:00+02:00          NaN          NaN  \n",
       "2019-07-25 21:00:00+02:00          NaN          NaN  \n",
       "...                                ...          ...  \n",
       "2020-10-01 21:00:00+02:00  7588.368261  5812.670679  \n",
       "2020-10-01 22:00:00+02:00  7345.658755  5522.887185  \n",
       "2020-10-01 23:00:00+02:00  6969.087721  5100.427642  \n",
       "2020-10-02 00:00:00+02:00  6694.239065  4780.790664  \n",
       "2020-10-02 01:00:00+02:00  6447.912139  4490.700072  \n",
       "\n",
       "[10425 rows x 4 columns]"
      ]
     },
     "execution_count": 50,
     "metadata": {},
     "output_type": "execute_result"
    }
   ],
   "source": [
    "prueba"
   ]
  },
  {
   "cell_type": "code",
   "execution_count": 45,
   "metadata": {},
   "outputs": [
    {
     "data": {
      "application/vnd.plotly.v1+json": {
       "config": {
        "plotlyServerURL": "https://plot.ly"
       },
       "data": [
        {
         "line": {
          "color": "rgb(31, 119, 180)"
         },
         "mode": "lines",
         "name": "Demanda energética",
         "type": "scatter",
         "x": [
          "2020-09-28T00:00:00+02:00",
          "2020-09-28T01:00:00+02:00",
          "2020-09-28T02:00:00+02:00",
          "2020-09-28T03:00:00+02:00",
          "2020-09-28T04:00:00+02:00",
          "2020-09-28T05:00:00+02:00",
          "2020-09-28T06:00:00+02:00",
          "2020-09-28T07:00:00+02:00",
          "2020-09-28T08:00:00+02:00",
          "2020-09-28T09:00:00+02:00",
          "2020-09-28T10:00:00+02:00",
          "2020-09-28T11:00:00+02:00",
          "2020-09-28T12:00:00+02:00",
          "2020-09-28T13:00:00+02:00",
          "2020-09-28T14:00:00+02:00",
          "2020-09-28T15:00:00+02:00",
          "2020-09-28T16:00:00+02:00",
          "2020-09-28T17:00:00+02:00",
          "2020-09-28T18:00:00+02:00",
          "2020-09-28T19:00:00+02:00",
          "2020-09-28T20:00:00+02:00",
          "2020-09-28T21:00:00+02:00",
          "2020-09-28T22:00:00+02:00",
          "2020-09-28T23:00:00+02:00",
          "2020-09-29T00:00:00+02:00",
          "2020-09-29T01:00:00+02:00",
          "2020-09-29T02:00:00+02:00",
          "2020-09-29T03:00:00+02:00",
          "2020-09-29T04:00:00+02:00",
          "2020-09-29T05:00:00+02:00",
          "2020-09-29T06:00:00+02:00",
          "2020-09-29T07:00:00+02:00",
          "2020-09-29T08:00:00+02:00",
          "2020-09-29T09:00:00+02:00",
          "2020-09-29T10:00:00+02:00",
          "2020-09-29T11:00:00+02:00",
          "2020-09-29T12:00:00+02:00",
          "2020-09-29T13:00:00+02:00",
          "2020-09-29T14:00:00+02:00",
          "2020-09-29T15:00:00+02:00",
          "2020-09-29T16:00:00+02:00",
          "2020-09-29T17:00:00+02:00",
          "2020-09-29T18:00:00+02:00",
          "2020-09-29T19:00:00+02:00",
          "2020-09-29T20:00:00+02:00",
          "2020-09-29T21:00:00+02:00",
          "2020-09-29T22:00:00+02:00",
          "2020-09-29T23:00:00+02:00",
          "2020-09-30T00:00:00+02:00",
          "2020-09-30T01:00:00+02:00",
          "2020-09-30T02:00:00+02:00",
          "2020-09-30T03:00:00+02:00",
          "2020-09-30T04:00:00+02:00",
          "2020-09-30T05:00:00+02:00",
          "2020-09-30T06:00:00+02:00",
          "2020-09-30T07:00:00+02:00",
          "2020-09-30T08:00:00+02:00",
          "2020-09-30T09:00:00+02:00",
          "2020-09-30T10:00:00+02:00",
          "2020-09-30T11:00:00+02:00",
          "2020-09-30T12:00:00+02:00",
          "2020-09-30T13:00:00+02:00",
          "2020-09-30T14:00:00+02:00",
          "2020-09-30T15:00:00+02:00",
          "2020-09-30T16:00:00+02:00",
          "2020-09-30T17:00:00+02:00",
          "2020-09-30T18:00:00+02:00",
          "2020-09-30T19:00:00+02:00",
          "2020-09-30T20:00:00+02:00",
          "2020-09-30T21:00:00+02:00",
          "2020-09-30T22:00:00+02:00",
          "2020-09-30T23:00:00+02:00",
          "2020-10-01T00:00:00+02:00",
          "2020-10-01T01:00:00+02:00",
          "2020-10-01T02:00:00+02:00",
          "2020-10-01T03:00:00+02:00",
          "2020-10-01T04:00:00+02:00",
          "2020-10-01T05:00:00+02:00",
          "2020-10-01T06:00:00+02:00",
          "2020-10-01T07:00:00+02:00",
          "2020-10-01T08:00:00+02:00",
          "2020-10-01T09:00:00+02:00",
          "2020-10-01T10:00:00+02:00",
          "2020-10-01T11:00:00+02:00",
          "2020-10-01T12:00:00+02:00",
          "2020-10-01T13:00:00+02:00",
          "2020-10-01T14:00:00+02:00",
          "2020-10-01T15:00:00+02:00",
          "2020-10-01T16:00:00+02:00",
          "2020-10-01T17:00:00+02:00",
          "2020-10-01T18:00:00+02:00",
          "2020-10-01T19:00:00+02:00",
          "2020-10-01T20:00:00+02:00",
          "2020-10-01T21:00:00+02:00",
          "2020-10-01T22:00:00+02:00",
          "2020-10-01T23:00:00+02:00",
          "2020-10-02T00:00:00+02:00",
          "2020-10-02T01:00:00+02:00"
         ],
         "y": [
          5131,
          4884,
          4845,
          4788,
          4967,
          5621,
          6853,
          7726,
          8056,
          8119,
          8214,
          8298,
          8080,
          8004,
          7899,
          7821,
          7767,
          7809,
          7902,
          7825,
          7359,
          6759,
          6400,
          5869,
          5600,
          5363,
          5273,
          5192,
          5303,
          5836,
          6864,
          7645,
          7938,
          7961,
          8031,
          8093,
          7892,
          7831,
          7714,
          7662,
          7617,
          7654,
          7734,
          7746,
          7259,
          6643,
          6320,
          5856,
          5595,
          5324,
          5228,
          5141,
          5270,
          5839,
          6848,
          7614,
          7902,
          7931,
          7987,
          8051,
          7873,
          7808,
          7700,
          7635,
          7586,
          7622,
          7714,
          7711,
          7245,
          6661,
          6336,
          5932,
          5628,
          5395,
          null,
          null,
          null,
          null,
          null,
          null,
          null,
          null,
          null,
          null,
          null,
          null,
          null,
          null,
          null,
          null,
          null,
          null,
          null,
          null,
          null,
          null,
          null,
          null
         ]
        },
        {
         "line": {
          "color": "rgb(31, 119, 180)"
         },
         "mode": "lines",
         "name": "Proyección",
         "type": "scatter",
         "x": [
          "2020-09-28T00:00:00+02:00",
          "2020-09-28T01:00:00+02:00",
          "2020-09-28T02:00:00+02:00",
          "2020-09-28T03:00:00+02:00",
          "2020-09-28T04:00:00+02:00",
          "2020-09-28T05:00:00+02:00",
          "2020-09-28T06:00:00+02:00",
          "2020-09-28T07:00:00+02:00",
          "2020-09-28T08:00:00+02:00",
          "2020-09-28T09:00:00+02:00",
          "2020-09-28T10:00:00+02:00",
          "2020-09-28T11:00:00+02:00",
          "2020-09-28T12:00:00+02:00",
          "2020-09-28T13:00:00+02:00",
          "2020-09-28T14:00:00+02:00",
          "2020-09-28T15:00:00+02:00",
          "2020-09-28T16:00:00+02:00",
          "2020-09-28T17:00:00+02:00",
          "2020-09-28T18:00:00+02:00",
          "2020-09-28T19:00:00+02:00",
          "2020-09-28T20:00:00+02:00",
          "2020-09-28T21:00:00+02:00",
          "2020-09-28T22:00:00+02:00",
          "2020-09-28T23:00:00+02:00",
          "2020-09-29T00:00:00+02:00",
          "2020-09-29T01:00:00+02:00",
          "2020-09-29T02:00:00+02:00",
          "2020-09-29T03:00:00+02:00",
          "2020-09-29T04:00:00+02:00",
          "2020-09-29T05:00:00+02:00",
          "2020-09-29T06:00:00+02:00",
          "2020-09-29T07:00:00+02:00",
          "2020-09-29T08:00:00+02:00",
          "2020-09-29T09:00:00+02:00",
          "2020-09-29T10:00:00+02:00",
          "2020-09-29T11:00:00+02:00",
          "2020-09-29T12:00:00+02:00",
          "2020-09-29T13:00:00+02:00",
          "2020-09-29T14:00:00+02:00",
          "2020-09-29T15:00:00+02:00",
          "2020-09-29T16:00:00+02:00",
          "2020-09-29T17:00:00+02:00",
          "2020-09-29T18:00:00+02:00",
          "2020-09-29T19:00:00+02:00",
          "2020-09-29T20:00:00+02:00",
          "2020-09-29T21:00:00+02:00",
          "2020-09-29T22:00:00+02:00",
          "2020-09-29T23:00:00+02:00",
          "2020-09-30T00:00:00+02:00",
          "2020-09-30T01:00:00+02:00",
          "2020-09-30T02:00:00+02:00",
          "2020-09-30T03:00:00+02:00",
          "2020-09-30T04:00:00+02:00",
          "2020-09-30T05:00:00+02:00",
          "2020-09-30T06:00:00+02:00",
          "2020-09-30T07:00:00+02:00",
          "2020-09-30T08:00:00+02:00",
          "2020-09-30T09:00:00+02:00",
          "2020-09-30T10:00:00+02:00",
          "2020-09-30T11:00:00+02:00",
          "2020-09-30T12:00:00+02:00",
          "2020-09-30T13:00:00+02:00",
          "2020-09-30T14:00:00+02:00",
          "2020-09-30T15:00:00+02:00",
          "2020-09-30T16:00:00+02:00",
          "2020-09-30T17:00:00+02:00",
          "2020-09-30T18:00:00+02:00",
          "2020-09-30T19:00:00+02:00",
          "2020-09-30T20:00:00+02:00",
          "2020-09-30T21:00:00+02:00",
          "2020-09-30T22:00:00+02:00",
          "2020-09-30T23:00:00+02:00",
          "2020-10-01T00:00:00+02:00",
          "2020-10-01T01:00:00+02:00",
          "2020-10-01T02:00:00+02:00",
          "2020-10-01T03:00:00+02:00",
          "2020-10-01T04:00:00+02:00",
          "2020-10-01T05:00:00+02:00",
          "2020-10-01T06:00:00+02:00",
          "2020-10-01T07:00:00+02:00",
          "2020-10-01T08:00:00+02:00",
          "2020-10-01T09:00:00+02:00",
          "2020-10-01T10:00:00+02:00",
          "2020-10-01T11:00:00+02:00",
          "2020-10-01T12:00:00+02:00",
          "2020-10-01T13:00:00+02:00",
          "2020-10-01T14:00:00+02:00",
          "2020-10-01T15:00:00+02:00",
          "2020-10-01T16:00:00+02:00",
          "2020-10-01T17:00:00+02:00",
          "2020-10-01T18:00:00+02:00",
          "2020-10-01T19:00:00+02:00",
          "2020-10-01T20:00:00+02:00",
          "2020-10-01T21:00:00+02:00",
          "2020-10-01T22:00:00+02:00",
          "2020-10-01T23:00:00+02:00",
          "2020-10-02T00:00:00+02:00",
          "2020-10-02T01:00:00+02:00"
         ],
         "y": [
          null,
          null,
          null,
          null,
          null,
          null,
          null,
          null,
          null,
          null,
          null,
          null,
          null,
          null,
          null,
          null,
          null,
          null,
          null,
          null,
          null,
          null,
          null,
          null,
          null,
          null,
          null,
          null,
          null,
          null,
          null,
          null,
          null,
          null,
          null,
          null,
          null,
          null,
          null,
          null,
          null,
          null,
          null,
          null,
          null,
          null,
          null,
          null,
          null,
          null,
          null,
          null,
          null,
          null,
          null,
          null,
          null,
          null,
          null,
          null,
          null,
          null,
          null,
          null,
          null,
          null,
          null,
          null,
          null,
          null,
          null,
          null,
          null,
          null,
          5346.936408672412,
          5286.664701001903,
          5403.980453773884,
          5884.37083815004,
          6728.988653819849,
          7402.8475632451145,
          7708.317350069113,
          7793.213584181803,
          7880.694886293375,
          7953.045993252257,
          7748.08666830609,
          7651.335333879349,
          7529.883320642765,
          7458.967918594185,
          7438.3916149097895,
          7504.784287209916,
          7612.595511393446,
          7605.140272408592,
          7227.911968848367,
          6700.519469710027,
          6434.272969955724,
          6034.757681517062,
          5737.514864634027,
          5469.306105065258
         ]
        },
        {
         "line": {
          "width": 0
         },
         "marker": {
          "color": "#444"
         },
         "mode": "lines",
         "name": "Upper Bound",
         "showlegend": false,
         "type": "scatter",
         "x": [
          "2020-09-28T00:00:00+02:00",
          "2020-09-28T01:00:00+02:00",
          "2020-09-28T02:00:00+02:00",
          "2020-09-28T03:00:00+02:00",
          "2020-09-28T04:00:00+02:00",
          "2020-09-28T05:00:00+02:00",
          "2020-09-28T06:00:00+02:00",
          "2020-09-28T07:00:00+02:00",
          "2020-09-28T08:00:00+02:00",
          "2020-09-28T09:00:00+02:00",
          "2020-09-28T10:00:00+02:00",
          "2020-09-28T11:00:00+02:00",
          "2020-09-28T12:00:00+02:00",
          "2020-09-28T13:00:00+02:00",
          "2020-09-28T14:00:00+02:00",
          "2020-09-28T15:00:00+02:00",
          "2020-09-28T16:00:00+02:00",
          "2020-09-28T17:00:00+02:00",
          "2020-09-28T18:00:00+02:00",
          "2020-09-28T19:00:00+02:00",
          "2020-09-28T20:00:00+02:00",
          "2020-09-28T21:00:00+02:00",
          "2020-09-28T22:00:00+02:00",
          "2020-09-28T23:00:00+02:00",
          "2020-09-29T00:00:00+02:00",
          "2020-09-29T01:00:00+02:00",
          "2020-09-29T02:00:00+02:00",
          "2020-09-29T03:00:00+02:00",
          "2020-09-29T04:00:00+02:00",
          "2020-09-29T05:00:00+02:00",
          "2020-09-29T06:00:00+02:00",
          "2020-09-29T07:00:00+02:00",
          "2020-09-29T08:00:00+02:00",
          "2020-09-29T09:00:00+02:00",
          "2020-09-29T10:00:00+02:00",
          "2020-09-29T11:00:00+02:00",
          "2020-09-29T12:00:00+02:00",
          "2020-09-29T13:00:00+02:00",
          "2020-09-29T14:00:00+02:00",
          "2020-09-29T15:00:00+02:00",
          "2020-09-29T16:00:00+02:00",
          "2020-09-29T17:00:00+02:00",
          "2020-09-29T18:00:00+02:00",
          "2020-09-29T19:00:00+02:00",
          "2020-09-29T20:00:00+02:00",
          "2020-09-29T21:00:00+02:00",
          "2020-09-29T22:00:00+02:00",
          "2020-09-29T23:00:00+02:00",
          "2020-09-30T00:00:00+02:00",
          "2020-09-30T01:00:00+02:00",
          "2020-09-30T02:00:00+02:00",
          "2020-09-30T03:00:00+02:00",
          "2020-09-30T04:00:00+02:00",
          "2020-09-30T05:00:00+02:00",
          "2020-09-30T06:00:00+02:00",
          "2020-09-30T07:00:00+02:00",
          "2020-09-30T08:00:00+02:00",
          "2020-09-30T09:00:00+02:00",
          "2020-09-30T10:00:00+02:00",
          "2020-09-30T11:00:00+02:00",
          "2020-09-30T12:00:00+02:00",
          "2020-09-30T13:00:00+02:00",
          "2020-09-30T14:00:00+02:00",
          "2020-09-30T15:00:00+02:00",
          "2020-09-30T16:00:00+02:00",
          "2020-09-30T17:00:00+02:00",
          "2020-09-30T18:00:00+02:00",
          "2020-09-30T19:00:00+02:00",
          "2020-09-30T20:00:00+02:00",
          "2020-09-30T21:00:00+02:00",
          "2020-09-30T22:00:00+02:00",
          "2020-09-30T23:00:00+02:00",
          "2020-10-01T00:00:00+02:00",
          "2020-10-01T01:00:00+02:00",
          "2020-10-01T02:00:00+02:00",
          "2020-10-01T03:00:00+02:00",
          "2020-10-01T04:00:00+02:00",
          "2020-10-01T05:00:00+02:00",
          "2020-10-01T06:00:00+02:00",
          "2020-10-01T07:00:00+02:00",
          "2020-10-01T08:00:00+02:00",
          "2020-10-01T09:00:00+02:00",
          "2020-10-01T10:00:00+02:00",
          "2020-10-01T11:00:00+02:00",
          "2020-10-01T12:00:00+02:00",
          "2020-10-01T13:00:00+02:00",
          "2020-10-01T14:00:00+02:00",
          "2020-10-01T15:00:00+02:00",
          "2020-10-01T16:00:00+02:00",
          "2020-10-01T17:00:00+02:00",
          "2020-10-01T18:00:00+02:00",
          "2020-10-01T19:00:00+02:00",
          "2020-10-01T20:00:00+02:00",
          "2020-10-01T21:00:00+02:00",
          "2020-10-01T22:00:00+02:00",
          "2020-10-01T23:00:00+02:00",
          "2020-10-02T00:00:00+02:00",
          "2020-10-02T01:00:00+02:00"
         ],
         "y": [
          null,
          null,
          null,
          null,
          null,
          null,
          null,
          null,
          null,
          null,
          null,
          null,
          null,
          null,
          null,
          null,
          null,
          null,
          null,
          null,
          null,
          null,
          null,
          null,
          null,
          null,
          null,
          null,
          null,
          null,
          null,
          null,
          null,
          null,
          null,
          null,
          null,
          null,
          null,
          null,
          null,
          null,
          null,
          null,
          null,
          null,
          null,
          null,
          null,
          null,
          null,
          null,
          null,
          null,
          null,
          null,
          null,
          null,
          null,
          null,
          null,
          null,
          null,
          null,
          null,
          null,
          null,
          null,
          null,
          null,
          null,
          null,
          null,
          null,
          5433.052212606006,
          5463.3829860457845,
          5667.457782223077,
          6217.4092260857915,
          7120.256395996647,
          7844.893061823034,
          8195.909176757184,
          8322.451670537117,
          8448.533984371457,
          8557.024268848483,
          8386.160581849885,
          8321.773168500846,
          8231.193140116173,
          8189.846866204757,
          8197.689059463555,
          8291.47430403136,
          8425.755862019452,
          8443.936033660702,
          8091.582567143186,
          7588.3682606780485,
          7345.658754839287,
          6969.087720717494,
          6694.239064922038,
          6447.912138503223
         ]
        },
        {
         "fill": "tonexty",
         "fillcolor": "rgba(68, 68, 68, 0.3)",
         "line": {
          "width": 0
         },
         "marker": {
          "color": "#444"
         },
         "mode": "lines",
         "name": "Lower Bound",
         "showlegend": false,
         "type": "scatter",
         "x": [
          "2020-09-28T00:00:00+02:00",
          "2020-09-28T01:00:00+02:00",
          "2020-09-28T02:00:00+02:00",
          "2020-09-28T03:00:00+02:00",
          "2020-09-28T04:00:00+02:00",
          "2020-09-28T05:00:00+02:00",
          "2020-09-28T06:00:00+02:00",
          "2020-09-28T07:00:00+02:00",
          "2020-09-28T08:00:00+02:00",
          "2020-09-28T09:00:00+02:00",
          "2020-09-28T10:00:00+02:00",
          "2020-09-28T11:00:00+02:00",
          "2020-09-28T12:00:00+02:00",
          "2020-09-28T13:00:00+02:00",
          "2020-09-28T14:00:00+02:00",
          "2020-09-28T15:00:00+02:00",
          "2020-09-28T16:00:00+02:00",
          "2020-09-28T17:00:00+02:00",
          "2020-09-28T18:00:00+02:00",
          "2020-09-28T19:00:00+02:00",
          "2020-09-28T20:00:00+02:00",
          "2020-09-28T21:00:00+02:00",
          "2020-09-28T22:00:00+02:00",
          "2020-09-28T23:00:00+02:00",
          "2020-09-29T00:00:00+02:00",
          "2020-09-29T01:00:00+02:00",
          "2020-09-29T02:00:00+02:00",
          "2020-09-29T03:00:00+02:00",
          "2020-09-29T04:00:00+02:00",
          "2020-09-29T05:00:00+02:00",
          "2020-09-29T06:00:00+02:00",
          "2020-09-29T07:00:00+02:00",
          "2020-09-29T08:00:00+02:00",
          "2020-09-29T09:00:00+02:00",
          "2020-09-29T10:00:00+02:00",
          "2020-09-29T11:00:00+02:00",
          "2020-09-29T12:00:00+02:00",
          "2020-09-29T13:00:00+02:00",
          "2020-09-29T14:00:00+02:00",
          "2020-09-29T15:00:00+02:00",
          "2020-09-29T16:00:00+02:00",
          "2020-09-29T17:00:00+02:00",
          "2020-09-29T18:00:00+02:00",
          "2020-09-29T19:00:00+02:00",
          "2020-09-29T20:00:00+02:00",
          "2020-09-29T21:00:00+02:00",
          "2020-09-29T22:00:00+02:00",
          "2020-09-29T23:00:00+02:00",
          "2020-09-30T00:00:00+02:00",
          "2020-09-30T01:00:00+02:00",
          "2020-09-30T02:00:00+02:00",
          "2020-09-30T03:00:00+02:00",
          "2020-09-30T04:00:00+02:00",
          "2020-09-30T05:00:00+02:00",
          "2020-09-30T06:00:00+02:00",
          "2020-09-30T07:00:00+02:00",
          "2020-09-30T08:00:00+02:00",
          "2020-09-30T09:00:00+02:00",
          "2020-09-30T10:00:00+02:00",
          "2020-09-30T11:00:00+02:00",
          "2020-09-30T12:00:00+02:00",
          "2020-09-30T13:00:00+02:00",
          "2020-09-30T14:00:00+02:00",
          "2020-09-30T15:00:00+02:00",
          "2020-09-30T16:00:00+02:00",
          "2020-09-30T17:00:00+02:00",
          "2020-09-30T18:00:00+02:00",
          "2020-09-30T19:00:00+02:00",
          "2020-09-30T20:00:00+02:00",
          "2020-09-30T21:00:00+02:00",
          "2020-09-30T22:00:00+02:00",
          "2020-09-30T23:00:00+02:00",
          "2020-10-01T00:00:00+02:00",
          "2020-10-01T01:00:00+02:00",
          "2020-10-01T02:00:00+02:00",
          "2020-10-01T03:00:00+02:00",
          "2020-10-01T04:00:00+02:00",
          "2020-10-01T05:00:00+02:00",
          "2020-10-01T06:00:00+02:00",
          "2020-10-01T07:00:00+02:00",
          "2020-10-01T08:00:00+02:00",
          "2020-10-01T09:00:00+02:00",
          "2020-10-01T10:00:00+02:00",
          "2020-10-01T11:00:00+02:00",
          "2020-10-01T12:00:00+02:00",
          "2020-10-01T13:00:00+02:00",
          "2020-10-01T14:00:00+02:00",
          "2020-10-01T15:00:00+02:00",
          "2020-10-01T16:00:00+02:00",
          "2020-10-01T17:00:00+02:00",
          "2020-10-01T18:00:00+02:00",
          "2020-10-01T19:00:00+02:00",
          "2020-10-01T20:00:00+02:00",
          "2020-10-01T21:00:00+02:00",
          "2020-10-01T22:00:00+02:00",
          "2020-10-01T23:00:00+02:00",
          "2020-10-02T00:00:00+02:00",
          "2020-10-02T01:00:00+02:00"
         ],
         "y": [
          null,
          null,
          null,
          null,
          null,
          null,
          null,
          null,
          null,
          null,
          null,
          null,
          null,
          null,
          null,
          null,
          null,
          null,
          null,
          null,
          null,
          null,
          null,
          null,
          null,
          null,
          null,
          null,
          null,
          null,
          null,
          null,
          null,
          null,
          null,
          null,
          null,
          null,
          null,
          null,
          null,
          null,
          null,
          null,
          null,
          null,
          null,
          null,
          null,
          null,
          null,
          null,
          null,
          null,
          null,
          null,
          null,
          null,
          null,
          null,
          null,
          null,
          null,
          null,
          null,
          null,
          null,
          null,
          null,
          null,
          null,
          null,
          null,
          null,
          5260.820604738818,
          5109.946415958022,
          5140.503125324691,
          5551.332450214289,
          6337.72091164305,
          6960.802064667195,
          7220.725523381042,
          7263.975497826488,
          7312.855788215294,
          7349.067717656031,
          7110.012754762296,
          6980.897499257851,
          6828.573501169359,
          6728.088970983613,
          6679.094170356024,
          6718.094270388472,
          6799.435160767439,
          6766.344511156481,
          6364.241370553548,
          5812.670678742005,
          5522.887185072161,
          5100.42764231663,
          4780.790664346016,
          4490.700071627292
         ]
        }
       ],
       "layout": {
        "hovermode": "x",
        "template": {
         "data": {
          "bar": [
           {
            "error_x": {
             "color": "#2a3f5f"
            },
            "error_y": {
             "color": "#2a3f5f"
            },
            "marker": {
             "line": {
              "color": "#E5ECF6",
              "width": 0.5
             },
             "pattern": {
              "fillmode": "overlay",
              "size": 10,
              "solidity": 0.2
             }
            },
            "type": "bar"
           }
          ],
          "barpolar": [
           {
            "marker": {
             "line": {
              "color": "#E5ECF6",
              "width": 0.5
             },
             "pattern": {
              "fillmode": "overlay",
              "size": 10,
              "solidity": 0.2
             }
            },
            "type": "barpolar"
           }
          ],
          "carpet": [
           {
            "aaxis": {
             "endlinecolor": "#2a3f5f",
             "gridcolor": "white",
             "linecolor": "white",
             "minorgridcolor": "white",
             "startlinecolor": "#2a3f5f"
            },
            "baxis": {
             "endlinecolor": "#2a3f5f",
             "gridcolor": "white",
             "linecolor": "white",
             "minorgridcolor": "white",
             "startlinecolor": "#2a3f5f"
            },
            "type": "carpet"
           }
          ],
          "choropleth": [
           {
            "colorbar": {
             "outlinewidth": 0,
             "ticks": ""
            },
            "type": "choropleth"
           }
          ],
          "contour": [
           {
            "colorbar": {
             "outlinewidth": 0,
             "ticks": ""
            },
            "colorscale": [
             [
              0,
              "#0d0887"
             ],
             [
              0.1111111111111111,
              "#46039f"
             ],
             [
              0.2222222222222222,
              "#7201a8"
             ],
             [
              0.3333333333333333,
              "#9c179e"
             ],
             [
              0.4444444444444444,
              "#bd3786"
             ],
             [
              0.5555555555555556,
              "#d8576b"
             ],
             [
              0.6666666666666666,
              "#ed7953"
             ],
             [
              0.7777777777777778,
              "#fb9f3a"
             ],
             [
              0.8888888888888888,
              "#fdca26"
             ],
             [
              1,
              "#f0f921"
             ]
            ],
            "type": "contour"
           }
          ],
          "contourcarpet": [
           {
            "colorbar": {
             "outlinewidth": 0,
             "ticks": ""
            },
            "type": "contourcarpet"
           }
          ],
          "heatmap": [
           {
            "colorbar": {
             "outlinewidth": 0,
             "ticks": ""
            },
            "colorscale": [
             [
              0,
              "#0d0887"
             ],
             [
              0.1111111111111111,
              "#46039f"
             ],
             [
              0.2222222222222222,
              "#7201a8"
             ],
             [
              0.3333333333333333,
              "#9c179e"
             ],
             [
              0.4444444444444444,
              "#bd3786"
             ],
             [
              0.5555555555555556,
              "#d8576b"
             ],
             [
              0.6666666666666666,
              "#ed7953"
             ],
             [
              0.7777777777777778,
              "#fb9f3a"
             ],
             [
              0.8888888888888888,
              "#fdca26"
             ],
             [
              1,
              "#f0f921"
             ]
            ],
            "type": "heatmap"
           }
          ],
          "heatmapgl": [
           {
            "colorbar": {
             "outlinewidth": 0,
             "ticks": ""
            },
            "colorscale": [
             [
              0,
              "#0d0887"
             ],
             [
              0.1111111111111111,
              "#46039f"
             ],
             [
              0.2222222222222222,
              "#7201a8"
             ],
             [
              0.3333333333333333,
              "#9c179e"
             ],
             [
              0.4444444444444444,
              "#bd3786"
             ],
             [
              0.5555555555555556,
              "#d8576b"
             ],
             [
              0.6666666666666666,
              "#ed7953"
             ],
             [
              0.7777777777777778,
              "#fb9f3a"
             ],
             [
              0.8888888888888888,
              "#fdca26"
             ],
             [
              1,
              "#f0f921"
             ]
            ],
            "type": "heatmapgl"
           }
          ],
          "histogram": [
           {
            "marker": {
             "pattern": {
              "fillmode": "overlay",
              "size": 10,
              "solidity": 0.2
             }
            },
            "type": "histogram"
           }
          ],
          "histogram2d": [
           {
            "colorbar": {
             "outlinewidth": 0,
             "ticks": ""
            },
            "colorscale": [
             [
              0,
              "#0d0887"
             ],
             [
              0.1111111111111111,
              "#46039f"
             ],
             [
              0.2222222222222222,
              "#7201a8"
             ],
             [
              0.3333333333333333,
              "#9c179e"
             ],
             [
              0.4444444444444444,
              "#bd3786"
             ],
             [
              0.5555555555555556,
              "#d8576b"
             ],
             [
              0.6666666666666666,
              "#ed7953"
             ],
             [
              0.7777777777777778,
              "#fb9f3a"
             ],
             [
              0.8888888888888888,
              "#fdca26"
             ],
             [
              1,
              "#f0f921"
             ]
            ],
            "type": "histogram2d"
           }
          ],
          "histogram2dcontour": [
           {
            "colorbar": {
             "outlinewidth": 0,
             "ticks": ""
            },
            "colorscale": [
             [
              0,
              "#0d0887"
             ],
             [
              0.1111111111111111,
              "#46039f"
             ],
             [
              0.2222222222222222,
              "#7201a8"
             ],
             [
              0.3333333333333333,
              "#9c179e"
             ],
             [
              0.4444444444444444,
              "#bd3786"
             ],
             [
              0.5555555555555556,
              "#d8576b"
             ],
             [
              0.6666666666666666,
              "#ed7953"
             ],
             [
              0.7777777777777778,
              "#fb9f3a"
             ],
             [
              0.8888888888888888,
              "#fdca26"
             ],
             [
              1,
              "#f0f921"
             ]
            ],
            "type": "histogram2dcontour"
           }
          ],
          "mesh3d": [
           {
            "colorbar": {
             "outlinewidth": 0,
             "ticks": ""
            },
            "type": "mesh3d"
           }
          ],
          "parcoords": [
           {
            "line": {
             "colorbar": {
              "outlinewidth": 0,
              "ticks": ""
             }
            },
            "type": "parcoords"
           }
          ],
          "pie": [
           {
            "automargin": true,
            "type": "pie"
           }
          ],
          "scatter": [
           {
            "fillpattern": {
             "fillmode": "overlay",
             "size": 10,
             "solidity": 0.2
            },
            "type": "scatter"
           }
          ],
          "scatter3d": [
           {
            "line": {
             "colorbar": {
              "outlinewidth": 0,
              "ticks": ""
             }
            },
            "marker": {
             "colorbar": {
              "outlinewidth": 0,
              "ticks": ""
             }
            },
            "type": "scatter3d"
           }
          ],
          "scattercarpet": [
           {
            "marker": {
             "colorbar": {
              "outlinewidth": 0,
              "ticks": ""
             }
            },
            "type": "scattercarpet"
           }
          ],
          "scattergeo": [
           {
            "marker": {
             "colorbar": {
              "outlinewidth": 0,
              "ticks": ""
             }
            },
            "type": "scattergeo"
           }
          ],
          "scattergl": [
           {
            "marker": {
             "colorbar": {
              "outlinewidth": 0,
              "ticks": ""
             }
            },
            "type": "scattergl"
           }
          ],
          "scattermapbox": [
           {
            "marker": {
             "colorbar": {
              "outlinewidth": 0,
              "ticks": ""
             }
            },
            "type": "scattermapbox"
           }
          ],
          "scatterpolar": [
           {
            "marker": {
             "colorbar": {
              "outlinewidth": 0,
              "ticks": ""
             }
            },
            "type": "scatterpolar"
           }
          ],
          "scatterpolargl": [
           {
            "marker": {
             "colorbar": {
              "outlinewidth": 0,
              "ticks": ""
             }
            },
            "type": "scatterpolargl"
           }
          ],
          "scatterternary": [
           {
            "marker": {
             "colorbar": {
              "outlinewidth": 0,
              "ticks": ""
             }
            },
            "type": "scatterternary"
           }
          ],
          "surface": [
           {
            "colorbar": {
             "outlinewidth": 0,
             "ticks": ""
            },
            "colorscale": [
             [
              0,
              "#0d0887"
             ],
             [
              0.1111111111111111,
              "#46039f"
             ],
             [
              0.2222222222222222,
              "#7201a8"
             ],
             [
              0.3333333333333333,
              "#9c179e"
             ],
             [
              0.4444444444444444,
              "#bd3786"
             ],
             [
              0.5555555555555556,
              "#d8576b"
             ],
             [
              0.6666666666666666,
              "#ed7953"
             ],
             [
              0.7777777777777778,
              "#fb9f3a"
             ],
             [
              0.8888888888888888,
              "#fdca26"
             ],
             [
              1,
              "#f0f921"
             ]
            ],
            "type": "surface"
           }
          ],
          "table": [
           {
            "cells": {
             "fill": {
              "color": "#EBF0F8"
             },
             "line": {
              "color": "white"
             }
            },
            "header": {
             "fill": {
              "color": "#C8D4E3"
             },
             "line": {
              "color": "white"
             }
            },
            "type": "table"
           }
          ]
         },
         "layout": {
          "annotationdefaults": {
           "arrowcolor": "#2a3f5f",
           "arrowhead": 0,
           "arrowwidth": 1
          },
          "autotypenumbers": "strict",
          "coloraxis": {
           "colorbar": {
            "outlinewidth": 0,
            "ticks": ""
           }
          },
          "colorscale": {
           "diverging": [
            [
             0,
             "#8e0152"
            ],
            [
             0.1,
             "#c51b7d"
            ],
            [
             0.2,
             "#de77ae"
            ],
            [
             0.3,
             "#f1b6da"
            ],
            [
             0.4,
             "#fde0ef"
            ],
            [
             0.5,
             "#f7f7f7"
            ],
            [
             0.6,
             "#e6f5d0"
            ],
            [
             0.7,
             "#b8e186"
            ],
            [
             0.8,
             "#7fbc41"
            ],
            [
             0.9,
             "#4d9221"
            ],
            [
             1,
             "#276419"
            ]
           ],
           "sequential": [
            [
             0,
             "#0d0887"
            ],
            [
             0.1111111111111111,
             "#46039f"
            ],
            [
             0.2222222222222222,
             "#7201a8"
            ],
            [
             0.3333333333333333,
             "#9c179e"
            ],
            [
             0.4444444444444444,
             "#bd3786"
            ],
            [
             0.5555555555555556,
             "#d8576b"
            ],
            [
             0.6666666666666666,
             "#ed7953"
            ],
            [
             0.7777777777777778,
             "#fb9f3a"
            ],
            [
             0.8888888888888888,
             "#fdca26"
            ],
            [
             1,
             "#f0f921"
            ]
           ],
           "sequentialminus": [
            [
             0,
             "#0d0887"
            ],
            [
             0.1111111111111111,
             "#46039f"
            ],
            [
             0.2222222222222222,
             "#7201a8"
            ],
            [
             0.3333333333333333,
             "#9c179e"
            ],
            [
             0.4444444444444444,
             "#bd3786"
            ],
            [
             0.5555555555555556,
             "#d8576b"
            ],
            [
             0.6666666666666666,
             "#ed7953"
            ],
            [
             0.7777777777777778,
             "#fb9f3a"
            ],
            [
             0.8888888888888888,
             "#fdca26"
            ],
            [
             1,
             "#f0f921"
            ]
           ]
          },
          "colorway": [
           "#636efa",
           "#EF553B",
           "#00cc96",
           "#ab63fa",
           "#FFA15A",
           "#19d3f3",
           "#FF6692",
           "#B6E880",
           "#FF97FF",
           "#FECB52"
          ],
          "font": {
           "color": "#2a3f5f"
          },
          "geo": {
           "bgcolor": "white",
           "lakecolor": "white",
           "landcolor": "#E5ECF6",
           "showlakes": true,
           "showland": true,
           "subunitcolor": "white"
          },
          "hoverlabel": {
           "align": "left"
          },
          "hovermode": "closest",
          "mapbox": {
           "style": "light"
          },
          "paper_bgcolor": "white",
          "plot_bgcolor": "#E5ECF6",
          "polar": {
           "angularaxis": {
            "gridcolor": "white",
            "linecolor": "white",
            "ticks": ""
           },
           "bgcolor": "#E5ECF6",
           "radialaxis": {
            "gridcolor": "white",
            "linecolor": "white",
            "ticks": ""
           }
          },
          "scene": {
           "xaxis": {
            "backgroundcolor": "#E5ECF6",
            "gridcolor": "white",
            "gridwidth": 2,
            "linecolor": "white",
            "showbackground": true,
            "ticks": "",
            "zerolinecolor": "white"
           },
           "yaxis": {
            "backgroundcolor": "#E5ECF6",
            "gridcolor": "white",
            "gridwidth": 2,
            "linecolor": "white",
            "showbackground": true,
            "ticks": "",
            "zerolinecolor": "white"
           },
           "zaxis": {
            "backgroundcolor": "#E5ECF6",
            "gridcolor": "white",
            "gridwidth": 2,
            "linecolor": "white",
            "showbackground": true,
            "ticks": "",
            "zerolinecolor": "white"
           }
          },
          "shapedefaults": {
           "line": {
            "color": "#2a3f5f"
           }
          },
          "ternary": {
           "aaxis": {
            "gridcolor": "white",
            "linecolor": "white",
            "ticks": ""
           },
           "baxis": {
            "gridcolor": "white",
            "linecolor": "white",
            "ticks": ""
           },
           "bgcolor": "#E5ECF6",
           "caxis": {
            "gridcolor": "white",
            "linecolor": "white",
            "ticks": ""
           }
          },
          "title": {
           "x": 0.05
          },
          "xaxis": {
           "automargin": true,
           "gridcolor": "white",
           "linecolor": "white",
           "ticks": "",
           "title": {
            "standoff": 15
           },
           "zerolinecolor": "white",
           "zerolinewidth": 2
          },
          "yaxis": {
           "automargin": true,
           "gridcolor": "white",
           "linecolor": "white",
           "ticks": "",
           "title": {
            "standoff": 15
           },
           "zerolinecolor": "white",
           "zerolinewidth": 2
          }
         }
        },
        "title": {
         "text": "Continuous, variable value error bars"
        },
        "yaxis": {
         "title": {
          "text": "Wind speed (m/s)"
         }
        }
       }
      },
      "text/html": [
       "<div>                            <div id=\"5fcaf58f-db33-4194-9258-db65d34cb001\" class=\"plotly-graph-div\" style=\"height:525px; width:100%;\"></div>            <script type=\"text/javascript\">                require([\"plotly\"], function(Plotly) {                    window.PLOTLYENV=window.PLOTLYENV || {};                                    if (document.getElementById(\"5fcaf58f-db33-4194-9258-db65d34cb001\")) {                    Plotly.newPlot(                        \"5fcaf58f-db33-4194-9258-db65d34cb001\",                        [{\"line\":{\"color\":\"rgb(31, 119, 180)\"},\"mode\":\"lines\",\"name\":\"Demanda energ\\u00e9tica\",\"x\":[\"2020-09-28T00:00:00+02:00\",\"2020-09-28T01:00:00+02:00\",\"2020-09-28T02:00:00+02:00\",\"2020-09-28T03:00:00+02:00\",\"2020-09-28T04:00:00+02:00\",\"2020-09-28T05:00:00+02:00\",\"2020-09-28T06:00:00+02:00\",\"2020-09-28T07:00:00+02:00\",\"2020-09-28T08:00:00+02:00\",\"2020-09-28T09:00:00+02:00\",\"2020-09-28T10:00:00+02:00\",\"2020-09-28T11:00:00+02:00\",\"2020-09-28T12:00:00+02:00\",\"2020-09-28T13:00:00+02:00\",\"2020-09-28T14:00:00+02:00\",\"2020-09-28T15:00:00+02:00\",\"2020-09-28T16:00:00+02:00\",\"2020-09-28T17:00:00+02:00\",\"2020-09-28T18:00:00+02:00\",\"2020-09-28T19:00:00+02:00\",\"2020-09-28T20:00:00+02:00\",\"2020-09-28T21:00:00+02:00\",\"2020-09-28T22:00:00+02:00\",\"2020-09-28T23:00:00+02:00\",\"2020-09-29T00:00:00+02:00\",\"2020-09-29T01:00:00+02:00\",\"2020-09-29T02:00:00+02:00\",\"2020-09-29T03:00:00+02:00\",\"2020-09-29T04:00:00+02:00\",\"2020-09-29T05:00:00+02:00\",\"2020-09-29T06:00:00+02:00\",\"2020-09-29T07:00:00+02:00\",\"2020-09-29T08:00:00+02:00\",\"2020-09-29T09:00:00+02:00\",\"2020-09-29T10:00:00+02:00\",\"2020-09-29T11:00:00+02:00\",\"2020-09-29T12:00:00+02:00\",\"2020-09-29T13:00:00+02:00\",\"2020-09-29T14:00:00+02:00\",\"2020-09-29T15:00:00+02:00\",\"2020-09-29T16:00:00+02:00\",\"2020-09-29T17:00:00+02:00\",\"2020-09-29T18:00:00+02:00\",\"2020-09-29T19:00:00+02:00\",\"2020-09-29T20:00:00+02:00\",\"2020-09-29T21:00:00+02:00\",\"2020-09-29T22:00:00+02:00\",\"2020-09-29T23:00:00+02:00\",\"2020-09-30T00:00:00+02:00\",\"2020-09-30T01:00:00+02:00\",\"2020-09-30T02:00:00+02:00\",\"2020-09-30T03:00:00+02:00\",\"2020-09-30T04:00:00+02:00\",\"2020-09-30T05:00:00+02:00\",\"2020-09-30T06:00:00+02:00\",\"2020-09-30T07:00:00+02:00\",\"2020-09-30T08:00:00+02:00\",\"2020-09-30T09:00:00+02:00\",\"2020-09-30T10:00:00+02:00\",\"2020-09-30T11:00:00+02:00\",\"2020-09-30T12:00:00+02:00\",\"2020-09-30T13:00:00+02:00\",\"2020-09-30T14:00:00+02:00\",\"2020-09-30T15:00:00+02:00\",\"2020-09-30T16:00:00+02:00\",\"2020-09-30T17:00:00+02:00\",\"2020-09-30T18:00:00+02:00\",\"2020-09-30T19:00:00+02:00\",\"2020-09-30T20:00:00+02:00\",\"2020-09-30T21:00:00+02:00\",\"2020-09-30T22:00:00+02:00\",\"2020-09-30T23:00:00+02:00\",\"2020-10-01T00:00:00+02:00\",\"2020-10-01T01:00:00+02:00\",\"2020-10-01T02:00:00+02:00\",\"2020-10-01T03:00:00+02:00\",\"2020-10-01T04:00:00+02:00\",\"2020-10-01T05:00:00+02:00\",\"2020-10-01T06:00:00+02:00\",\"2020-10-01T07:00:00+02:00\",\"2020-10-01T08:00:00+02:00\",\"2020-10-01T09:00:00+02:00\",\"2020-10-01T10:00:00+02:00\",\"2020-10-01T11:00:00+02:00\",\"2020-10-01T12:00:00+02:00\",\"2020-10-01T13:00:00+02:00\",\"2020-10-01T14:00:00+02:00\",\"2020-10-01T15:00:00+02:00\",\"2020-10-01T16:00:00+02:00\",\"2020-10-01T17:00:00+02:00\",\"2020-10-01T18:00:00+02:00\",\"2020-10-01T19:00:00+02:00\",\"2020-10-01T20:00:00+02:00\",\"2020-10-01T21:00:00+02:00\",\"2020-10-01T22:00:00+02:00\",\"2020-10-01T23:00:00+02:00\",\"2020-10-02T00:00:00+02:00\",\"2020-10-02T01:00:00+02:00\"],\"y\":[5131.0,4884.0,4845.0,4788.0,4967.0,5621.0,6853.0,7726.0,8056.0,8119.0,8214.0,8298.0,8080.0,8004.0,7899.0,7821.0,7767.0,7809.0,7902.0,7825.0,7359.0,6759.0,6400.0,5869.0,5600.0,5363.0,5273.0,5192.0,5303.0,5836.0,6864.0,7645.0,7938.0,7961.0,8031.0,8093.0,7892.0,7831.0,7714.0,7662.0,7617.0,7654.0,7734.0,7746.0,7259.0,6643.0,6320.0,5856.0,5595.0,5324.0,5228.0,5141.0,5270.0,5839.0,6848.0,7614.0,7902.0,7931.0,7987.0,8051.0,7873.0,7808.0,7700.0,7635.0,7586.0,7622.0,7714.0,7711.0,7245.0,6661.0,6336.0,5932.0,5628.0,5395.0,null,null,null,null,null,null,null,null,null,null,null,null,null,null,null,null,null,null,null,null,null,null,null,null],\"type\":\"scatter\"},{\"line\":{\"color\":\"rgb(31, 119, 180)\"},\"mode\":\"lines\",\"name\":\"Proyecci\\u00f3n\",\"x\":[\"2020-09-28T00:00:00+02:00\",\"2020-09-28T01:00:00+02:00\",\"2020-09-28T02:00:00+02:00\",\"2020-09-28T03:00:00+02:00\",\"2020-09-28T04:00:00+02:00\",\"2020-09-28T05:00:00+02:00\",\"2020-09-28T06:00:00+02:00\",\"2020-09-28T07:00:00+02:00\",\"2020-09-28T08:00:00+02:00\",\"2020-09-28T09:00:00+02:00\",\"2020-09-28T10:00:00+02:00\",\"2020-09-28T11:00:00+02:00\",\"2020-09-28T12:00:00+02:00\",\"2020-09-28T13:00:00+02:00\",\"2020-09-28T14:00:00+02:00\",\"2020-09-28T15:00:00+02:00\",\"2020-09-28T16:00:00+02:00\",\"2020-09-28T17:00:00+02:00\",\"2020-09-28T18:00:00+02:00\",\"2020-09-28T19:00:00+02:00\",\"2020-09-28T20:00:00+02:00\",\"2020-09-28T21:00:00+02:00\",\"2020-09-28T22:00:00+02:00\",\"2020-09-28T23:00:00+02:00\",\"2020-09-29T00:00:00+02:00\",\"2020-09-29T01:00:00+02:00\",\"2020-09-29T02:00:00+02:00\",\"2020-09-29T03:00:00+02:00\",\"2020-09-29T04:00:00+02:00\",\"2020-09-29T05:00:00+02:00\",\"2020-09-29T06:00:00+02:00\",\"2020-09-29T07:00:00+02:00\",\"2020-09-29T08:00:00+02:00\",\"2020-09-29T09:00:00+02:00\",\"2020-09-29T10:00:00+02:00\",\"2020-09-29T11:00:00+02:00\",\"2020-09-29T12:00:00+02:00\",\"2020-09-29T13:00:00+02:00\",\"2020-09-29T14:00:00+02:00\",\"2020-09-29T15:00:00+02:00\",\"2020-09-29T16:00:00+02:00\",\"2020-09-29T17:00:00+02:00\",\"2020-09-29T18:00:00+02:00\",\"2020-09-29T19:00:00+02:00\",\"2020-09-29T20:00:00+02:00\",\"2020-09-29T21:00:00+02:00\",\"2020-09-29T22:00:00+02:00\",\"2020-09-29T23:00:00+02:00\",\"2020-09-30T00:00:00+02:00\",\"2020-09-30T01:00:00+02:00\",\"2020-09-30T02:00:00+02:00\",\"2020-09-30T03:00:00+02:00\",\"2020-09-30T04:00:00+02:00\",\"2020-09-30T05:00:00+02:00\",\"2020-09-30T06:00:00+02:00\",\"2020-09-30T07:00:00+02:00\",\"2020-09-30T08:00:00+02:00\",\"2020-09-30T09:00:00+02:00\",\"2020-09-30T10:00:00+02:00\",\"2020-09-30T11:00:00+02:00\",\"2020-09-30T12:00:00+02:00\",\"2020-09-30T13:00:00+02:00\",\"2020-09-30T14:00:00+02:00\",\"2020-09-30T15:00:00+02:00\",\"2020-09-30T16:00:00+02:00\",\"2020-09-30T17:00:00+02:00\",\"2020-09-30T18:00:00+02:00\",\"2020-09-30T19:00:00+02:00\",\"2020-09-30T20:00:00+02:00\",\"2020-09-30T21:00:00+02:00\",\"2020-09-30T22:00:00+02:00\",\"2020-09-30T23:00:00+02:00\",\"2020-10-01T00:00:00+02:00\",\"2020-10-01T01:00:00+02:00\",\"2020-10-01T02:00:00+02:00\",\"2020-10-01T03:00:00+02:00\",\"2020-10-01T04:00:00+02:00\",\"2020-10-01T05:00:00+02:00\",\"2020-10-01T06:00:00+02:00\",\"2020-10-01T07:00:00+02:00\",\"2020-10-01T08:00:00+02:00\",\"2020-10-01T09:00:00+02:00\",\"2020-10-01T10:00:00+02:00\",\"2020-10-01T11:00:00+02:00\",\"2020-10-01T12:00:00+02:00\",\"2020-10-01T13:00:00+02:00\",\"2020-10-01T14:00:00+02:00\",\"2020-10-01T15:00:00+02:00\",\"2020-10-01T16:00:00+02:00\",\"2020-10-01T17:00:00+02:00\",\"2020-10-01T18:00:00+02:00\",\"2020-10-01T19:00:00+02:00\",\"2020-10-01T20:00:00+02:00\",\"2020-10-01T21:00:00+02:00\",\"2020-10-01T22:00:00+02:00\",\"2020-10-01T23:00:00+02:00\",\"2020-10-02T00:00:00+02:00\",\"2020-10-02T01:00:00+02:00\"],\"y\":[null,null,null,null,null,null,null,null,null,null,null,null,null,null,null,null,null,null,null,null,null,null,null,null,null,null,null,null,null,null,null,null,null,null,null,null,null,null,null,null,null,null,null,null,null,null,null,null,null,null,null,null,null,null,null,null,null,null,null,null,null,null,null,null,null,null,null,null,null,null,null,null,null,null,5346.936408672412,5286.664701001903,5403.980453773884,5884.37083815004,6728.988653819849,7402.8475632451145,7708.317350069113,7793.213584181803,7880.694886293375,7953.045993252257,7748.08666830609,7651.335333879349,7529.883320642765,7458.967918594185,7438.3916149097895,7504.784287209916,7612.595511393446,7605.140272408592,7227.911968848367,6700.519469710027,6434.272969955724,6034.757681517062,5737.514864634027,5469.306105065258],\"type\":\"scatter\"},{\"line\":{\"width\":0},\"marker\":{\"color\":\"#444\"},\"mode\":\"lines\",\"name\":\"Upper Bound\",\"showlegend\":false,\"x\":[\"2020-09-28T00:00:00+02:00\",\"2020-09-28T01:00:00+02:00\",\"2020-09-28T02:00:00+02:00\",\"2020-09-28T03:00:00+02:00\",\"2020-09-28T04:00:00+02:00\",\"2020-09-28T05:00:00+02:00\",\"2020-09-28T06:00:00+02:00\",\"2020-09-28T07:00:00+02:00\",\"2020-09-28T08:00:00+02:00\",\"2020-09-28T09:00:00+02:00\",\"2020-09-28T10:00:00+02:00\",\"2020-09-28T11:00:00+02:00\",\"2020-09-28T12:00:00+02:00\",\"2020-09-28T13:00:00+02:00\",\"2020-09-28T14:00:00+02:00\",\"2020-09-28T15:00:00+02:00\",\"2020-09-28T16:00:00+02:00\",\"2020-09-28T17:00:00+02:00\",\"2020-09-28T18:00:00+02:00\",\"2020-09-28T19:00:00+02:00\",\"2020-09-28T20:00:00+02:00\",\"2020-09-28T21:00:00+02:00\",\"2020-09-28T22:00:00+02:00\",\"2020-09-28T23:00:00+02:00\",\"2020-09-29T00:00:00+02:00\",\"2020-09-29T01:00:00+02:00\",\"2020-09-29T02:00:00+02:00\",\"2020-09-29T03:00:00+02:00\",\"2020-09-29T04:00:00+02:00\",\"2020-09-29T05:00:00+02:00\",\"2020-09-29T06:00:00+02:00\",\"2020-09-29T07:00:00+02:00\",\"2020-09-29T08:00:00+02:00\",\"2020-09-29T09:00:00+02:00\",\"2020-09-29T10:00:00+02:00\",\"2020-09-29T11:00:00+02:00\",\"2020-09-29T12:00:00+02:00\",\"2020-09-29T13:00:00+02:00\",\"2020-09-29T14:00:00+02:00\",\"2020-09-29T15:00:00+02:00\",\"2020-09-29T16:00:00+02:00\",\"2020-09-29T17:00:00+02:00\",\"2020-09-29T18:00:00+02:00\",\"2020-09-29T19:00:00+02:00\",\"2020-09-29T20:00:00+02:00\",\"2020-09-29T21:00:00+02:00\",\"2020-09-29T22:00:00+02:00\",\"2020-09-29T23:00:00+02:00\",\"2020-09-30T00:00:00+02:00\",\"2020-09-30T01:00:00+02:00\",\"2020-09-30T02:00:00+02:00\",\"2020-09-30T03:00:00+02:00\",\"2020-09-30T04:00:00+02:00\",\"2020-09-30T05:00:00+02:00\",\"2020-09-30T06:00:00+02:00\",\"2020-09-30T07:00:00+02:00\",\"2020-09-30T08:00:00+02:00\",\"2020-09-30T09:00:00+02:00\",\"2020-09-30T10:00:00+02:00\",\"2020-09-30T11:00:00+02:00\",\"2020-09-30T12:00:00+02:00\",\"2020-09-30T13:00:00+02:00\",\"2020-09-30T14:00:00+02:00\",\"2020-09-30T15:00:00+02:00\",\"2020-09-30T16:00:00+02:00\",\"2020-09-30T17:00:00+02:00\",\"2020-09-30T18:00:00+02:00\",\"2020-09-30T19:00:00+02:00\",\"2020-09-30T20:00:00+02:00\",\"2020-09-30T21:00:00+02:00\",\"2020-09-30T22:00:00+02:00\",\"2020-09-30T23:00:00+02:00\",\"2020-10-01T00:00:00+02:00\",\"2020-10-01T01:00:00+02:00\",\"2020-10-01T02:00:00+02:00\",\"2020-10-01T03:00:00+02:00\",\"2020-10-01T04:00:00+02:00\",\"2020-10-01T05:00:00+02:00\",\"2020-10-01T06:00:00+02:00\",\"2020-10-01T07:00:00+02:00\",\"2020-10-01T08:00:00+02:00\",\"2020-10-01T09:00:00+02:00\",\"2020-10-01T10:00:00+02:00\",\"2020-10-01T11:00:00+02:00\",\"2020-10-01T12:00:00+02:00\",\"2020-10-01T13:00:00+02:00\",\"2020-10-01T14:00:00+02:00\",\"2020-10-01T15:00:00+02:00\",\"2020-10-01T16:00:00+02:00\",\"2020-10-01T17:00:00+02:00\",\"2020-10-01T18:00:00+02:00\",\"2020-10-01T19:00:00+02:00\",\"2020-10-01T20:00:00+02:00\",\"2020-10-01T21:00:00+02:00\",\"2020-10-01T22:00:00+02:00\",\"2020-10-01T23:00:00+02:00\",\"2020-10-02T00:00:00+02:00\",\"2020-10-02T01:00:00+02:00\"],\"y\":[null,null,null,null,null,null,null,null,null,null,null,null,null,null,null,null,null,null,null,null,null,null,null,null,null,null,null,null,null,null,null,null,null,null,null,null,null,null,null,null,null,null,null,null,null,null,null,null,null,null,null,null,null,null,null,null,null,null,null,null,null,null,null,null,null,null,null,null,null,null,null,null,null,null,5433.052212606006,5463.3829860457845,5667.457782223077,6217.4092260857915,7120.256395996647,7844.893061823034,8195.909176757184,8322.451670537117,8448.533984371457,8557.024268848483,8386.160581849885,8321.773168500846,8231.193140116173,8189.846866204757,8197.689059463555,8291.47430403136,8425.755862019452,8443.936033660702,8091.582567143186,7588.3682606780485,7345.658754839287,6969.087720717494,6694.239064922038,6447.912138503223],\"type\":\"scatter\"},{\"fill\":\"tonexty\",\"fillcolor\":\"rgba(68, 68, 68, 0.3)\",\"line\":{\"width\":0},\"marker\":{\"color\":\"#444\"},\"mode\":\"lines\",\"name\":\"Lower Bound\",\"showlegend\":false,\"x\":[\"2020-09-28T00:00:00+02:00\",\"2020-09-28T01:00:00+02:00\",\"2020-09-28T02:00:00+02:00\",\"2020-09-28T03:00:00+02:00\",\"2020-09-28T04:00:00+02:00\",\"2020-09-28T05:00:00+02:00\",\"2020-09-28T06:00:00+02:00\",\"2020-09-28T07:00:00+02:00\",\"2020-09-28T08:00:00+02:00\",\"2020-09-28T09:00:00+02:00\",\"2020-09-28T10:00:00+02:00\",\"2020-09-28T11:00:00+02:00\",\"2020-09-28T12:00:00+02:00\",\"2020-09-28T13:00:00+02:00\",\"2020-09-28T14:00:00+02:00\",\"2020-09-28T15:00:00+02:00\",\"2020-09-28T16:00:00+02:00\",\"2020-09-28T17:00:00+02:00\",\"2020-09-28T18:00:00+02:00\",\"2020-09-28T19:00:00+02:00\",\"2020-09-28T20:00:00+02:00\",\"2020-09-28T21:00:00+02:00\",\"2020-09-28T22:00:00+02:00\",\"2020-09-28T23:00:00+02:00\",\"2020-09-29T00:00:00+02:00\",\"2020-09-29T01:00:00+02:00\",\"2020-09-29T02:00:00+02:00\",\"2020-09-29T03:00:00+02:00\",\"2020-09-29T04:00:00+02:00\",\"2020-09-29T05:00:00+02:00\",\"2020-09-29T06:00:00+02:00\",\"2020-09-29T07:00:00+02:00\",\"2020-09-29T08:00:00+02:00\",\"2020-09-29T09:00:00+02:00\",\"2020-09-29T10:00:00+02:00\",\"2020-09-29T11:00:00+02:00\",\"2020-09-29T12:00:00+02:00\",\"2020-09-29T13:00:00+02:00\",\"2020-09-29T14:00:00+02:00\",\"2020-09-29T15:00:00+02:00\",\"2020-09-29T16:00:00+02:00\",\"2020-09-29T17:00:00+02:00\",\"2020-09-29T18:00:00+02:00\",\"2020-09-29T19:00:00+02:00\",\"2020-09-29T20:00:00+02:00\",\"2020-09-29T21:00:00+02:00\",\"2020-09-29T22:00:00+02:00\",\"2020-09-29T23:00:00+02:00\",\"2020-09-30T00:00:00+02:00\",\"2020-09-30T01:00:00+02:00\",\"2020-09-30T02:00:00+02:00\",\"2020-09-30T03:00:00+02:00\",\"2020-09-30T04:00:00+02:00\",\"2020-09-30T05:00:00+02:00\",\"2020-09-30T06:00:00+02:00\",\"2020-09-30T07:00:00+02:00\",\"2020-09-30T08:00:00+02:00\",\"2020-09-30T09:00:00+02:00\",\"2020-09-30T10:00:00+02:00\",\"2020-09-30T11:00:00+02:00\",\"2020-09-30T12:00:00+02:00\",\"2020-09-30T13:00:00+02:00\",\"2020-09-30T14:00:00+02:00\",\"2020-09-30T15:00:00+02:00\",\"2020-09-30T16:00:00+02:00\",\"2020-09-30T17:00:00+02:00\",\"2020-09-30T18:00:00+02:00\",\"2020-09-30T19:00:00+02:00\",\"2020-09-30T20:00:00+02:00\",\"2020-09-30T21:00:00+02:00\",\"2020-09-30T22:00:00+02:00\",\"2020-09-30T23:00:00+02:00\",\"2020-10-01T00:00:00+02:00\",\"2020-10-01T01:00:00+02:00\",\"2020-10-01T02:00:00+02:00\",\"2020-10-01T03:00:00+02:00\",\"2020-10-01T04:00:00+02:00\",\"2020-10-01T05:00:00+02:00\",\"2020-10-01T06:00:00+02:00\",\"2020-10-01T07:00:00+02:00\",\"2020-10-01T08:00:00+02:00\",\"2020-10-01T09:00:00+02:00\",\"2020-10-01T10:00:00+02:00\",\"2020-10-01T11:00:00+02:00\",\"2020-10-01T12:00:00+02:00\",\"2020-10-01T13:00:00+02:00\",\"2020-10-01T14:00:00+02:00\",\"2020-10-01T15:00:00+02:00\",\"2020-10-01T16:00:00+02:00\",\"2020-10-01T17:00:00+02:00\",\"2020-10-01T18:00:00+02:00\",\"2020-10-01T19:00:00+02:00\",\"2020-10-01T20:00:00+02:00\",\"2020-10-01T21:00:00+02:00\",\"2020-10-01T22:00:00+02:00\",\"2020-10-01T23:00:00+02:00\",\"2020-10-02T00:00:00+02:00\",\"2020-10-02T01:00:00+02:00\"],\"y\":[null,null,null,null,null,null,null,null,null,null,null,null,null,null,null,null,null,null,null,null,null,null,null,null,null,null,null,null,null,null,null,null,null,null,null,null,null,null,null,null,null,null,null,null,null,null,null,null,null,null,null,null,null,null,null,null,null,null,null,null,null,null,null,null,null,null,null,null,null,null,null,null,null,null,5260.820604738818,5109.946415958022,5140.503125324691,5551.332450214289,6337.72091164305,6960.802064667195,7220.725523381042,7263.975497826488,7312.855788215294,7349.067717656031,7110.012754762296,6980.897499257851,6828.573501169359,6728.088970983613,6679.094170356024,6718.094270388472,6799.435160767439,6766.344511156481,6364.241370553548,5812.670678742005,5522.887185072161,5100.42764231663,4780.790664346016,4490.700071627292],\"type\":\"scatter\"}],                        {\"template\":{\"data\":{\"histogram2dcontour\":[{\"type\":\"histogram2dcontour\",\"colorbar\":{\"outlinewidth\":0,\"ticks\":\"\"},\"colorscale\":[[0.0,\"#0d0887\"],[0.1111111111111111,\"#46039f\"],[0.2222222222222222,\"#7201a8\"],[0.3333333333333333,\"#9c179e\"],[0.4444444444444444,\"#bd3786\"],[0.5555555555555556,\"#d8576b\"],[0.6666666666666666,\"#ed7953\"],[0.7777777777777778,\"#fb9f3a\"],[0.8888888888888888,\"#fdca26\"],[1.0,\"#f0f921\"]]}],\"choropleth\":[{\"type\":\"choropleth\",\"colorbar\":{\"outlinewidth\":0,\"ticks\":\"\"}}],\"histogram2d\":[{\"type\":\"histogram2d\",\"colorbar\":{\"outlinewidth\":0,\"ticks\":\"\"},\"colorscale\":[[0.0,\"#0d0887\"],[0.1111111111111111,\"#46039f\"],[0.2222222222222222,\"#7201a8\"],[0.3333333333333333,\"#9c179e\"],[0.4444444444444444,\"#bd3786\"],[0.5555555555555556,\"#d8576b\"],[0.6666666666666666,\"#ed7953\"],[0.7777777777777778,\"#fb9f3a\"],[0.8888888888888888,\"#fdca26\"],[1.0,\"#f0f921\"]]}],\"heatmap\":[{\"type\":\"heatmap\",\"colorbar\":{\"outlinewidth\":0,\"ticks\":\"\"},\"colorscale\":[[0.0,\"#0d0887\"],[0.1111111111111111,\"#46039f\"],[0.2222222222222222,\"#7201a8\"],[0.3333333333333333,\"#9c179e\"],[0.4444444444444444,\"#bd3786\"],[0.5555555555555556,\"#d8576b\"],[0.6666666666666666,\"#ed7953\"],[0.7777777777777778,\"#fb9f3a\"],[0.8888888888888888,\"#fdca26\"],[1.0,\"#f0f921\"]]}],\"heatmapgl\":[{\"type\":\"heatmapgl\",\"colorbar\":{\"outlinewidth\":0,\"ticks\":\"\"},\"colorscale\":[[0.0,\"#0d0887\"],[0.1111111111111111,\"#46039f\"],[0.2222222222222222,\"#7201a8\"],[0.3333333333333333,\"#9c179e\"],[0.4444444444444444,\"#bd3786\"],[0.5555555555555556,\"#d8576b\"],[0.6666666666666666,\"#ed7953\"],[0.7777777777777778,\"#fb9f3a\"],[0.8888888888888888,\"#fdca26\"],[1.0,\"#f0f921\"]]}],\"contourcarpet\":[{\"type\":\"contourcarpet\",\"colorbar\":{\"outlinewidth\":0,\"ticks\":\"\"}}],\"contour\":[{\"type\":\"contour\",\"colorbar\":{\"outlinewidth\":0,\"ticks\":\"\"},\"colorscale\":[[0.0,\"#0d0887\"],[0.1111111111111111,\"#46039f\"],[0.2222222222222222,\"#7201a8\"],[0.3333333333333333,\"#9c179e\"],[0.4444444444444444,\"#bd3786\"],[0.5555555555555556,\"#d8576b\"],[0.6666666666666666,\"#ed7953\"],[0.7777777777777778,\"#fb9f3a\"],[0.8888888888888888,\"#fdca26\"],[1.0,\"#f0f921\"]]}],\"surface\":[{\"type\":\"surface\",\"colorbar\":{\"outlinewidth\":0,\"ticks\":\"\"},\"colorscale\":[[0.0,\"#0d0887\"],[0.1111111111111111,\"#46039f\"],[0.2222222222222222,\"#7201a8\"],[0.3333333333333333,\"#9c179e\"],[0.4444444444444444,\"#bd3786\"],[0.5555555555555556,\"#d8576b\"],[0.6666666666666666,\"#ed7953\"],[0.7777777777777778,\"#fb9f3a\"],[0.8888888888888888,\"#fdca26\"],[1.0,\"#f0f921\"]]}],\"mesh3d\":[{\"type\":\"mesh3d\",\"colorbar\":{\"outlinewidth\":0,\"ticks\":\"\"}}],\"scatter\":[{\"fillpattern\":{\"fillmode\":\"overlay\",\"size\":10,\"solidity\":0.2},\"type\":\"scatter\"}],\"parcoords\":[{\"type\":\"parcoords\",\"line\":{\"colorbar\":{\"outlinewidth\":0,\"ticks\":\"\"}}}],\"scatterpolargl\":[{\"type\":\"scatterpolargl\",\"marker\":{\"colorbar\":{\"outlinewidth\":0,\"ticks\":\"\"}}}],\"bar\":[{\"error_x\":{\"color\":\"#2a3f5f\"},\"error_y\":{\"color\":\"#2a3f5f\"},\"marker\":{\"line\":{\"color\":\"#E5ECF6\",\"width\":0.5},\"pattern\":{\"fillmode\":\"overlay\",\"size\":10,\"solidity\":0.2}},\"type\":\"bar\"}],\"scattergeo\":[{\"type\":\"scattergeo\",\"marker\":{\"colorbar\":{\"outlinewidth\":0,\"ticks\":\"\"}}}],\"scatterpolar\":[{\"type\":\"scatterpolar\",\"marker\":{\"colorbar\":{\"outlinewidth\":0,\"ticks\":\"\"}}}],\"histogram\":[{\"marker\":{\"pattern\":{\"fillmode\":\"overlay\",\"size\":10,\"solidity\":0.2}},\"type\":\"histogram\"}],\"scattergl\":[{\"type\":\"scattergl\",\"marker\":{\"colorbar\":{\"outlinewidth\":0,\"ticks\":\"\"}}}],\"scatter3d\":[{\"type\":\"scatter3d\",\"line\":{\"colorbar\":{\"outlinewidth\":0,\"ticks\":\"\"}},\"marker\":{\"colorbar\":{\"outlinewidth\":0,\"ticks\":\"\"}}}],\"scattermapbox\":[{\"type\":\"scattermapbox\",\"marker\":{\"colorbar\":{\"outlinewidth\":0,\"ticks\":\"\"}}}],\"scatterternary\":[{\"type\":\"scatterternary\",\"marker\":{\"colorbar\":{\"outlinewidth\":0,\"ticks\":\"\"}}}],\"scattercarpet\":[{\"type\":\"scattercarpet\",\"marker\":{\"colorbar\":{\"outlinewidth\":0,\"ticks\":\"\"}}}],\"carpet\":[{\"aaxis\":{\"endlinecolor\":\"#2a3f5f\",\"gridcolor\":\"white\",\"linecolor\":\"white\",\"minorgridcolor\":\"white\",\"startlinecolor\":\"#2a3f5f\"},\"baxis\":{\"endlinecolor\":\"#2a3f5f\",\"gridcolor\":\"white\",\"linecolor\":\"white\",\"minorgridcolor\":\"white\",\"startlinecolor\":\"#2a3f5f\"},\"type\":\"carpet\"}],\"table\":[{\"cells\":{\"fill\":{\"color\":\"#EBF0F8\"},\"line\":{\"color\":\"white\"}},\"header\":{\"fill\":{\"color\":\"#C8D4E3\"},\"line\":{\"color\":\"white\"}},\"type\":\"table\"}],\"barpolar\":[{\"marker\":{\"line\":{\"color\":\"#E5ECF6\",\"width\":0.5},\"pattern\":{\"fillmode\":\"overlay\",\"size\":10,\"solidity\":0.2}},\"type\":\"barpolar\"}],\"pie\":[{\"automargin\":true,\"type\":\"pie\"}]},\"layout\":{\"autotypenumbers\":\"strict\",\"colorway\":[\"#636efa\",\"#EF553B\",\"#00cc96\",\"#ab63fa\",\"#FFA15A\",\"#19d3f3\",\"#FF6692\",\"#B6E880\",\"#FF97FF\",\"#FECB52\"],\"font\":{\"color\":\"#2a3f5f\"},\"hovermode\":\"closest\",\"hoverlabel\":{\"align\":\"left\"},\"paper_bgcolor\":\"white\",\"plot_bgcolor\":\"#E5ECF6\",\"polar\":{\"bgcolor\":\"#E5ECF6\",\"angularaxis\":{\"gridcolor\":\"white\",\"linecolor\":\"white\",\"ticks\":\"\"},\"radialaxis\":{\"gridcolor\":\"white\",\"linecolor\":\"white\",\"ticks\":\"\"}},\"ternary\":{\"bgcolor\":\"#E5ECF6\",\"aaxis\":{\"gridcolor\":\"white\",\"linecolor\":\"white\",\"ticks\":\"\"},\"baxis\":{\"gridcolor\":\"white\",\"linecolor\":\"white\",\"ticks\":\"\"},\"caxis\":{\"gridcolor\":\"white\",\"linecolor\":\"white\",\"ticks\":\"\"}},\"coloraxis\":{\"colorbar\":{\"outlinewidth\":0,\"ticks\":\"\"}},\"colorscale\":{\"sequential\":[[0.0,\"#0d0887\"],[0.1111111111111111,\"#46039f\"],[0.2222222222222222,\"#7201a8\"],[0.3333333333333333,\"#9c179e\"],[0.4444444444444444,\"#bd3786\"],[0.5555555555555556,\"#d8576b\"],[0.6666666666666666,\"#ed7953\"],[0.7777777777777778,\"#fb9f3a\"],[0.8888888888888888,\"#fdca26\"],[1.0,\"#f0f921\"]],\"sequentialminus\":[[0.0,\"#0d0887\"],[0.1111111111111111,\"#46039f\"],[0.2222222222222222,\"#7201a8\"],[0.3333333333333333,\"#9c179e\"],[0.4444444444444444,\"#bd3786\"],[0.5555555555555556,\"#d8576b\"],[0.6666666666666666,\"#ed7953\"],[0.7777777777777778,\"#fb9f3a\"],[0.8888888888888888,\"#fdca26\"],[1.0,\"#f0f921\"]],\"diverging\":[[0,\"#8e0152\"],[0.1,\"#c51b7d\"],[0.2,\"#de77ae\"],[0.3,\"#f1b6da\"],[0.4,\"#fde0ef\"],[0.5,\"#f7f7f7\"],[0.6,\"#e6f5d0\"],[0.7,\"#b8e186\"],[0.8,\"#7fbc41\"],[0.9,\"#4d9221\"],[1,\"#276419\"]]},\"xaxis\":{\"gridcolor\":\"white\",\"linecolor\":\"white\",\"ticks\":\"\",\"title\":{\"standoff\":15},\"zerolinecolor\":\"white\",\"automargin\":true,\"zerolinewidth\":2},\"yaxis\":{\"gridcolor\":\"white\",\"linecolor\":\"white\",\"ticks\":\"\",\"title\":{\"standoff\":15},\"zerolinecolor\":\"white\",\"automargin\":true,\"zerolinewidth\":2},\"scene\":{\"xaxis\":{\"backgroundcolor\":\"#E5ECF6\",\"gridcolor\":\"white\",\"linecolor\":\"white\",\"showbackground\":true,\"ticks\":\"\",\"zerolinecolor\":\"white\",\"gridwidth\":2},\"yaxis\":{\"backgroundcolor\":\"#E5ECF6\",\"gridcolor\":\"white\",\"linecolor\":\"white\",\"showbackground\":true,\"ticks\":\"\",\"zerolinecolor\":\"white\",\"gridwidth\":2},\"zaxis\":{\"backgroundcolor\":\"#E5ECF6\",\"gridcolor\":\"white\",\"linecolor\":\"white\",\"showbackground\":true,\"ticks\":\"\",\"zerolinecolor\":\"white\",\"gridwidth\":2}},\"shapedefaults\":{\"line\":{\"color\":\"#2a3f5f\"}},\"annotationdefaults\":{\"arrowcolor\":\"#2a3f5f\",\"arrowhead\":0,\"arrowwidth\":1},\"geo\":{\"bgcolor\":\"white\",\"landcolor\":\"#E5ECF6\",\"subunitcolor\":\"white\",\"showland\":true,\"showlakes\":true,\"lakecolor\":\"white\"},\"title\":{\"x\":0.05},\"mapbox\":{\"style\":\"light\"}}},\"yaxis\":{\"title\":{\"text\":\"Wind speed (m/s)\"}},\"title\":{\"text\":\"Continuous, variable value error bars\"},\"hovermode\":\"x\"},                        {\"responsive\": true}                    ).then(function(){\n",
       "                            \n",
       "var gd = document.getElementById('5fcaf58f-db33-4194-9258-db65d34cb001');\n",
       "var x = new MutationObserver(function (mutations, observer) {{\n",
       "        var display = window.getComputedStyle(gd).display;\n",
       "        if (!display || display === 'none') {{\n",
       "            console.log([gd, 'removed!']);\n",
       "            Plotly.purge(gd);\n",
       "            observer.disconnect();\n",
       "        }}\n",
       "}});\n",
       "\n",
       "// Listen for the removal of the full notebook cells\n",
       "var notebookContainer = gd.closest('#notebook-container');\n",
       "if (notebookContainer) {{\n",
       "    x.observe(notebookContainer, {childList: true});\n",
       "}}\n",
       "\n",
       "// Listen for the clearing of the current output cell\n",
       "var outputEl = gd.closest('.output');\n",
       "if (outputEl) {{\n",
       "    x.observe(outputEl, {childList: true});\n",
       "}}\n",
       "\n",
       "                        })                };                });            </script>        </div>"
      ]
     },
     "metadata": {},
     "output_type": "display_data"
    }
   ],
   "source": [
    "import plotly.graph_objs as go\n",
    "\n",
    "data_plot = data_pred.loc['2020-09-28':]\n",
    "fig = go.Figure([\n",
    "    go.Scatter(\n",
    "        name='Demanda energética',\n",
    "        x=data_plot.index,\n",
    "        y=data_plot['AT_load_actual_entsoe_transparency'],\n",
    "        mode='lines',\n",
    "        line=dict(color='rgb(31, 119, 180)'),\n",
    "    ),\n",
    "    go.Scatter(\n",
    "        name='Proyección',\n",
    "        x=data_plot.index,\n",
    "        y=data_plot['forecast'],\n",
    "        mode='lines',\n",
    "        line=dict(color='rgb(31, 119, 180)'),\n",
    "    ),\n",
    "    go.Scatter(\n",
    "        name='Upper Bound',\n",
    "        x=data_plot.index,\n",
    "        y=data_plot['Upper bound'],\n",
    "        mode='lines',\n",
    "        marker=dict(color=\"#444\"),\n",
    "        line=dict(width=0),\n",
    "        showlegend=False\n",
    "    ),\n",
    "    go.Scatter(\n",
    "        name='Lower Bound',\n",
    "        x=data_plot.index,\n",
    "        y=data_plot['Lower bound'],\n",
    "        marker=dict(color=\"#444\"),\n",
    "        line=dict(width=0),\n",
    "        mode='lines',\n",
    "        fillcolor='rgba(68, 68, 68, 0.3)',\n",
    "        fill='tonexty',\n",
    "        showlegend=False\n",
    "    )\n",
    "])\n",
    "fig.update_layout(\n",
    "    yaxis_title='Wind speed (m/s)',\n",
    "    title='Continuous, variable value error bars',\n",
    "    hovermode=\"x\"\n",
    ")\n",
    "fig.show()"
   ]
  },
  {
   "cell_type": "markdown",
   "metadata": {},
   "source": [
    "Para cargar el modelo:"
   ]
  },
  {
   "cell_type": "code",
   "execution_count": 49,
   "metadata": {},
   "outputs": [],
   "source": [
    "import statsmodels as sm"
   ]
  },
  {
   "cell_type": "code",
   "execution_count": 50,
   "metadata": {},
   "outputs": [],
   "source": [
    "model2 = sm.tsa.statespace.sarimax.SARIMAXResults.load(\"SARIMA11221224.pkl\")"
   ]
  }
 ],
 "metadata": {
  "kernelspec": {
   "display_name": "Python 3",
   "language": "python",
   "name": "python3"
  },
  "language_info": {
   "codemirror_mode": {
    "name": "ipython",
    "version": 3
   },
   "file_extension": ".py",
   "mimetype": "text/x-python",
   "name": "python",
   "nbconvert_exporter": "python",
   "pygments_lexer": "ipython3",
   "version": "3.8.8"
  },
  "vscode": {
   "interpreter": {
    "hash": "60c44fe3fe06e59038b8ba257976ab92ee503687eb42d70d890aa9534d61bbf5"
   }
  }
 },
 "nbformat": 4,
 "nbformat_minor": 2
}
